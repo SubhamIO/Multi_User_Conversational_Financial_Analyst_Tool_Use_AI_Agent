{
  "nbformat": 4,
  "nbformat_minor": 0,
  "metadata": {
    "colab": {
      "provenance": []
    },
    "kernelspec": {
      "name": "python3",
      "display_name": "Python 3"
    },
    "language_info": {
      "name": "python"
    }
  },
  "cells": [
    {
      "cell_type": "markdown",
      "source": [
        "# Build a Multi-User Conversational Financial Analyst Tool-Use AI Agent with In-Memory Persistence with LangGraph"
      ],
      "metadata": {
        "id": "8pdRDlVs1MJs"
      }
    },
    {
      "cell_type": "markdown",
      "source": [
        "This project will focus on building a Tool-Use Agentic AI System which acts as a Financial Analyst & Advisor. This agent will be conversational and can handle multiple user-sessions with their own separate conversational history.\n",
        "\n",
        "The first project here will build a conversational tool-use agentic system with in-memory persistence.\n",
        "\n",
        "![](https://i.imgur.com/dKD7L6Q.png)\n",
        "\n",
        "### Financial Analyst Tool-Use Agentic AI System with In-Memory Persistence\n",
        "\n",
        "This project focuses on building a **Tool-Use Agentic AI System** that acts as a Financial Analyst & Advisor. The agent will be conversational and can handle multiple user sessions with their own separate conversational history. By leveraging the `create_react_agent` function from **LangGraph**, this project adds in-memory persistence for enhanced user interaction continuity. The workflow comprises the following components:\n",
        "\n",
        "1. **Agent System Prompt**:\n",
        "   - The agent validates input queries for relevance and specificity.\n",
        "   - It provides detailed market analysis or stock-specific insights depending on the user's query.\n",
        "   - For invalid queries, the agent responds professionally and guides the user appropriately.\n",
        "   - The system delivers concise, professional responses emphasizing data clarity and accuracy.\n",
        "\n",
        "   **Flows**:\n",
        "   - **Flow 1**: For general market trends, the agent analyzes data and suggests stock opportunities using tools like `SEARCH_WEB` and `GET_GENERAL_MARKET_DATA`.\n",
        "   - **Flow 2**: For stock-specific queries, the agent validates the stock ticker, retrieves relevant data, and provides insights using tools such as `GET_STOCK_FUNDAMENTAL_INDICATOR_METRICS` and `GET_STOCK_PRICE_METRICS`.\n",
        "\n",
        "2. **Financial Analysis Tools**:\n",
        "   The system integrates multiple tools to ensure comprehensive and precise insights:\n",
        "   - **SEARCH_WEB**: Fetches general stock market information from the web.\n",
        "   - **GET_STOCK_FUNDAMENTAL_INDICATOR_METRICS**: Provides insights into key financial metrics such as P/E ratio, ROE, etc.\n",
        "   - **GET_STOCK_NEWS**: Extracts the latest news and updates related to stocks or markets.\n",
        "   - **GET_GENERAL_MARKET_DATA**: Fetches data on overall market trends and performance.\n",
        "   - **GET_STOCK_TICKER**: Validates and fetches stock ticker symbols based on user queries.\n",
        "   - **GET_STOCK_PRICE_METRICS**: Retrieves price trends, performance, and metrics for specific stocks.\n",
        "\n",
        "3. **Stock Market Data Providers**:\n",
        "   The system ensures real-time, reliable data by integrating with top providers like Yahoo Finance, Finviz, TMX, Cboe, and more, through platforms such as **OpenBB**.\n",
        "\n",
        "4. **Memory Module**:\n",
        "   - A memory module is introduced to store and manage user-specific conversational histories.\n",
        "   - This enables the agent to maintain session continuity and provide context-aware responses for recurring users or prolonged interactions. __Here we store this in-memory.__\n",
        "\n",
        "5. **Message Trimmer**:\n",
        "   - Trims responses to ensure they are concise, professional, and reader-friendly, improving user experience and response quality.\n",
        "\n",
        "6. **ReAct Reasoning Framework**:\n",
        "   - The system employs **ReAct reasoning**, combining logical deduction with dynamic tool usage. This framework ensures precise and actionable results by dynamically selecting the right tools based on the query.\n",
        "\n",
        "7. **Final Response**:\n",
        "   - After processing the data from tool calls, the agentic system generates the final response.\n",
        "\n",
        "\n",
        "\n",
        "\n"
      ],
      "metadata": {
        "id": "NYBpZTjLnEXb"
      }
    },
    {
      "cell_type": "markdown",
      "source": [
        "## Install OpenAI, LangGraph and LangChain dependencies"
      ],
      "metadata": {
        "id": "9hEI3WL328vZ"
      }
    },
    {
      "cell_type": "code",
      "source": [
        "!pip install langchain==0.3.14\n",
        "!pip install langchain-openai==0.3.0\n",
        "!pip install langchain-community==0.3.14\n",
        "!pip install langgraph==0.2.64\n",
        "!pip install langgraph-checkpoint-sqlite==3.0.5\n",
        "# fix yfinance to stable version\n",
        "!pip install yfinance==0.2.51"
      ],
      "metadata": {
        "id": "2evPp14fy258",
        "colab": {
          "base_uri": "https://localhost:8080/"
        },
        "outputId": "16772b3a-881d-405d-e69e-42b9c45d570e"
      },
      "execution_count": 1,
      "outputs": [
        {
          "output_type": "stream",
          "name": "stdout",
          "text": [
            "Collecting langchain==0.3.14\n",
            "  Downloading langchain-0.3.14-py3-none-any.whl.metadata (7.1 kB)\n",
            "Requirement already satisfied: PyYAML>=5.3 in /usr/local/lib/python3.11/dist-packages (from langchain==0.3.14) (6.0.2)\n",
            "Requirement already satisfied: SQLAlchemy<3,>=1.4 in /usr/local/lib/python3.11/dist-packages (from langchain==0.3.14) (2.0.37)\n",
            "Requirement already satisfied: aiohttp<4.0.0,>=3.8.3 in /usr/local/lib/python3.11/dist-packages (from langchain==0.3.14) (3.11.11)\n",
            "Requirement already satisfied: langchain-core<0.4.0,>=0.3.29 in /usr/local/lib/python3.11/dist-packages (from langchain==0.3.14) (0.3.31)\n",
            "Requirement already satisfied: langchain-text-splitters<0.4.0,>=0.3.3 in /usr/local/lib/python3.11/dist-packages (from langchain==0.3.14) (0.3.5)\n",
            "Collecting langsmith<0.3,>=0.1.17 (from langchain==0.3.14)\n",
            "  Downloading langsmith-0.2.11-py3-none-any.whl.metadata (14 kB)\n",
            "Requirement already satisfied: numpy<2,>=1.22.4 in /usr/local/lib/python3.11/dist-packages (from langchain==0.3.14) (1.26.4)\n",
            "Requirement already satisfied: pydantic<3.0.0,>=2.7.4 in /usr/local/lib/python3.11/dist-packages (from langchain==0.3.14) (2.10.5)\n",
            "Requirement already satisfied: requests<3,>=2 in /usr/local/lib/python3.11/dist-packages (from langchain==0.3.14) (2.32.3)\n",
            "Requirement already satisfied: tenacity!=8.4.0,<10,>=8.1.0 in /usr/local/lib/python3.11/dist-packages (from langchain==0.3.14) (9.0.0)\n",
            "Requirement already satisfied: aiohappyeyeballs>=2.3.0 in /usr/local/lib/python3.11/dist-packages (from aiohttp<4.0.0,>=3.8.3->langchain==0.3.14) (2.4.4)\n",
            "Requirement already satisfied: aiosignal>=1.1.2 in /usr/local/lib/python3.11/dist-packages (from aiohttp<4.0.0,>=3.8.3->langchain==0.3.14) (1.3.2)\n",
            "Requirement already satisfied: attrs>=17.3.0 in /usr/local/lib/python3.11/dist-packages (from aiohttp<4.0.0,>=3.8.3->langchain==0.3.14) (24.3.0)\n",
            "Requirement already satisfied: frozenlist>=1.1.1 in /usr/local/lib/python3.11/dist-packages (from aiohttp<4.0.0,>=3.8.3->langchain==0.3.14) (1.5.0)\n",
            "Requirement already satisfied: multidict<7.0,>=4.5 in /usr/local/lib/python3.11/dist-packages (from aiohttp<4.0.0,>=3.8.3->langchain==0.3.14) (6.1.0)\n",
            "Requirement already satisfied: propcache>=0.2.0 in /usr/local/lib/python3.11/dist-packages (from aiohttp<4.0.0,>=3.8.3->langchain==0.3.14) (0.2.1)\n",
            "Requirement already satisfied: yarl<2.0,>=1.17.0 in /usr/local/lib/python3.11/dist-packages (from aiohttp<4.0.0,>=3.8.3->langchain==0.3.14) (1.18.3)\n",
            "Requirement already satisfied: jsonpatch<2.0,>=1.33 in /usr/local/lib/python3.11/dist-packages (from langchain-core<0.4.0,>=0.3.29->langchain==0.3.14) (1.33)\n",
            "Requirement already satisfied: packaging<25,>=23.2 in /usr/local/lib/python3.11/dist-packages (from langchain-core<0.4.0,>=0.3.29->langchain==0.3.14) (24.2)\n",
            "Requirement already satisfied: typing-extensions>=4.7 in /usr/local/lib/python3.11/dist-packages (from langchain-core<0.4.0,>=0.3.29->langchain==0.3.14) (4.12.2)\n",
            "Requirement already satisfied: httpx<1,>=0.23.0 in /usr/local/lib/python3.11/dist-packages (from langsmith<0.3,>=0.1.17->langchain==0.3.14) (0.28.1)\n",
            "Requirement already satisfied: orjson<4.0.0,>=3.9.14 in /usr/local/lib/python3.11/dist-packages (from langsmith<0.3,>=0.1.17->langchain==0.3.14) (3.10.15)\n",
            "Requirement already satisfied: requests-toolbelt<2.0.0,>=1.0.0 in /usr/local/lib/python3.11/dist-packages (from langsmith<0.3,>=0.1.17->langchain==0.3.14) (1.0.0)\n",
            "Requirement already satisfied: annotated-types>=0.6.0 in /usr/local/lib/python3.11/dist-packages (from pydantic<3.0.0,>=2.7.4->langchain==0.3.14) (0.7.0)\n",
            "Requirement already satisfied: pydantic-core==2.27.2 in /usr/local/lib/python3.11/dist-packages (from pydantic<3.0.0,>=2.7.4->langchain==0.3.14) (2.27.2)\n",
            "Requirement already satisfied: charset-normalizer<4,>=2 in /usr/local/lib/python3.11/dist-packages (from requests<3,>=2->langchain==0.3.14) (3.4.1)\n",
            "Requirement already satisfied: idna<4,>=2.5 in /usr/local/lib/python3.11/dist-packages (from requests<3,>=2->langchain==0.3.14) (3.10)\n",
            "Requirement already satisfied: urllib3<3,>=1.21.1 in /usr/local/lib/python3.11/dist-packages (from requests<3,>=2->langchain==0.3.14) (2.3.0)\n",
            "Requirement already satisfied: certifi>=2017.4.17 in /usr/local/lib/python3.11/dist-packages (from requests<3,>=2->langchain==0.3.14) (2024.12.14)\n",
            "Requirement already satisfied: greenlet!=0.4.17 in /usr/local/lib/python3.11/dist-packages (from SQLAlchemy<3,>=1.4->langchain==0.3.14) (3.1.1)\n",
            "Requirement already satisfied: anyio in /usr/local/lib/python3.11/dist-packages (from httpx<1,>=0.23.0->langsmith<0.3,>=0.1.17->langchain==0.3.14) (3.7.1)\n",
            "Requirement already satisfied: httpcore==1.* in /usr/local/lib/python3.11/dist-packages (from httpx<1,>=0.23.0->langsmith<0.3,>=0.1.17->langchain==0.3.14) (1.0.7)\n",
            "Requirement already satisfied: h11<0.15,>=0.13 in /usr/local/lib/python3.11/dist-packages (from httpcore==1.*->httpx<1,>=0.23.0->langsmith<0.3,>=0.1.17->langchain==0.3.14) (0.14.0)\n",
            "Requirement already satisfied: jsonpointer>=1.9 in /usr/local/lib/python3.11/dist-packages (from jsonpatch<2.0,>=1.33->langchain-core<0.4.0,>=0.3.29->langchain==0.3.14) (3.0.0)\n",
            "Requirement already satisfied: sniffio>=1.1 in /usr/local/lib/python3.11/dist-packages (from anyio->httpx<1,>=0.23.0->langsmith<0.3,>=0.1.17->langchain==0.3.14) (1.3.1)\n",
            "Downloading langchain-0.3.14-py3-none-any.whl (1.0 MB)\n",
            "\u001b[2K   \u001b[90m━━━━━━━━━━━━━━━━━━━━━━━━━━━━━━━━━━━━━━━━\u001b[0m \u001b[32m1.0/1.0 MB\u001b[0m \u001b[31m9.4 MB/s\u001b[0m eta \u001b[36m0:00:00\u001b[0m\n",
            "\u001b[?25hDownloading langsmith-0.2.11-py3-none-any.whl (326 kB)\n",
            "\u001b[2K   \u001b[90m━━━━━━━━━━━━━━━━━━━━━━━━━━━━━━━━━━━━━━━━\u001b[0m \u001b[32m326.9/326.9 kB\u001b[0m \u001b[31m20.0 MB/s\u001b[0m eta \u001b[36m0:00:00\u001b[0m\n",
            "\u001b[?25hInstalling collected packages: langsmith, langchain\n",
            "  Attempting uninstall: langsmith\n",
            "    Found existing installation: langsmith 0.3.1\n",
            "    Uninstalling langsmith-0.3.1:\n",
            "      Successfully uninstalled langsmith-0.3.1\n",
            "  Attempting uninstall: langchain\n",
            "    Found existing installation: langchain 0.3.15\n",
            "    Uninstalling langchain-0.3.15:\n",
            "      Successfully uninstalled langchain-0.3.15\n",
            "Successfully installed langchain-0.3.14 langsmith-0.2.11\n",
            "Collecting langchain-openai==0.3.0\n",
            "  Downloading langchain_openai-0.3.0-py3-none-any.whl.metadata (2.7 kB)\n",
            "Requirement already satisfied: langchain-core<0.4.0,>=0.3.29 in /usr/local/lib/python3.11/dist-packages (from langchain-openai==0.3.0) (0.3.31)\n",
            "Requirement already satisfied: openai<2.0.0,>=1.58.1 in /usr/local/lib/python3.11/dist-packages (from langchain-openai==0.3.0) (1.59.9)\n",
            "Collecting tiktoken<1,>=0.7 (from langchain-openai==0.3.0)\n",
            "  Downloading tiktoken-0.8.0-cp311-cp311-manylinux_2_17_x86_64.manylinux2014_x86_64.whl.metadata (6.6 kB)\n",
            "Requirement already satisfied: PyYAML>=5.3 in /usr/local/lib/python3.11/dist-packages (from langchain-core<0.4.0,>=0.3.29->langchain-openai==0.3.0) (6.0.2)\n",
            "Requirement already satisfied: jsonpatch<2.0,>=1.33 in /usr/local/lib/python3.11/dist-packages (from langchain-core<0.4.0,>=0.3.29->langchain-openai==0.3.0) (1.33)\n",
            "Requirement already satisfied: langsmith<0.4,>=0.1.125 in /usr/local/lib/python3.11/dist-packages (from langchain-core<0.4.0,>=0.3.29->langchain-openai==0.3.0) (0.2.11)\n",
            "Requirement already satisfied: packaging<25,>=23.2 in /usr/local/lib/python3.11/dist-packages (from langchain-core<0.4.0,>=0.3.29->langchain-openai==0.3.0) (24.2)\n",
            "Requirement already satisfied: pydantic<3.0.0,>=2.5.2 in /usr/local/lib/python3.11/dist-packages (from langchain-core<0.4.0,>=0.3.29->langchain-openai==0.3.0) (2.10.5)\n",
            "Requirement already satisfied: tenacity!=8.4.0,<10.0.0,>=8.1.0 in /usr/local/lib/python3.11/dist-packages (from langchain-core<0.4.0,>=0.3.29->langchain-openai==0.3.0) (9.0.0)\n",
            "Requirement already satisfied: typing-extensions>=4.7 in /usr/local/lib/python3.11/dist-packages (from langchain-core<0.4.0,>=0.3.29->langchain-openai==0.3.0) (4.12.2)\n",
            "Requirement already satisfied: anyio<5,>=3.5.0 in /usr/local/lib/python3.11/dist-packages (from openai<2.0.0,>=1.58.1->langchain-openai==0.3.0) (3.7.1)\n",
            "Requirement already satisfied: distro<2,>=1.7.0 in /usr/local/lib/python3.11/dist-packages (from openai<2.0.0,>=1.58.1->langchain-openai==0.3.0) (1.9.0)\n",
            "Requirement already satisfied: httpx<1,>=0.23.0 in /usr/local/lib/python3.11/dist-packages (from openai<2.0.0,>=1.58.1->langchain-openai==0.3.0) (0.28.1)\n",
            "Requirement already satisfied: jiter<1,>=0.4.0 in /usr/local/lib/python3.11/dist-packages (from openai<2.0.0,>=1.58.1->langchain-openai==0.3.0) (0.8.2)\n",
            "Requirement already satisfied: sniffio in /usr/local/lib/python3.11/dist-packages (from openai<2.0.0,>=1.58.1->langchain-openai==0.3.0) (1.3.1)\n",
            "Requirement already satisfied: tqdm>4 in /usr/local/lib/python3.11/dist-packages (from openai<2.0.0,>=1.58.1->langchain-openai==0.3.0) (4.67.1)\n",
            "Requirement already satisfied: regex>=2022.1.18 in /usr/local/lib/python3.11/dist-packages (from tiktoken<1,>=0.7->langchain-openai==0.3.0) (2024.11.6)\n",
            "Requirement already satisfied: requests>=2.26.0 in /usr/local/lib/python3.11/dist-packages (from tiktoken<1,>=0.7->langchain-openai==0.3.0) (2.32.3)\n",
            "Requirement already satisfied: idna>=2.8 in /usr/local/lib/python3.11/dist-packages (from anyio<5,>=3.5.0->openai<2.0.0,>=1.58.1->langchain-openai==0.3.0) (3.10)\n",
            "Requirement already satisfied: certifi in /usr/local/lib/python3.11/dist-packages (from httpx<1,>=0.23.0->openai<2.0.0,>=1.58.1->langchain-openai==0.3.0) (2024.12.14)\n",
            "Requirement already satisfied: httpcore==1.* in /usr/local/lib/python3.11/dist-packages (from httpx<1,>=0.23.0->openai<2.0.0,>=1.58.1->langchain-openai==0.3.0) (1.0.7)\n",
            "Requirement already satisfied: h11<0.15,>=0.13 in /usr/local/lib/python3.11/dist-packages (from httpcore==1.*->httpx<1,>=0.23.0->openai<2.0.0,>=1.58.1->langchain-openai==0.3.0) (0.14.0)\n",
            "Requirement already satisfied: jsonpointer>=1.9 in /usr/local/lib/python3.11/dist-packages (from jsonpatch<2.0,>=1.33->langchain-core<0.4.0,>=0.3.29->langchain-openai==0.3.0) (3.0.0)\n",
            "Requirement already satisfied: orjson<4.0.0,>=3.9.14 in /usr/local/lib/python3.11/dist-packages (from langsmith<0.4,>=0.1.125->langchain-core<0.4.0,>=0.3.29->langchain-openai==0.3.0) (3.10.15)\n",
            "Requirement already satisfied: requests-toolbelt<2.0.0,>=1.0.0 in /usr/local/lib/python3.11/dist-packages (from langsmith<0.4,>=0.1.125->langchain-core<0.4.0,>=0.3.29->langchain-openai==0.3.0) (1.0.0)\n",
            "Requirement already satisfied: annotated-types>=0.6.0 in /usr/local/lib/python3.11/dist-packages (from pydantic<3.0.0,>=2.5.2->langchain-core<0.4.0,>=0.3.29->langchain-openai==0.3.0) (0.7.0)\n",
            "Requirement already satisfied: pydantic-core==2.27.2 in /usr/local/lib/python3.11/dist-packages (from pydantic<3.0.0,>=2.5.2->langchain-core<0.4.0,>=0.3.29->langchain-openai==0.3.0) (2.27.2)\n",
            "Requirement already satisfied: charset-normalizer<4,>=2 in /usr/local/lib/python3.11/dist-packages (from requests>=2.26.0->tiktoken<1,>=0.7->langchain-openai==0.3.0) (3.4.1)\n",
            "Requirement already satisfied: urllib3<3,>=1.21.1 in /usr/local/lib/python3.11/dist-packages (from requests>=2.26.0->tiktoken<1,>=0.7->langchain-openai==0.3.0) (2.3.0)\n",
            "Downloading langchain_openai-0.3.0-py3-none-any.whl (54 kB)\n",
            "\u001b[2K   \u001b[90m━━━━━━━━━━━━━━━━━━━━━━━━━━━━━━━━━━━━━━━━\u001b[0m \u001b[32m54.2/54.2 kB\u001b[0m \u001b[31m2.2 MB/s\u001b[0m eta \u001b[36m0:00:00\u001b[0m\n",
            "\u001b[?25hDownloading tiktoken-0.8.0-cp311-cp311-manylinux_2_17_x86_64.manylinux2014_x86_64.whl (1.2 MB)\n",
            "\u001b[2K   \u001b[90m━━━━━━━━━━━━━━━━━━━━━━━━━━━━━━━━━━━━━━━━\u001b[0m \u001b[32m1.2/1.2 MB\u001b[0m \u001b[31m18.2 MB/s\u001b[0m eta \u001b[36m0:00:00\u001b[0m\n",
            "\u001b[?25hInstalling collected packages: tiktoken, langchain-openai\n",
            "Successfully installed langchain-openai-0.3.0 tiktoken-0.8.0\n",
            "Collecting langchain-community==0.3.14\n",
            "  Downloading langchain_community-0.3.14-py3-none-any.whl.metadata (2.9 kB)\n",
            "Requirement already satisfied: PyYAML>=5.3 in /usr/local/lib/python3.11/dist-packages (from langchain-community==0.3.14) (6.0.2)\n",
            "Requirement already satisfied: SQLAlchemy<3,>=1.4 in /usr/local/lib/python3.11/dist-packages (from langchain-community==0.3.14) (2.0.37)\n",
            "Requirement already satisfied: aiohttp<4.0.0,>=3.8.3 in /usr/local/lib/python3.11/dist-packages (from langchain-community==0.3.14) (3.11.11)\n",
            "Collecting dataclasses-json<0.7,>=0.5.7 (from langchain-community==0.3.14)\n",
            "  Downloading dataclasses_json-0.6.7-py3-none-any.whl.metadata (25 kB)\n",
            "Collecting httpx-sse<0.5.0,>=0.4.0 (from langchain-community==0.3.14)\n",
            "  Downloading httpx_sse-0.4.0-py3-none-any.whl.metadata (9.0 kB)\n",
            "Requirement already satisfied: langchain<0.4.0,>=0.3.14 in /usr/local/lib/python3.11/dist-packages (from langchain-community==0.3.14) (0.3.14)\n",
            "Requirement already satisfied: langchain-core<0.4.0,>=0.3.29 in /usr/local/lib/python3.11/dist-packages (from langchain-community==0.3.14) (0.3.31)\n",
            "Requirement already satisfied: langsmith<0.3,>=0.1.125 in /usr/local/lib/python3.11/dist-packages (from langchain-community==0.3.14) (0.2.11)\n",
            "Requirement already satisfied: numpy<2,>=1.22.4 in /usr/local/lib/python3.11/dist-packages (from langchain-community==0.3.14) (1.26.4)\n",
            "Collecting pydantic-settings<3.0.0,>=2.4.0 (from langchain-community==0.3.14)\n",
            "  Downloading pydantic_settings-2.7.1-py3-none-any.whl.metadata (3.5 kB)\n",
            "Requirement already satisfied: requests<3,>=2 in /usr/local/lib/python3.11/dist-packages (from langchain-community==0.3.14) (2.32.3)\n",
            "Requirement already satisfied: tenacity!=8.4.0,<10,>=8.1.0 in /usr/local/lib/python3.11/dist-packages (from langchain-community==0.3.14) (9.0.0)\n",
            "Requirement already satisfied: aiohappyeyeballs>=2.3.0 in /usr/local/lib/python3.11/dist-packages (from aiohttp<4.0.0,>=3.8.3->langchain-community==0.3.14) (2.4.4)\n",
            "Requirement already satisfied: aiosignal>=1.1.2 in /usr/local/lib/python3.11/dist-packages (from aiohttp<4.0.0,>=3.8.3->langchain-community==0.3.14) (1.3.2)\n",
            "Requirement already satisfied: attrs>=17.3.0 in /usr/local/lib/python3.11/dist-packages (from aiohttp<4.0.0,>=3.8.3->langchain-community==0.3.14) (24.3.0)\n",
            "Requirement already satisfied: frozenlist>=1.1.1 in /usr/local/lib/python3.11/dist-packages (from aiohttp<4.0.0,>=3.8.3->langchain-community==0.3.14) (1.5.0)\n",
            "Requirement already satisfied: multidict<7.0,>=4.5 in /usr/local/lib/python3.11/dist-packages (from aiohttp<4.0.0,>=3.8.3->langchain-community==0.3.14) (6.1.0)\n",
            "Requirement already satisfied: propcache>=0.2.0 in /usr/local/lib/python3.11/dist-packages (from aiohttp<4.0.0,>=3.8.3->langchain-community==0.3.14) (0.2.1)\n",
            "Requirement already satisfied: yarl<2.0,>=1.17.0 in /usr/local/lib/python3.11/dist-packages (from aiohttp<4.0.0,>=3.8.3->langchain-community==0.3.14) (1.18.3)\n",
            "Collecting marshmallow<4.0.0,>=3.18.0 (from dataclasses-json<0.7,>=0.5.7->langchain-community==0.3.14)\n",
            "  Downloading marshmallow-3.26.0-py3-none-any.whl.metadata (7.3 kB)\n",
            "Collecting typing-inspect<1,>=0.4.0 (from dataclasses-json<0.7,>=0.5.7->langchain-community==0.3.14)\n",
            "  Downloading typing_inspect-0.9.0-py3-none-any.whl.metadata (1.5 kB)\n",
            "Requirement already satisfied: langchain-text-splitters<0.4.0,>=0.3.3 in /usr/local/lib/python3.11/dist-packages (from langchain<0.4.0,>=0.3.14->langchain-community==0.3.14) (0.3.5)\n",
            "Requirement already satisfied: pydantic<3.0.0,>=2.7.4 in /usr/local/lib/python3.11/dist-packages (from langchain<0.4.0,>=0.3.14->langchain-community==0.3.14) (2.10.5)\n",
            "Requirement already satisfied: jsonpatch<2.0,>=1.33 in /usr/local/lib/python3.11/dist-packages (from langchain-core<0.4.0,>=0.3.29->langchain-community==0.3.14) (1.33)\n",
            "Requirement already satisfied: packaging<25,>=23.2 in /usr/local/lib/python3.11/dist-packages (from langchain-core<0.4.0,>=0.3.29->langchain-community==0.3.14) (24.2)\n",
            "Requirement already satisfied: typing-extensions>=4.7 in /usr/local/lib/python3.11/dist-packages (from langchain-core<0.4.0,>=0.3.29->langchain-community==0.3.14) (4.12.2)\n",
            "Requirement already satisfied: httpx<1,>=0.23.0 in /usr/local/lib/python3.11/dist-packages (from langsmith<0.3,>=0.1.125->langchain-community==0.3.14) (0.28.1)\n",
            "Requirement already satisfied: orjson<4.0.0,>=3.9.14 in /usr/local/lib/python3.11/dist-packages (from langsmith<0.3,>=0.1.125->langchain-community==0.3.14) (3.10.15)\n",
            "Requirement already satisfied: requests-toolbelt<2.0.0,>=1.0.0 in /usr/local/lib/python3.11/dist-packages (from langsmith<0.3,>=0.1.125->langchain-community==0.3.14) (1.0.0)\n",
            "Collecting python-dotenv>=0.21.0 (from pydantic-settings<3.0.0,>=2.4.0->langchain-community==0.3.14)\n",
            "  Downloading python_dotenv-1.0.1-py3-none-any.whl.metadata (23 kB)\n",
            "Requirement already satisfied: charset-normalizer<4,>=2 in /usr/local/lib/python3.11/dist-packages (from requests<3,>=2->langchain-community==0.3.14) (3.4.1)\n",
            "Requirement already satisfied: idna<4,>=2.5 in /usr/local/lib/python3.11/dist-packages (from requests<3,>=2->langchain-community==0.3.14) (3.10)\n",
            "Requirement already satisfied: urllib3<3,>=1.21.1 in /usr/local/lib/python3.11/dist-packages (from requests<3,>=2->langchain-community==0.3.14) (2.3.0)\n",
            "Requirement already satisfied: certifi>=2017.4.17 in /usr/local/lib/python3.11/dist-packages (from requests<3,>=2->langchain-community==0.3.14) (2024.12.14)\n",
            "Requirement already satisfied: greenlet!=0.4.17 in /usr/local/lib/python3.11/dist-packages (from SQLAlchemy<3,>=1.4->langchain-community==0.3.14) (3.1.1)\n",
            "Requirement already satisfied: anyio in /usr/local/lib/python3.11/dist-packages (from httpx<1,>=0.23.0->langsmith<0.3,>=0.1.125->langchain-community==0.3.14) (3.7.1)\n",
            "Requirement already satisfied: httpcore==1.* in /usr/local/lib/python3.11/dist-packages (from httpx<1,>=0.23.0->langsmith<0.3,>=0.1.125->langchain-community==0.3.14) (1.0.7)\n",
            "Requirement already satisfied: h11<0.15,>=0.13 in /usr/local/lib/python3.11/dist-packages (from httpcore==1.*->httpx<1,>=0.23.0->langsmith<0.3,>=0.1.125->langchain-community==0.3.14) (0.14.0)\n",
            "Requirement already satisfied: jsonpointer>=1.9 in /usr/local/lib/python3.11/dist-packages (from jsonpatch<2.0,>=1.33->langchain-core<0.4.0,>=0.3.29->langchain-community==0.3.14) (3.0.0)\n",
            "Requirement already satisfied: annotated-types>=0.6.0 in /usr/local/lib/python3.11/dist-packages (from pydantic<3.0.0,>=2.7.4->langchain<0.4.0,>=0.3.14->langchain-community==0.3.14) (0.7.0)\n",
            "Requirement already satisfied: pydantic-core==2.27.2 in /usr/local/lib/python3.11/dist-packages (from pydantic<3.0.0,>=2.7.4->langchain<0.4.0,>=0.3.14->langchain-community==0.3.14) (2.27.2)\n",
            "Collecting mypy-extensions>=0.3.0 (from typing-inspect<1,>=0.4.0->dataclasses-json<0.7,>=0.5.7->langchain-community==0.3.14)\n",
            "  Downloading mypy_extensions-1.0.0-py3-none-any.whl.metadata (1.1 kB)\n",
            "Requirement already satisfied: sniffio>=1.1 in /usr/local/lib/python3.11/dist-packages (from anyio->httpx<1,>=0.23.0->langsmith<0.3,>=0.1.125->langchain-community==0.3.14) (1.3.1)\n",
            "Downloading langchain_community-0.3.14-py3-none-any.whl (2.5 MB)\n",
            "\u001b[2K   \u001b[90m━━━━━━━━━━━━━━━━━━━━━━━━━━━━━━━━━━━━━━━━\u001b[0m \u001b[32m2.5/2.5 MB\u001b[0m \u001b[31m29.7 MB/s\u001b[0m eta \u001b[36m0:00:00\u001b[0m\n",
            "\u001b[?25hDownloading dataclasses_json-0.6.7-py3-none-any.whl (28 kB)\n",
            "Downloading httpx_sse-0.4.0-py3-none-any.whl (7.8 kB)\n",
            "Downloading pydantic_settings-2.7.1-py3-none-any.whl (29 kB)\n",
            "Downloading marshmallow-3.26.0-py3-none-any.whl (50 kB)\n",
            "\u001b[2K   \u001b[90m━━━━━━━━━━━━━━━━━━━━━━━━━━━━━━━━━━━━━━━━\u001b[0m \u001b[32m50.8/50.8 kB\u001b[0m \u001b[31m5.0 MB/s\u001b[0m eta \u001b[36m0:00:00\u001b[0m\n",
            "\u001b[?25hDownloading python_dotenv-1.0.1-py3-none-any.whl (19 kB)\n",
            "Downloading typing_inspect-0.9.0-py3-none-any.whl (8.8 kB)\n",
            "Downloading mypy_extensions-1.0.0-py3-none-any.whl (4.7 kB)\n",
            "Installing collected packages: python-dotenv, mypy-extensions, marshmallow, httpx-sse, typing-inspect, pydantic-settings, dataclasses-json, langchain-community\n",
            "Successfully installed dataclasses-json-0.6.7 httpx-sse-0.4.0 langchain-community-0.3.14 marshmallow-3.26.0 mypy-extensions-1.0.0 pydantic-settings-2.7.1 python-dotenv-1.0.1 typing-inspect-0.9.0\n",
            "Collecting langgraph==0.2.64\n",
            "  Downloading langgraph-0.2.64-py3-none-any.whl.metadata (16 kB)\n",
            "Requirement already satisfied: langchain-core!=0.3.0,!=0.3.1,!=0.3.10,!=0.3.11,!=0.3.12,!=0.3.13,!=0.3.14,!=0.3.15,!=0.3.16,!=0.3.17,!=0.3.18,!=0.3.19,!=0.3.2,!=0.3.20,!=0.3.21,!=0.3.22,!=0.3.3,!=0.3.4,!=0.3.5,!=0.3.6,!=0.3.7,!=0.3.8,!=0.3.9,<0.4.0,>=0.2.43 in /usr/local/lib/python3.11/dist-packages (from langgraph==0.2.64) (0.3.31)\n",
            "Collecting langgraph-checkpoint<3.0.0,>=2.0.10 (from langgraph==0.2.64)\n",
            "  Downloading langgraph_checkpoint-2.0.10-py3-none-any.whl.metadata (4.6 kB)\n",
            "Collecting langgraph-sdk<0.2.0,>=0.1.42 (from langgraph==0.2.64)\n",
            "  Downloading langgraph_sdk-0.1.51-py3-none-any.whl.metadata (1.8 kB)\n",
            "Requirement already satisfied: PyYAML>=5.3 in /usr/local/lib/python3.11/dist-packages (from langchain-core!=0.3.0,!=0.3.1,!=0.3.10,!=0.3.11,!=0.3.12,!=0.3.13,!=0.3.14,!=0.3.15,!=0.3.16,!=0.3.17,!=0.3.18,!=0.3.19,!=0.3.2,!=0.3.20,!=0.3.21,!=0.3.22,!=0.3.3,!=0.3.4,!=0.3.5,!=0.3.6,!=0.3.7,!=0.3.8,!=0.3.9,<0.4.0,>=0.2.43->langgraph==0.2.64) (6.0.2)\n",
            "Requirement already satisfied: jsonpatch<2.0,>=1.33 in /usr/local/lib/python3.11/dist-packages (from langchain-core!=0.3.0,!=0.3.1,!=0.3.10,!=0.3.11,!=0.3.12,!=0.3.13,!=0.3.14,!=0.3.15,!=0.3.16,!=0.3.17,!=0.3.18,!=0.3.19,!=0.3.2,!=0.3.20,!=0.3.21,!=0.3.22,!=0.3.3,!=0.3.4,!=0.3.5,!=0.3.6,!=0.3.7,!=0.3.8,!=0.3.9,<0.4.0,>=0.2.43->langgraph==0.2.64) (1.33)\n",
            "Requirement already satisfied: langsmith<0.4,>=0.1.125 in /usr/local/lib/python3.11/dist-packages (from langchain-core!=0.3.0,!=0.3.1,!=0.3.10,!=0.3.11,!=0.3.12,!=0.3.13,!=0.3.14,!=0.3.15,!=0.3.16,!=0.3.17,!=0.3.18,!=0.3.19,!=0.3.2,!=0.3.20,!=0.3.21,!=0.3.22,!=0.3.3,!=0.3.4,!=0.3.5,!=0.3.6,!=0.3.7,!=0.3.8,!=0.3.9,<0.4.0,>=0.2.43->langgraph==0.2.64) (0.2.11)\n",
            "Requirement already satisfied: packaging<25,>=23.2 in /usr/local/lib/python3.11/dist-packages (from langchain-core!=0.3.0,!=0.3.1,!=0.3.10,!=0.3.11,!=0.3.12,!=0.3.13,!=0.3.14,!=0.3.15,!=0.3.16,!=0.3.17,!=0.3.18,!=0.3.19,!=0.3.2,!=0.3.20,!=0.3.21,!=0.3.22,!=0.3.3,!=0.3.4,!=0.3.5,!=0.3.6,!=0.3.7,!=0.3.8,!=0.3.9,<0.4.0,>=0.2.43->langgraph==0.2.64) (24.2)\n",
            "Requirement already satisfied: pydantic<3.0.0,>=2.5.2 in /usr/local/lib/python3.11/dist-packages (from langchain-core!=0.3.0,!=0.3.1,!=0.3.10,!=0.3.11,!=0.3.12,!=0.3.13,!=0.3.14,!=0.3.15,!=0.3.16,!=0.3.17,!=0.3.18,!=0.3.19,!=0.3.2,!=0.3.20,!=0.3.21,!=0.3.22,!=0.3.3,!=0.3.4,!=0.3.5,!=0.3.6,!=0.3.7,!=0.3.8,!=0.3.9,<0.4.0,>=0.2.43->langgraph==0.2.64) (2.10.5)\n",
            "Requirement already satisfied: tenacity!=8.4.0,<10.0.0,>=8.1.0 in /usr/local/lib/python3.11/dist-packages (from langchain-core!=0.3.0,!=0.3.1,!=0.3.10,!=0.3.11,!=0.3.12,!=0.3.13,!=0.3.14,!=0.3.15,!=0.3.16,!=0.3.17,!=0.3.18,!=0.3.19,!=0.3.2,!=0.3.20,!=0.3.21,!=0.3.22,!=0.3.3,!=0.3.4,!=0.3.5,!=0.3.6,!=0.3.7,!=0.3.8,!=0.3.9,<0.4.0,>=0.2.43->langgraph==0.2.64) (9.0.0)\n",
            "Requirement already satisfied: typing-extensions>=4.7 in /usr/local/lib/python3.11/dist-packages (from langchain-core!=0.3.0,!=0.3.1,!=0.3.10,!=0.3.11,!=0.3.12,!=0.3.13,!=0.3.14,!=0.3.15,!=0.3.16,!=0.3.17,!=0.3.18,!=0.3.19,!=0.3.2,!=0.3.20,!=0.3.21,!=0.3.22,!=0.3.3,!=0.3.4,!=0.3.5,!=0.3.6,!=0.3.7,!=0.3.8,!=0.3.9,<0.4.0,>=0.2.43->langgraph==0.2.64) (4.12.2)\n",
            "Requirement already satisfied: msgpack<2.0.0,>=1.1.0 in /usr/local/lib/python3.11/dist-packages (from langgraph-checkpoint<3.0.0,>=2.0.10->langgraph==0.2.64) (1.1.0)\n",
            "Requirement already satisfied: httpx>=0.25.2 in /usr/local/lib/python3.11/dist-packages (from langgraph-sdk<0.2.0,>=0.1.42->langgraph==0.2.64) (0.28.1)\n",
            "Requirement already satisfied: orjson>=3.10.1 in /usr/local/lib/python3.11/dist-packages (from langgraph-sdk<0.2.0,>=0.1.42->langgraph==0.2.64) (3.10.15)\n",
            "Requirement already satisfied: anyio in /usr/local/lib/python3.11/dist-packages (from httpx>=0.25.2->langgraph-sdk<0.2.0,>=0.1.42->langgraph==0.2.64) (3.7.1)\n",
            "Requirement already satisfied: certifi in /usr/local/lib/python3.11/dist-packages (from httpx>=0.25.2->langgraph-sdk<0.2.0,>=0.1.42->langgraph==0.2.64) (2024.12.14)\n",
            "Requirement already satisfied: httpcore==1.* in /usr/local/lib/python3.11/dist-packages (from httpx>=0.25.2->langgraph-sdk<0.2.0,>=0.1.42->langgraph==0.2.64) (1.0.7)\n",
            "Requirement already satisfied: idna in /usr/local/lib/python3.11/dist-packages (from httpx>=0.25.2->langgraph-sdk<0.2.0,>=0.1.42->langgraph==0.2.64) (3.10)\n",
            "Requirement already satisfied: h11<0.15,>=0.13 in /usr/local/lib/python3.11/dist-packages (from httpcore==1.*->httpx>=0.25.2->langgraph-sdk<0.2.0,>=0.1.42->langgraph==0.2.64) (0.14.0)\n",
            "Requirement already satisfied: jsonpointer>=1.9 in /usr/local/lib/python3.11/dist-packages (from jsonpatch<2.0,>=1.33->langchain-core!=0.3.0,!=0.3.1,!=0.3.10,!=0.3.11,!=0.3.12,!=0.3.13,!=0.3.14,!=0.3.15,!=0.3.16,!=0.3.17,!=0.3.18,!=0.3.19,!=0.3.2,!=0.3.20,!=0.3.21,!=0.3.22,!=0.3.3,!=0.3.4,!=0.3.5,!=0.3.6,!=0.3.7,!=0.3.8,!=0.3.9,<0.4.0,>=0.2.43->langgraph==0.2.64) (3.0.0)\n",
            "Requirement already satisfied: requests<3,>=2 in /usr/local/lib/python3.11/dist-packages (from langsmith<0.4,>=0.1.125->langchain-core!=0.3.0,!=0.3.1,!=0.3.10,!=0.3.11,!=0.3.12,!=0.3.13,!=0.3.14,!=0.3.15,!=0.3.16,!=0.3.17,!=0.3.18,!=0.3.19,!=0.3.2,!=0.3.20,!=0.3.21,!=0.3.22,!=0.3.3,!=0.3.4,!=0.3.5,!=0.3.6,!=0.3.7,!=0.3.8,!=0.3.9,<0.4.0,>=0.2.43->langgraph==0.2.64) (2.32.3)\n",
            "Requirement already satisfied: requests-toolbelt<2.0.0,>=1.0.0 in /usr/local/lib/python3.11/dist-packages (from langsmith<0.4,>=0.1.125->langchain-core!=0.3.0,!=0.3.1,!=0.3.10,!=0.3.11,!=0.3.12,!=0.3.13,!=0.3.14,!=0.3.15,!=0.3.16,!=0.3.17,!=0.3.18,!=0.3.19,!=0.3.2,!=0.3.20,!=0.3.21,!=0.3.22,!=0.3.3,!=0.3.4,!=0.3.5,!=0.3.6,!=0.3.7,!=0.3.8,!=0.3.9,<0.4.0,>=0.2.43->langgraph==0.2.64) (1.0.0)\n",
            "Requirement already satisfied: annotated-types>=0.6.0 in /usr/local/lib/python3.11/dist-packages (from pydantic<3.0.0,>=2.5.2->langchain-core!=0.3.0,!=0.3.1,!=0.3.10,!=0.3.11,!=0.3.12,!=0.3.13,!=0.3.14,!=0.3.15,!=0.3.16,!=0.3.17,!=0.3.18,!=0.3.19,!=0.3.2,!=0.3.20,!=0.3.21,!=0.3.22,!=0.3.3,!=0.3.4,!=0.3.5,!=0.3.6,!=0.3.7,!=0.3.8,!=0.3.9,<0.4.0,>=0.2.43->langgraph==0.2.64) (0.7.0)\n",
            "Requirement already satisfied: pydantic-core==2.27.2 in /usr/local/lib/python3.11/dist-packages (from pydantic<3.0.0,>=2.5.2->langchain-core!=0.3.0,!=0.3.1,!=0.3.10,!=0.3.11,!=0.3.12,!=0.3.13,!=0.3.14,!=0.3.15,!=0.3.16,!=0.3.17,!=0.3.18,!=0.3.19,!=0.3.2,!=0.3.20,!=0.3.21,!=0.3.22,!=0.3.3,!=0.3.4,!=0.3.5,!=0.3.6,!=0.3.7,!=0.3.8,!=0.3.9,<0.4.0,>=0.2.43->langgraph==0.2.64) (2.27.2)\n",
            "Requirement already satisfied: charset-normalizer<4,>=2 in /usr/local/lib/python3.11/dist-packages (from requests<3,>=2->langsmith<0.4,>=0.1.125->langchain-core!=0.3.0,!=0.3.1,!=0.3.10,!=0.3.11,!=0.3.12,!=0.3.13,!=0.3.14,!=0.3.15,!=0.3.16,!=0.3.17,!=0.3.18,!=0.3.19,!=0.3.2,!=0.3.20,!=0.3.21,!=0.3.22,!=0.3.3,!=0.3.4,!=0.3.5,!=0.3.6,!=0.3.7,!=0.3.8,!=0.3.9,<0.4.0,>=0.2.43->langgraph==0.2.64) (3.4.1)\n",
            "Requirement already satisfied: urllib3<3,>=1.21.1 in /usr/local/lib/python3.11/dist-packages (from requests<3,>=2->langsmith<0.4,>=0.1.125->langchain-core!=0.3.0,!=0.3.1,!=0.3.10,!=0.3.11,!=0.3.12,!=0.3.13,!=0.3.14,!=0.3.15,!=0.3.16,!=0.3.17,!=0.3.18,!=0.3.19,!=0.3.2,!=0.3.20,!=0.3.21,!=0.3.22,!=0.3.3,!=0.3.4,!=0.3.5,!=0.3.6,!=0.3.7,!=0.3.8,!=0.3.9,<0.4.0,>=0.2.43->langgraph==0.2.64) (2.3.0)\n",
            "Requirement already satisfied: sniffio>=1.1 in /usr/local/lib/python3.11/dist-packages (from anyio->httpx>=0.25.2->langgraph-sdk<0.2.0,>=0.1.42->langgraph==0.2.64) (1.3.1)\n",
            "Downloading langgraph-0.2.64-py3-none-any.whl (142 kB)\n",
            "\u001b[2K   \u001b[90m━━━━━━━━━━━━━━━━━━━━━━━━━━━━━━━━━━━━━━━━\u001b[0m \u001b[32m142.6/142.6 kB\u001b[0m \u001b[31m4.6 MB/s\u001b[0m eta \u001b[36m0:00:00\u001b[0m\n",
            "\u001b[?25hDownloading langgraph_checkpoint-2.0.10-py3-none-any.whl (37 kB)\n",
            "Downloading langgraph_sdk-0.1.51-py3-none-any.whl (44 kB)\n",
            "\u001b[2K   \u001b[90m━━━━━━━━━━━━━━━━━━━━━━━━━━━━━━━━━━━━━━━━\u001b[0m \u001b[32m44.7/44.7 kB\u001b[0m \u001b[31m3.3 MB/s\u001b[0m eta \u001b[36m0:00:00\u001b[0m\n",
            "\u001b[?25hInstalling collected packages: langgraph-sdk, langgraph-checkpoint, langgraph\n",
            "Successfully installed langgraph-0.2.64 langgraph-checkpoint-2.0.10 langgraph-sdk-0.1.51\n",
            "\u001b[31mERROR: Could not find a version that satisfies the requirement langgraph-checkpoint-sqlite==3.0.5 (from versions: 1.0.0, 1.0.1, 1.0.2, 1.0.3, 1.0.4, 2.0.0, 2.0.1, 2.0.2, 2.0.3)\u001b[0m\u001b[31m\n",
            "\u001b[0m\u001b[31mERROR: No matching distribution found for langgraph-checkpoint-sqlite==3.0.5\u001b[0m\u001b[31m\n",
            "\u001b[0mCollecting yfinance==0.2.51\n",
            "  Downloading yfinance-0.2.51-py2.py3-none-any.whl.metadata (5.5 kB)\n",
            "Requirement already satisfied: pandas>=1.3.0 in /usr/local/lib/python3.11/dist-packages (from yfinance==0.2.51) (2.2.2)\n",
            "Requirement already satisfied: numpy>=1.16.5 in /usr/local/lib/python3.11/dist-packages (from yfinance==0.2.51) (1.26.4)\n",
            "Requirement already satisfied: requests>=2.31 in /usr/local/lib/python3.11/dist-packages (from yfinance==0.2.51) (2.32.3)\n",
            "Requirement already satisfied: multitasking>=0.0.7 in /usr/local/lib/python3.11/dist-packages (from yfinance==0.2.51) (0.0.11)\n",
            "Requirement already satisfied: lxml>=4.9.1 in /usr/local/lib/python3.11/dist-packages (from yfinance==0.2.51) (5.3.0)\n",
            "Requirement already satisfied: platformdirs>=2.0.0 in /usr/local/lib/python3.11/dist-packages (from yfinance==0.2.51) (4.3.6)\n",
            "Requirement already satisfied: pytz>=2022.5 in /usr/local/lib/python3.11/dist-packages (from yfinance==0.2.51) (2024.2)\n",
            "Requirement already satisfied: frozendict>=2.3.4 in /usr/local/lib/python3.11/dist-packages (from yfinance==0.2.51) (2.4.6)\n",
            "Requirement already satisfied: peewee>=3.16.2 in /usr/local/lib/python3.11/dist-packages (from yfinance==0.2.51) (3.17.8)\n",
            "Requirement already satisfied: beautifulsoup4>=4.11.1 in /usr/local/lib/python3.11/dist-packages (from yfinance==0.2.51) (4.12.3)\n",
            "Requirement already satisfied: html5lib>=1.1 in /usr/local/lib/python3.11/dist-packages (from yfinance==0.2.51) (1.1)\n",
            "Requirement already satisfied: soupsieve>1.2 in /usr/local/lib/python3.11/dist-packages (from beautifulsoup4>=4.11.1->yfinance==0.2.51) (2.6)\n",
            "Requirement already satisfied: six>=1.9 in /usr/local/lib/python3.11/dist-packages (from html5lib>=1.1->yfinance==0.2.51) (1.17.0)\n",
            "Requirement already satisfied: webencodings in /usr/local/lib/python3.11/dist-packages (from html5lib>=1.1->yfinance==0.2.51) (0.5.1)\n",
            "Requirement already satisfied: python-dateutil>=2.8.2 in /usr/local/lib/python3.11/dist-packages (from pandas>=1.3.0->yfinance==0.2.51) (2.8.2)\n",
            "Requirement already satisfied: tzdata>=2022.7 in /usr/local/lib/python3.11/dist-packages (from pandas>=1.3.0->yfinance==0.2.51) (2025.1)\n",
            "Requirement already satisfied: charset-normalizer<4,>=2 in /usr/local/lib/python3.11/dist-packages (from requests>=2.31->yfinance==0.2.51) (3.4.1)\n",
            "Requirement already satisfied: idna<4,>=2.5 in /usr/local/lib/python3.11/dist-packages (from requests>=2.31->yfinance==0.2.51) (3.10)\n",
            "Requirement already satisfied: urllib3<3,>=1.21.1 in /usr/local/lib/python3.11/dist-packages (from requests>=2.31->yfinance==0.2.51) (2.3.0)\n",
            "Requirement already satisfied: certifi>=2017.4.17 in /usr/local/lib/python3.11/dist-packages (from requests>=2.31->yfinance==0.2.51) (2024.12.14)\n",
            "Downloading yfinance-0.2.51-py2.py3-none-any.whl (104 kB)\n",
            "\u001b[2K   \u001b[90m━━━━━━━━━━━━━━━━━━━━━━━━━━━━━━━━━━━━━━━━\u001b[0m \u001b[32m104.7/104.7 kB\u001b[0m \u001b[31m2.2 MB/s\u001b[0m eta \u001b[36m0:00:00\u001b[0m\n",
            "\u001b[?25hInstalling collected packages: yfinance\n",
            "  Attempting uninstall: yfinance\n",
            "    Found existing installation: yfinance 0.2.52\n",
            "    Uninstalling yfinance-0.2.52:\n",
            "      Successfully uninstalled yfinance-0.2.52\n",
            "Successfully installed yfinance-0.2.51\n"
          ]
        }
      ]
    },
    {
      "cell_type": "markdown",
      "source": [
        "## Install OpenBB"
      ],
      "metadata": {
        "id": "pSE8EoRXyuxx"
      }
    },
    {
      "cell_type": "code",
      "source": [
        "!pip install openbb[all]==4.3.5"
      ],
      "metadata": {
        "colab": {
          "base_uri": "https://localhost:8080/",
          "height": 1000
        },
        "id": "fO4gOIVIjGH7",
        "outputId": "4beccfe3-df5b-485a-fff2-ee7115f3e7ea"
      },
      "execution_count": 2,
      "outputs": [
        {
          "output_type": "stream",
          "name": "stdout",
          "text": [
            "Collecting openbb==4.3.5 (from openbb[all]==4.3.5)\n",
            "  Downloading openbb-4.3.5-py3-none-any.whl.metadata (12 kB)\n",
            "Collecting openbb-benzinga<2.0.0,>=1.3.5 (from openbb==4.3.5->openbb[all]==4.3.5)\n",
            "  Downloading openbb_benzinga-1.3.5-py3-none-any.whl.metadata (979 bytes)\n",
            "Collecting openbb-bls<2.0.0,>=1.0.3 (from openbb==4.3.5->openbb[all]==4.3.5)\n",
            "  Downloading openbb_bls-1.0.3-py3-none-any.whl.metadata (1.3 kB)\n",
            "Collecting openbb-cftc<2.0.0,>=1.0.3 (from openbb==4.3.5->openbb[all]==4.3.5)\n",
            "  Downloading openbb_cftc-1.0.3-py3-none-any.whl.metadata (1.5 kB)\n",
            "Collecting openbb-commodity<2.0.0,>=1.2.6 (from openbb==4.3.5->openbb[all]==4.3.5)\n",
            "  Downloading openbb_commodity-1.2.6-py3-none-any.whl.metadata (1.0 kB)\n",
            "Collecting openbb-core<2.0.0,>=1.3.6 (from openbb==4.3.5->openbb[all]==4.3.5)\n",
            "  Downloading openbb_core-1.3.8-py3-none-any.whl.metadata (3.5 kB)\n",
            "Collecting openbb-crypto<2.0.0,>=1.3.5 (from openbb==4.3.5->openbb[all]==4.3.5)\n",
            "  Downloading openbb_crypto-1.3.5-py3-none-any.whl.metadata (993 bytes)\n",
            "Collecting openbb-currency<2.0.0,>=1.3.5 (from openbb==4.3.5->openbb[all]==4.3.5)\n",
            "  Downloading openbb_currency-1.3.5-py3-none-any.whl.metadata (994 bytes)\n",
            "Collecting openbb-derivatives<2.0.0,>=1.3.5 (from openbb==4.3.5->openbb[all]==4.3.5)\n",
            "  Downloading openbb_derivatives-1.3.5-py3-none-any.whl.metadata (958 bytes)\n",
            "Collecting openbb-econdb<2.0.0,>=1.2.5 (from openbb==4.3.5->openbb[all]==4.3.5)\n",
            "  Downloading openbb_econdb-1.2.5-py3-none-any.whl.metadata (1.1 kB)\n",
            "Collecting openbb-economy<2.0.0,>=1.3.5 (from openbb==4.3.5->openbb[all]==4.3.5)\n",
            "  Downloading openbb_economy-1.3.5-py3-none-any.whl.metadata (999 bytes)\n",
            "Collecting openbb-equity<2.0.0,>=1.3.5 (from openbb==4.3.5->openbb[all]==4.3.5)\n",
            "  Downloading openbb_equity-1.3.5-py3-none-any.whl.metadata (1.5 kB)\n",
            "Collecting openbb-etf<2.0.0,>=1.3.5 (from openbb==4.3.5->openbb[all]==4.3.5)\n",
            "  Downloading openbb_etf-1.3.5-py3-none-any.whl.metadata (828 bytes)\n",
            "Collecting openbb-federal-reserve<2.0.0,>=1.3.5 (from openbb==4.3.5->openbb[all]==4.3.5)\n",
            "  Downloading openbb_federal_reserve-1.3.5-py3-none-any.whl.metadata (1.0 kB)\n",
            "Collecting openbb-fixedincome<2.0.0,>=1.3.5 (from openbb==4.3.5->openbb[all]==4.3.5)\n",
            "  Downloading openbb_fixedincome-1.3.5-py3-none-any.whl.metadata (1.1 kB)\n",
            "Collecting openbb-fmp<2.0.0,>=1.3.5 (from openbb==4.3.5->openbb[all]==4.3.5)\n",
            "  Downloading openbb_fmp-1.3.5-py3-none-any.whl.metadata (1.0 kB)\n",
            "Collecting openbb-fred<2.0.0,>=1.3.5 (from openbb==4.3.5->openbb[all]==4.3.5)\n",
            "  Downloading openbb_fred-1.3.5-py3-none-any.whl.metadata (976 bytes)\n",
            "Collecting openbb-imf<2.0.0,>=1.0.2 (from openbb==4.3.5->openbb[all]==4.3.5)\n",
            "  Downloading openbb_imf-1.0.2-py3-none-any.whl.metadata (1.5 kB)\n",
            "Collecting openbb-index<2.0.0,>=1.3.5 (from openbb==4.3.5->openbb[all]==4.3.5)\n",
            "  Downloading openbb_index-1.3.5-py3-none-any.whl.metadata (994 bytes)\n",
            "Collecting openbb-intrinio<2.0.0,>=1.3.5 (from openbb==4.3.5->openbb[all]==4.3.5)\n",
            "  Downloading openbb_intrinio-1.3.5-py3-none-any.whl.metadata (1.0 kB)\n",
            "Collecting openbb-news<2.0.0,>=1.3.5 (from openbb==4.3.5->openbb[all]==4.3.5)\n",
            "  Downloading openbb_news-1.3.5-py3-none-any.whl.metadata (952 bytes)\n",
            "Collecting openbb-oecd<2.0.0,>=1.3.5 (from openbb==4.3.5->openbb[all]==4.3.5)\n",
            "  Downloading openbb_oecd-1.3.5-py3-none-any.whl.metadata (1.0 kB)\n",
            "Collecting openbb-platform-api<2.0.0,>=1.0.4 (from openbb==4.3.5->openbb[all]==4.3.5)\n",
            "  Downloading openbb_platform_api-1.0.4-py3-none-any.whl.metadata (5.1 kB)\n",
            "Collecting openbb-polygon<2.0.0,>=1.3.5 (from openbb==4.3.5->openbb[all]==4.3.5)\n",
            "  Downloading openbb_polygon-1.3.5-py3-none-any.whl.metadata (968 bytes)\n",
            "Collecting openbb-regulators<2.0.0,>=1.3.5 (from openbb==4.3.5->openbb[all]==4.3.5)\n",
            "  Downloading openbb_regulators-1.3.5-py3-none-any.whl.metadata (983 bytes)\n",
            "Collecting openbb-sec<2.0.0,>=1.3.5 (from openbb==4.3.5->openbb[all]==4.3.5)\n",
            "  Downloading openbb_sec-1.3.5-py3-none-any.whl.metadata (1.1 kB)\n",
            "Collecting openbb-tiingo<2.0.0,>=1.3.5 (from openbb==4.3.5->openbb[all]==4.3.5)\n",
            "  Downloading openbb_tiingo-1.3.5-py3-none-any.whl.metadata (967 bytes)\n",
            "Collecting openbb-tradingeconomics<2.0.0,>=1.3.5 (from openbb==4.3.5->openbb[all]==4.3.5)\n",
            "  Downloading openbb_tradingeconomics-1.3.5-py3-none-any.whl.metadata (1.0 kB)\n",
            "Collecting openbb-us-eia<2.0.0,>=1.0.0 (from openbb==4.3.5->openbb[all]==4.3.5)\n",
            "  Downloading openbb_us_eia-1.0.0-py3-none-any.whl.metadata (4.9 kB)\n",
            "Collecting openbb-yfinance<2.0.0,>=1.3.6 (from openbb==4.3.5->openbb[all]==4.3.5)\n",
            "  Downloading openbb_yfinance-1.3.6-py3-none-any.whl.metadata (1.0 kB)\n",
            "Collecting openbb-alpha-vantage<2.0.0,>=1.3.5 (from openbb[all]==4.3.5)\n",
            "  Downloading openbb_alpha_vantage-1.3.5-py3-none-any.whl.metadata (1.0 kB)\n",
            "Collecting openbb-biztoc<2.0.0,>=1.3.5 (from openbb[all]==4.3.5)\n",
            "  Downloading openbb_biztoc-1.3.5-py3-none-any.whl.metadata (955 bytes)\n",
            "Collecting openbb-cboe<2.0.0,>=1.3.5 (from openbb[all]==4.3.5)\n",
            "  Downloading openbb_cboe-1.3.5-py3-none-any.whl.metadata (1.1 kB)\n",
            "Collecting openbb-charting<3.0.0,>=2.2.5 (from openbb[all]==4.3.5)\n",
            "  Downloading openbb_charting-2.2.5-py3-none-any.whl.metadata (6.8 kB)\n",
            "Collecting openbb-ecb<2.0.0,>=1.3.5 (from openbb[all]==4.3.5)\n",
            "  Downloading openbb_ecb-1.3.5-py3-none-any.whl.metadata (1000 bytes)\n",
            "Collecting openbb-econometrics<2.0.0,>=1.4.5 (from openbb[all]==4.3.5)\n",
            "  Downloading openbb_econometrics-1.4.5-py3-none-any.whl.metadata (1.1 kB)\n",
            "Collecting openbb-finra<2.0.0,>=1.3.5 (from openbb[all]==4.3.5)\n",
            "  Downloading openbb_finra-1.3.5-py3-none-any.whl.metadata (957 bytes)\n",
            "Collecting openbb-finviz<2.0.0,>=1.2.5 (from openbb[all]==4.3.5)\n",
            "  Downloading openbb_finviz-1.2.5-py3-none-any.whl.metadata (3.8 kB)\n",
            "Collecting openbb-government-us<2.0.0,>=1.3.5 (from openbb[all]==4.3.5)\n",
            "  Downloading openbb_government_us-1.3.5-py3-none-any.whl.metadata (1.0 kB)\n",
            "Collecting openbb-multpl<2.0.0,>=1.0.5 (from openbb[all]==4.3.5)\n",
            "  Downloading openbb_multpl-1.0.5-py3-none-any.whl.metadata (741 bytes)\n",
            "Collecting openbb-nasdaq<2.0.0,>=1.3.5 (from openbb[all]==4.3.5)\n",
            "  Downloading openbb_nasdaq-1.3.5-py3-none-any.whl.metadata (1.1 kB)\n",
            "Collecting openbb-quantitative<2.0.0,>=1.3.5 (from openbb[all]==4.3.5)\n",
            "  Downloading openbb_quantitative-1.3.5-py3-none-any.whl.metadata (1.3 kB)\n",
            "Collecting openbb-seeking-alpha<2.0.0,>=1.3.5 (from openbb[all]==4.3.5)\n",
            "  Downloading openbb_seeking_alpha-1.3.5-py3-none-any.whl.metadata (1.0 kB)\n",
            "Collecting openbb-stockgrid<2.0.0,>=1.3.5 (from openbb[all]==4.3.5)\n",
            "  Downloading openbb_stockgrid-1.3.5-py3-none-any.whl.metadata (1.0 kB)\n",
            "Collecting openbb-technical<2.0.0,>=1.3.5 (from openbb[all]==4.3.5)\n",
            "  Downloading openbb_technical-1.3.5-py3-none-any.whl.metadata (1.3 kB)\n",
            "Collecting openbb-tmx<2.0.0,>=1.2.5 (from openbb[all]==4.3.5)\n",
            "  Downloading openbb_tmx-1.2.5-py3-none-any.whl.metadata (3.6 kB)\n",
            "Collecting openbb-tradier<2.0.0,>=1.2.5 (from openbb[all]==4.3.5)\n",
            "  Downloading openbb_tradier-1.2.5-py3-none-any.whl.metadata (1.2 kB)\n",
            "Collecting openbb-wsj<2.0.0,>=1.3.5 (from openbb[all]==4.3.5)\n",
            "  Downloading openbb_wsj-1.3.5-py3-none-any.whl.metadata (957 bytes)\n",
            "Collecting aiohttp-client-cache<0.12.0,>=0.11.0 (from openbb-cboe<2.0.0,>=1.3.5->openbb[all]==4.3.5)\n",
            "  Downloading aiohttp_client_cache-0.11.1-py3-none-any.whl.metadata (7.5 kB)\n",
            "Collecting aiosqlite<0.21.0,>=0.20.0 (from openbb-cboe<2.0.0,>=1.3.5->openbb[all]==4.3.5)\n",
            "  Downloading aiosqlite-0.20.0-py3-none-any.whl.metadata (4.3 kB)\n",
            "Requirement already satisfied: nbformat<6.0.0,>=5.9.2 in /usr/local/lib/python3.11/dist-packages (from openbb-charting<3.0.0,>=2.2.5->openbb[all]==4.3.5) (5.10.4)\n",
            "Requirement already satisfied: numpy<2,>=1 in /usr/local/lib/python3.11/dist-packages (from openbb-charting<3.0.0,>=2.2.5->openbb[all]==4.3.5) (1.26.4)\n",
            "Collecting pandas-ta<0.4.0,>=0.3.14b (from openbb-charting<3.0.0,>=2.2.5->openbb[all]==4.3.5)\n",
            "  Downloading pandas_ta-0.3.14b.tar.gz (115 kB)\n",
            "\u001b[2K     \u001b[90m━━━━━━━━━━━━━━━━━━━━━━━━━━━━━━━━━━━━━━━━\u001b[0m \u001b[32m115.1/115.1 kB\u001b[0m \u001b[31m4.0 MB/s\u001b[0m eta \u001b[36m0:00:00\u001b[0m\n",
            "\u001b[?25h  Preparing metadata (setup.py) ... \u001b[?25l\u001b[?25hdone\n",
            "Requirement already satisfied: plotly<6.0.0,>=5.17.0 in /usr/local/lib/python3.11/dist-packages (from openbb-charting<3.0.0,>=2.2.5->openbb[all]==4.3.5) (5.24.1)\n",
            "Requirement already satisfied: scipy<2.0.0,>=1.10.0 in /usr/local/lib/python3.11/dist-packages (from openbb-charting<3.0.0,>=2.2.5->openbb[all]==4.3.5) (1.13.1)\n",
            "Requirement already satisfied: statsmodels<0.15.0,>=0.14.0 in /usr/local/lib/python3.11/dist-packages (from openbb-charting<3.0.0,>=2.2.5->openbb[all]==4.3.5) (0.14.4)\n",
            "Requirement already satisfied: aiohttp<4.0.0,>=3.10.11 in /usr/local/lib/python3.11/dist-packages (from openbb-core<2.0.0,>=1.3.6->openbb==4.3.5->openbb[all]==4.3.5) (3.11.11)\n",
            "Collecting fastapi<0.116,>=0.115 (from openbb-core<2.0.0,>=1.3.6->openbb==4.3.5->openbb[all]==4.3.5)\n",
            "  Downloading fastapi-0.115.7-py3-none-any.whl.metadata (27 kB)\n",
            "Requirement already satisfied: html5lib<2.0,>=1.1 in /usr/local/lib/python3.11/dist-packages (from openbb-core<2.0.0,>=1.3.6->openbb==4.3.5->openbb[all]==4.3.5) (1.1)\n",
            "Requirement already satisfied: importlib-metadata>=6.8.0 in /usr/local/lib/python3.11/dist-packages (from openbb-core<2.0.0,>=1.3.6->openbb==4.3.5->openbb[all]==4.3.5) (8.6.1)\n",
            "Requirement already satisfied: pandas>=1.5.3 in /usr/local/lib/python3.11/dist-packages (from openbb-core<2.0.0,>=1.3.6->openbb==4.3.5->openbb[all]==4.3.5) (2.2.2)\n",
            "Collecting posthog<4.0.0,>=3.3.1 (from openbb-core<2.0.0,>=1.3.6->openbb==4.3.5->openbb[all]==4.3.5)\n",
            "  Downloading posthog-3.10.0-py2.py3-none-any.whl.metadata (2.8 kB)\n",
            "Requirement already satisfied: pydantic<3.0.0,>=2.5.1 in /usr/local/lib/python3.11/dist-packages (from openbb-core<2.0.0,>=1.3.6->openbb==4.3.5->openbb[all]==4.3.5) (2.10.5)\n",
            "Requirement already satisfied: pyjwt<3.0.0,>=2.10.1 in /usr/local/lib/python3.11/dist-packages (from openbb-core<2.0.0,>=1.3.6->openbb==4.3.5->openbb[all]==4.3.5) (2.10.1)\n",
            "Requirement already satisfied: python-dotenv<2.0.0,>=1.0.0 in /usr/local/lib/python3.11/dist-packages (from openbb-core<2.0.0,>=1.3.6->openbb==4.3.5->openbb[all]==4.3.5) (1.0.1)\n",
            "Collecting python-multipart<0.0.19,>=0.0.18 (from openbb-core<2.0.0,>=1.3.6->openbb==4.3.5->openbb[all]==4.3.5)\n",
            "  Downloading python_multipart-0.0.18-py3-none-any.whl.metadata (1.8 kB)\n",
            "Requirement already satisfied: requests<3.0.0,>=2.32.1 in /usr/local/lib/python3.11/dist-packages (from openbb-core<2.0.0,>=1.3.6->openbb==4.3.5->openbb[all]==4.3.5) (2.32.3)\n",
            "Collecting ruff<0.8,>=0.7 (from openbb-core<2.0.0,>=1.3.6->openbb==4.3.5->openbb[all]==4.3.5)\n",
            "  Downloading ruff-0.7.4-py3-none-manylinux_2_17_x86_64.manylinux2014_x86_64.whl.metadata (25 kB)\n",
            "Collecting uuid7<0.2.0,>=0.1.0 (from openbb-core<2.0.0,>=1.3.6->openbb==4.3.5->openbb[all]==4.3.5)\n",
            "  Downloading uuid7-0.1.0-py2.py3-none-any.whl.metadata (3.6 kB)\n",
            "Collecting uvicorn<0.33.0,>=0.32.0 (from openbb-core<2.0.0,>=1.3.6->openbb==4.3.5->openbb[all]==4.3.5)\n",
            "  Downloading uvicorn-0.32.1-py3-none-any.whl.metadata (6.6 kB)\n",
            "Requirement already satisfied: websockets<15.0,>=14.0 in /usr/local/lib/python3.11/dist-packages (from openbb-core<2.0.0,>=1.3.6->openbb==4.3.5->openbb[all]==4.3.5) (14.2)\n",
            "Collecting xmltodict<0.14.0,>=0.13.0 (from openbb-ecb<2.0.0,>=1.3.5->openbb[all]==4.3.5)\n",
            "  Downloading xmltodict-0.13.0-py2.py3-none-any.whl.metadata (7.7 kB)\n",
            "Collecting arch<8,>=7 (from openbb-econometrics<2.0.0,>=1.4.5->openbb[all]==4.3.5)\n",
            "  Downloading arch-7.2.0-cp311-cp311-manylinux_2_17_x86_64.manylinux2014_x86_64.whl.metadata (13 kB)\n",
            "Collecting linearmodels<7,>=6 (from openbb-econometrics<2.0.0,>=1.4.5->openbb[all]==4.3.5)\n",
            "  Downloading linearmodels-6.1-cp311-cp311-manylinux_2_17_x86_64.manylinux2014_x86_64.whl.metadata (7.9 kB)\n",
            "Collecting finvizfinance<2.0.0,>=1.1.0 (from openbb-finviz<2.0.0,>=1.2.5->openbb[all]==4.3.5)\n",
            "  Downloading finvizfinance-1.1.0-py3-none-any.whl.metadata (5.0 kB)\n",
            "Collecting random-user-agent<2.0.0,>=1.0.1 (from openbb-government-us<2.0.0,>=1.3.5->openbb[all]==4.3.5)\n",
            "  Downloading random_user_agent-1.0.1-py3-none-any.whl.metadata (2.7 kB)\n",
            "Collecting requests-cache<2.0.0,>=1.1.0 (from openbb-intrinio<2.0.0,>=1.3.5->openbb==4.3.5->openbb[all]==4.3.5)\n",
            "  Downloading requests_cache-1.2.1-py3-none-any.whl.metadata (9.9 kB)\n",
            "Collecting nasdaq-data-link<2.0.0,>=1.0.4 (from openbb-nasdaq<2.0.0,>=1.3.5->openbb[all]==4.3.5)\n",
            "  Downloading Nasdaq_Data_Link-1.0.4-py2.py3-none-any.whl.metadata (1.3 kB)\n",
            "Collecting defusedxml<0.9.0,>=0.8.0rc2 (from openbb-oecd<2.0.0,>=1.3.5->openbb==4.3.5->openbb[all]==4.3.5)\n",
            "  Downloading defusedxml-0.8.0rc2-py2.py3-none-any.whl.metadata (33 kB)\n",
            "Requirement already satisfied: urllib3>1.26.16 in /usr/local/lib/python3.11/dist-packages (from openbb-oecd<2.0.0,>=1.3.5->openbb==4.3.5->openbb[all]==4.3.5) (2.3.0)\n",
            "Collecting black (from openbb-platform-api<2.0.0,>=1.0.4->openbb==4.3.5->openbb[all]==4.3.5)\n",
            "  Downloading black-24.10.0-cp311-cp311-manylinux_2_17_x86_64.manylinux2014_x86_64.manylinux_2_28_x86_64.whl.metadata (79 kB)\n",
            "\u001b[2K     \u001b[90m━━━━━━━━━━━━━━━━━━━━━━━━━━━━━━━━━━━━━━━━\u001b[0m \u001b[32m79.2/79.2 kB\u001b[0m \u001b[31m7.8 MB/s\u001b[0m eta \u001b[36m0:00:00\u001b[0m\n",
            "\u001b[?25hCollecting deepdiff (from openbb-platform-api<2.0.0,>=1.0.4->openbb==4.3.5->openbb[all]==4.3.5)\n",
            "  Downloading deepdiff-8.1.1-py3-none-any.whl.metadata (9.5 kB)\n",
            "Collecting poetry<2.0,>=1.8 (from openbb-platform-api<2.0.0,>=1.0.4->openbb==4.3.5->openbb[all]==4.3.5)\n",
            "  Downloading poetry-1.8.5-py3-none-any.whl.metadata (6.9 kB)\n",
            "Requirement already satisfied: setuptools in /usr/local/lib/python3.11/dist-packages (from openbb-platform-api<2.0.0,>=1.0.4->openbb==4.3.5->openbb[all]==4.3.5) (75.1.0)\n",
            "Requirement already satisfied: beautifulsoup4<5.0,>=4.12 in /usr/local/lib/python3.11/dist-packages (from openbb-sec<2.0.0,>=1.3.5->openbb==4.3.5->openbb[all]==4.3.5) (4.12.3)\n",
            "Requirement already satisfied: lxml<6.0.0,>=5.2.1 in /usr/local/lib/python3.11/dist-packages (from openbb-sec<2.0.0,>=1.3.5->openbb==4.3.5->openbb[all]==4.3.5) (5.3.0)\n",
            "Collecting pytest-freezegun<0.5.0,>=0.4.2 (from openbb-stockgrid<2.0.0,>=1.3.5->openbb[all]==4.3.5)\n",
            "  Downloading pytest_freezegun-0.4.2-py2.py3-none-any.whl.metadata (4.5 kB)\n",
            "Requirement already satisfied: scikit-learn<2.0.0,>=1.5.0 in /usr/local/lib/python3.11/dist-packages (from openbb-technical<2.0.0,>=1.3.5->openbb[all]==4.3.5) (1.6.1)\n",
            "Collecting exchange-calendars<5.0.0,>=4.5.4 (from openbb-tmx<2.0.0,>=1.2.5->openbb[all]==4.3.5)\n",
            "  Downloading exchange_calendars-4.8-py3-none-any.whl.metadata (37 kB)\n",
            "Collecting async-lru<3.0.0,>=2.0.4 (from openbb-us-eia<2.0.0,>=1.0.0->openbb==4.3.5->openbb[all]==4.3.5)\n",
            "  Downloading async_lru-2.0.4-py3-none-any.whl.metadata (4.5 kB)\n",
            "Requirement already satisfied: openpyxl<4.0.0,>=3.1.5 in /usr/local/lib/python3.11/dist-packages (from openbb-us-eia<2.0.0,>=1.0.0->openbb==4.3.5->openbb[all]==4.3.5) (3.1.5)\n",
            "Requirement already satisfied: xlrd<3.0.0,>=2.0.1 in /usr/local/lib/python3.11/dist-packages (from openbb-us-eia<2.0.0,>=1.0.0->openbb==4.3.5->openbb[all]==4.3.5) (2.0.1)\n",
            "Requirement already satisfied: yfinance<0.3.0,>=0.2.50 in /usr/local/lib/python3.11/dist-packages (from openbb-yfinance<2.0.0,>=1.3.6->openbb==4.3.5->openbb[all]==4.3.5) (0.2.51)\n",
            "Requirement already satisfied: aiohappyeyeballs>=2.3.0 in /usr/local/lib/python3.11/dist-packages (from aiohttp<4.0.0,>=3.10.11->openbb-core<2.0.0,>=1.3.6->openbb==4.3.5->openbb[all]==4.3.5) (2.4.4)\n",
            "Requirement already satisfied: aiosignal>=1.1.2 in /usr/local/lib/python3.11/dist-packages (from aiohttp<4.0.0,>=3.10.11->openbb-core<2.0.0,>=1.3.6->openbb==4.3.5->openbb[all]==4.3.5) (1.3.2)\n",
            "Requirement already satisfied: attrs>=17.3.0 in /usr/local/lib/python3.11/dist-packages (from aiohttp<4.0.0,>=3.10.11->openbb-core<2.0.0,>=1.3.6->openbb==4.3.5->openbb[all]==4.3.5) (24.3.0)\n",
            "Requirement already satisfied: frozenlist>=1.1.1 in /usr/local/lib/python3.11/dist-packages (from aiohttp<4.0.0,>=3.10.11->openbb-core<2.0.0,>=1.3.6->openbb==4.3.5->openbb[all]==4.3.5) (1.5.0)\n",
            "Requirement already satisfied: multidict<7.0,>=4.5 in /usr/local/lib/python3.11/dist-packages (from aiohttp<4.0.0,>=3.10.11->openbb-core<2.0.0,>=1.3.6->openbb==4.3.5->openbb[all]==4.3.5) (6.1.0)\n",
            "Requirement already satisfied: propcache>=0.2.0 in /usr/local/lib/python3.11/dist-packages (from aiohttp<4.0.0,>=3.10.11->openbb-core<2.0.0,>=1.3.6->openbb==4.3.5->openbb[all]==4.3.5) (0.2.1)\n",
            "Requirement already satisfied: yarl<2.0,>=1.17.0 in /usr/local/lib/python3.11/dist-packages (from aiohttp<4.0.0,>=3.10.11->openbb-core<2.0.0,>=1.3.6->openbb==4.3.5->openbb[all]==4.3.5) (1.18.3)\n",
            "Requirement already satisfied: itsdangerous>=2.0 in /usr/local/lib/python3.11/dist-packages (from aiohttp-client-cache<0.12.0,>=0.11.0->openbb-cboe<2.0.0,>=1.3.5->openbb[all]==4.3.5) (2.2.0)\n",
            "Collecting url-normalize<2.0,>=1.4 (from aiohttp-client-cache<0.12.0,>=0.11.0->openbb-cboe<2.0.0,>=1.3.5->openbb[all]==4.3.5)\n",
            "  Downloading url_normalize-1.4.3-py2.py3-none-any.whl.metadata (3.1 kB)\n",
            "Requirement already satisfied: typing_extensions>=4.0 in /usr/local/lib/python3.11/dist-packages (from aiosqlite<0.21.0,>=0.20.0->openbb-cboe<2.0.0,>=1.3.5->openbb[all]==4.3.5) (4.12.2)\n",
            "Requirement already satisfied: soupsieve>1.2 in /usr/local/lib/python3.11/dist-packages (from beautifulsoup4<5.0,>=4.12->openbb-sec<2.0.0,>=1.3.5->openbb==4.3.5->openbb[all]==4.3.5) (2.6)\n",
            "Collecting pyluach (from exchange-calendars<5.0.0,>=4.5.4->openbb-tmx<2.0.0,>=1.2.5->openbb[all]==4.3.5)\n",
            "  Downloading pyluach-2.2.0-py3-none-any.whl.metadata (4.3 kB)\n",
            "Requirement already satisfied: toolz in /usr/local/lib/python3.11/dist-packages (from exchange-calendars<5.0.0,>=4.5.4->openbb-tmx<2.0.0,>=1.2.5->openbb[all]==4.3.5) (0.12.1)\n",
            "Requirement already satisfied: tzdata in /usr/local/lib/python3.11/dist-packages (from exchange-calendars<5.0.0,>=4.5.4->openbb-tmx<2.0.0,>=1.2.5->openbb[all]==4.3.5) (2025.1)\n",
            "Collecting korean_lunar_calendar (from exchange-calendars<5.0.0,>=4.5.4->openbb-tmx<2.0.0,>=1.2.5->openbb[all]==4.3.5)\n",
            "  Downloading korean_lunar_calendar-0.3.1-py3-none-any.whl.metadata (2.8 kB)\n",
            "Collecting starlette<0.46.0,>=0.40.0 (from fastapi<0.116,>=0.115->openbb-core<2.0.0,>=1.3.6->openbb==4.3.5->openbb[all]==4.3.5)\n",
            "  Downloading starlette-0.45.3-py3-none-any.whl.metadata (6.3 kB)\n",
            "Requirement already satisfied: six>=1.9 in /usr/local/lib/python3.11/dist-packages (from html5lib<2.0,>=1.1->openbb-core<2.0.0,>=1.3.6->openbb==4.3.5->openbb[all]==4.3.5) (1.17.0)\n",
            "Requirement already satisfied: webencodings in /usr/local/lib/python3.11/dist-packages (from html5lib<2.0,>=1.1->openbb-core<2.0.0,>=1.3.6->openbb==4.3.5->openbb[all]==4.3.5) (0.5.1)\n",
            "Requirement already satisfied: zipp>=3.20 in /usr/local/lib/python3.11/dist-packages (from importlib-metadata>=6.8.0->openbb-core<2.0.0,>=1.3.6->openbb==4.3.5->openbb[all]==4.3.5) (3.21.0)\n",
            "Requirement already satisfied: mypy-extensions>=0.4 in /usr/local/lib/python3.11/dist-packages (from linearmodels<7,>=6->openbb-econometrics<2.0.0,>=1.4.5->openbb[all]==4.3.5) (1.0.0)\n",
            "Requirement already satisfied: Cython>=3.0.10 in /usr/local/lib/python3.11/dist-packages (from linearmodels<7,>=6->openbb-econometrics<2.0.0,>=1.4.5->openbb[all]==4.3.5) (3.0.11)\n",
            "Collecting pyhdfe>=0.1 (from linearmodels<7,>=6->openbb-econometrics<2.0.0,>=1.4.5->openbb[all]==4.3.5)\n",
            "  Downloading pyhdfe-0.2.0-py3-none-any.whl.metadata (4.0 kB)\n",
            "Collecting formulaic>=1.0.0 (from linearmodels<7,>=6->openbb-econometrics<2.0.0,>=1.4.5->openbb[all]==4.3.5)\n",
            "  Downloading formulaic-1.1.1-py3-none-any.whl.metadata (6.9 kB)\n",
            "Collecting setuptools-scm<9.0.0,>=8.0.0 (from setuptools-scm[toml]<9.0.0,>=8.0.0->linearmodels<7,>=6->openbb-econometrics<2.0.0,>=1.4.5->openbb[all]==4.3.5)\n",
            "  Downloading setuptools_scm-8.1.0-py3-none-any.whl.metadata (6.6 kB)\n",
            "Collecting inflection>=0.3.1 (from nasdaq-data-link<2.0.0,>=1.0.4->openbb-nasdaq<2.0.0,>=1.3.5->openbb[all]==4.3.5)\n",
            "  Downloading inflection-0.5.1-py2.py3-none-any.whl.metadata (1.7 kB)\n",
            "Requirement already satisfied: python-dateutil in /usr/local/lib/python3.11/dist-packages (from nasdaq-data-link<2.0.0,>=1.0.4->openbb-nasdaq<2.0.0,>=1.3.5->openbb[all]==4.3.5) (2.8.2)\n",
            "Requirement already satisfied: more-itertools in /usr/local/lib/python3.11/dist-packages (from nasdaq-data-link<2.0.0,>=1.0.4->openbb-nasdaq<2.0.0,>=1.3.5->openbb[all]==4.3.5) (10.5.0)\n",
            "Requirement already satisfied: fastjsonschema>=2.15 in /usr/local/lib/python3.11/dist-packages (from nbformat<6.0.0,>=5.9.2->openbb-charting<3.0.0,>=2.2.5->openbb[all]==4.3.5) (2.21.1)\n",
            "Requirement already satisfied: jsonschema>=2.6 in /usr/local/lib/python3.11/dist-packages (from nbformat<6.0.0,>=5.9.2->openbb-charting<3.0.0,>=2.2.5->openbb[all]==4.3.5) (4.23.0)\n",
            "Requirement already satisfied: jupyter-core!=5.0.*,>=4.12 in /usr/local/lib/python3.11/dist-packages (from nbformat<6.0.0,>=5.9.2->openbb-charting<3.0.0,>=2.2.5->openbb[all]==4.3.5) (5.7.2)\n",
            "Requirement already satisfied: traitlets>=5.1 in /usr/local/lib/python3.11/dist-packages (from nbformat<6.0.0,>=5.9.2->openbb-charting<3.0.0,>=2.2.5->openbb[all]==4.3.5) (5.7.1)\n",
            "Requirement already satisfied: et-xmlfile in /usr/local/lib/python3.11/dist-packages (from openpyxl<4.0.0,>=3.1.5->openbb-us-eia<2.0.0,>=1.0.0->openbb==4.3.5->openbb[all]==4.3.5) (2.0.0)\n",
            "Requirement already satisfied: pytz>=2020.1 in /usr/local/lib/python3.11/dist-packages (from pandas>=1.5.3->openbb-core<2.0.0,>=1.3.6->openbb==4.3.5->openbb[all]==4.3.5) (2024.2)\n",
            "Requirement already satisfied: tenacity>=6.2.0 in /usr/local/lib/python3.11/dist-packages (from plotly<6.0.0,>=5.17.0->openbb-charting<3.0.0,>=2.2.5->openbb[all]==4.3.5) (9.0.0)\n",
            "Requirement already satisfied: packaging in /usr/local/lib/python3.11/dist-packages (from plotly<6.0.0,>=5.17.0->openbb-charting<3.0.0,>=2.2.5->openbb[all]==4.3.5) (24.2)\n",
            "Collecting build<2.0.0,>=1.0.3 (from poetry<2.0,>=1.8->openbb-platform-api<2.0.0,>=1.0.4->openbb==4.3.5->openbb[all]==4.3.5)\n",
            "  Downloading build-1.2.2.post1-py3-none-any.whl.metadata (6.5 kB)\n",
            "Requirement already satisfied: cachecontrol<0.15.0,>=0.14.0 in /usr/local/lib/python3.11/dist-packages (from cachecontrol[filecache]<0.15.0,>=0.14.0->poetry<2.0,>=1.8->openbb-platform-api<2.0.0,>=1.0.4->openbb==4.3.5->openbb[all]==4.3.5) (0.14.2)\n",
            "Collecting cleo<3.0.0,>=2.1.0 (from poetry<2.0,>=1.8->openbb-platform-api<2.0.0,>=1.0.4->openbb==4.3.5->openbb[all]==4.3.5)\n",
            "  Downloading cleo-2.1.0-py3-none-any.whl.metadata (12 kB)\n",
            "Collecting crashtest<0.5.0,>=0.4.1 (from poetry<2.0,>=1.8->openbb-platform-api<2.0.0,>=1.0.4->openbb==4.3.5->openbb[all]==4.3.5)\n",
            "  Downloading crashtest-0.4.1-py3-none-any.whl.metadata (1.1 kB)\n",
            "Collecting dulwich<0.22.0,>=0.21.2 (from poetry<2.0,>=1.8->openbb-platform-api<2.0.0,>=1.0.4->openbb==4.3.5->openbb[all]==4.3.5)\n",
            "  Downloading dulwich-0.21.7-cp311-cp311-manylinux_2_17_x86_64.manylinux2014_x86_64.whl.metadata (4.3 kB)\n",
            "Collecting installer<0.8.0,>=0.7.0 (from poetry<2.0,>=1.8->openbb-platform-api<2.0.0,>=1.0.4->openbb==4.3.5->openbb[all]==4.3.5)\n",
            "  Downloading installer-0.7.0-py3-none-any.whl.metadata (936 bytes)\n",
            "Collecting keyring<25.0.0,>=24.0.0 (from poetry<2.0,>=1.8->openbb-platform-api<2.0.0,>=1.0.4->openbb==4.3.5->openbb[all]==4.3.5)\n",
            "  Downloading keyring-24.3.1-py3-none-any.whl.metadata (20 kB)\n",
            "Requirement already satisfied: pexpect<5.0.0,>=4.7.0 in /usr/local/lib/python3.11/dist-packages (from poetry<2.0,>=1.8->openbb-platform-api<2.0.0,>=1.0.4->openbb==4.3.5->openbb[all]==4.3.5) (4.9.0)\n",
            "Collecting pkginfo<2.0,>=1.12 (from poetry<2.0,>=1.8->openbb-platform-api<2.0.0,>=1.0.4->openbb==4.3.5->openbb[all]==4.3.5)\n",
            "  Downloading pkginfo-1.12.0-py3-none-any.whl.metadata (12 kB)\n",
            "Requirement already satisfied: platformdirs<5,>=3.0.0 in /usr/local/lib/python3.11/dist-packages (from poetry<2.0,>=1.8->openbb-platform-api<2.0.0,>=1.0.4->openbb==4.3.5->openbb[all]==4.3.5) (4.3.6)\n",
            "Collecting poetry-core==1.9.1 (from poetry<2.0,>=1.8->openbb-platform-api<2.0.0,>=1.0.4->openbb==4.3.5->openbb[all]==4.3.5)\n",
            "  Downloading poetry_core-1.9.1-py3-none-any.whl.metadata (3.5 kB)\n",
            "Collecting poetry-plugin-export<2.0.0,>=1.6.0 (from poetry<2.0,>=1.8->openbb-platform-api<2.0.0,>=1.0.4->openbb==4.3.5->openbb[all]==4.3.5)\n",
            "  Downloading poetry_plugin_export-1.9.0-py3-none-any.whl.metadata (3.1 kB)\n",
            "Collecting pyproject-hooks<2.0.0,>=1.0.0 (from poetry<2.0,>=1.8->openbb-platform-api<2.0.0,>=1.0.4->openbb==4.3.5->openbb[all]==4.3.5)\n",
            "  Downloading pyproject_hooks-1.2.0-py3-none-any.whl.metadata (1.3 kB)\n",
            "Requirement already satisfied: requests-toolbelt<2.0.0,>=1.0.0 in /usr/local/lib/python3.11/dist-packages (from poetry<2.0,>=1.8->openbb-platform-api<2.0.0,>=1.0.4->openbb==4.3.5->openbb[all]==4.3.5) (1.0.0)\n",
            "Requirement already satisfied: shellingham<2.0,>=1.5 in /usr/local/lib/python3.11/dist-packages (from poetry<2.0,>=1.8->openbb-platform-api<2.0.0,>=1.0.4->openbb==4.3.5->openbb[all]==4.3.5) (1.5.4)\n",
            "Collecting tomlkit<1.0.0,>=0.11.4 (from poetry<2.0,>=1.8->openbb-platform-api<2.0.0,>=1.0.4->openbb==4.3.5->openbb[all]==4.3.5)\n",
            "  Downloading tomlkit-0.13.2-py3-none-any.whl.metadata (2.7 kB)\n",
            "Collecting trove-classifiers>=2022.5.19 (from poetry<2.0,>=1.8->openbb-platform-api<2.0.0,>=1.0.4->openbb==4.3.5->openbb[all]==4.3.5)\n",
            "  Downloading trove_classifiers-2025.1.15.22-py3-none-any.whl.metadata (2.3 kB)\n",
            "Collecting virtualenv<21.0.0,>=20.26.6 (from poetry<2.0,>=1.8->openbb-platform-api<2.0.0,>=1.0.4->openbb==4.3.5->openbb[all]==4.3.5)\n",
            "  Downloading virtualenv-20.29.1-py3-none-any.whl.metadata (4.5 kB)\n",
            "Collecting monotonic>=1.5 (from posthog<4.0.0,>=3.3.1->openbb-core<2.0.0,>=1.3.6->openbb==4.3.5->openbb[all]==4.3.5)\n",
            "  Downloading monotonic-1.6-py2.py3-none-any.whl.metadata (1.5 kB)\n",
            "Collecting backoff>=1.10.0 (from posthog<4.0.0,>=3.3.1->openbb-core<2.0.0,>=1.3.6->openbb==4.3.5->openbb[all]==4.3.5)\n",
            "  Downloading backoff-2.2.1-py3-none-any.whl.metadata (14 kB)\n",
            "Requirement already satisfied: annotated-types>=0.6.0 in /usr/local/lib/python3.11/dist-packages (from pydantic<3.0.0,>=2.5.1->openbb-core<2.0.0,>=1.3.6->openbb==4.3.5->openbb[all]==4.3.5) (0.7.0)\n",
            "Requirement already satisfied: pydantic-core==2.27.2 in /usr/local/lib/python3.11/dist-packages (from pydantic<3.0.0,>=2.5.1->openbb-core<2.0.0,>=1.3.6->openbb==4.3.5->openbb[all]==4.3.5) (2.27.2)\n",
            "Collecting freezegun>0.3 (from pytest-freezegun<0.5.0,>=0.4.2->openbb-stockgrid<2.0.0,>=1.3.5->openbb[all]==4.3.5)\n",
            "  Downloading freezegun-1.5.1-py3-none-any.whl.metadata (11 kB)\n",
            "Requirement already satisfied: pytest>=3.0.0 in /usr/local/lib/python3.11/dist-packages (from pytest-freezegun<0.5.0,>=0.4.2->openbb-stockgrid<2.0.0,>=1.3.5->openbb[all]==4.3.5) (8.3.4)\n",
            "Requirement already satisfied: charset-normalizer<4,>=2 in /usr/local/lib/python3.11/dist-packages (from requests<3.0.0,>=2.32.1->openbb-core<2.0.0,>=1.3.6->openbb==4.3.5->openbb[all]==4.3.5) (3.4.1)\n",
            "Requirement already satisfied: idna<4,>=2.5 in /usr/local/lib/python3.11/dist-packages (from requests<3.0.0,>=2.32.1->openbb-core<2.0.0,>=1.3.6->openbb==4.3.5->openbb[all]==4.3.5) (3.10)\n",
            "Requirement already satisfied: certifi>=2017.4.17 in /usr/local/lib/python3.11/dist-packages (from requests<3.0.0,>=2.32.1->openbb-core<2.0.0,>=1.3.6->openbb==4.3.5->openbb[all]==4.3.5) (2024.12.14)\n",
            "Collecting cattrs>=22.2 (from requests-cache<2.0.0,>=1.1.0->openbb-intrinio<2.0.0,>=1.3.5->openbb==4.3.5->openbb[all]==4.3.5)\n",
            "  Downloading cattrs-24.1.2-py3-none-any.whl.metadata (8.4 kB)\n",
            "Requirement already satisfied: joblib>=1.2.0 in /usr/local/lib/python3.11/dist-packages (from scikit-learn<2.0.0,>=1.5.0->openbb-technical<2.0.0,>=1.3.5->openbb[all]==4.3.5) (1.4.2)\n",
            "Requirement already satisfied: threadpoolctl>=3.1.0 in /usr/local/lib/python3.11/dist-packages (from scikit-learn<2.0.0,>=1.5.0->openbb-technical<2.0.0,>=1.3.5->openbb[all]==4.3.5) (3.5.0)\n",
            "Requirement already satisfied: patsy>=0.5.6 in /usr/local/lib/python3.11/dist-packages (from statsmodels<0.15.0,>=0.14.0->openbb-charting<3.0.0,>=2.2.5->openbb[all]==4.3.5) (1.0.1)\n",
            "Requirement already satisfied: click>=7.0 in /usr/local/lib/python3.11/dist-packages (from uvicorn<0.33.0,>=0.32.0->openbb-core<2.0.0,>=1.3.6->openbb==4.3.5->openbb[all]==4.3.5) (8.1.8)\n",
            "Requirement already satisfied: h11>=0.8 in /usr/local/lib/python3.11/dist-packages (from uvicorn<0.33.0,>=0.32.0->openbb-core<2.0.0,>=1.3.6->openbb==4.3.5->openbb[all]==4.3.5) (0.14.0)\n",
            "Requirement already satisfied: multitasking>=0.0.7 in /usr/local/lib/python3.11/dist-packages (from yfinance<0.3.0,>=0.2.50->openbb-yfinance<2.0.0,>=1.3.6->openbb==4.3.5->openbb[all]==4.3.5) (0.0.11)\n",
            "Requirement already satisfied: frozendict>=2.3.4 in /usr/local/lib/python3.11/dist-packages (from yfinance<0.3.0,>=0.2.50->openbb-yfinance<2.0.0,>=1.3.6->openbb==4.3.5->openbb[all]==4.3.5) (2.4.6)\n",
            "Requirement already satisfied: peewee>=3.16.2 in /usr/local/lib/python3.11/dist-packages (from yfinance<0.3.0,>=0.2.50->openbb-yfinance<2.0.0,>=1.3.6->openbb==4.3.5->openbb[all]==4.3.5) (3.17.8)\n",
            "Collecting pathspec>=0.9.0 (from black->openbb-platform-api<2.0.0,>=1.0.4->openbb==4.3.5->openbb[all]==4.3.5)\n",
            "  Downloading pathspec-0.12.1-py3-none-any.whl.metadata (21 kB)\n",
            "Collecting orderly-set<6,>=5.2.3 (from deepdiff->openbb-platform-api<2.0.0,>=1.0.4->openbb==4.3.5->openbb[all]==4.3.5)\n",
            "  Downloading orderly_set-5.2.3-py3-none-any.whl.metadata (6.0 kB)\n",
            "Requirement already satisfied: msgpack<2.0.0,>=0.5.2 in /usr/local/lib/python3.11/dist-packages (from cachecontrol<0.15.0,>=0.14.0->cachecontrol[filecache]<0.15.0,>=0.14.0->poetry<2.0,>=1.8->openbb-platform-api<2.0.0,>=1.0.4->openbb==4.3.5->openbb[all]==4.3.5) (1.1.0)\n",
            "Requirement already satisfied: filelock>=3.8.0 in /usr/local/lib/python3.11/dist-packages (from cachecontrol[filecache]<0.15.0,>=0.14.0->poetry<2.0,>=1.8->openbb-platform-api<2.0.0,>=1.0.4->openbb==4.3.5->openbb[all]==4.3.5) (3.17.0)\n",
            "Collecting rapidfuzz<4.0.0,>=3.0.0 (from cleo<3.0.0,>=2.1.0->poetry<2.0,>=1.8->openbb-platform-api<2.0.0,>=1.0.4->openbb==4.3.5->openbb[all]==4.3.5)\n",
            "  Downloading rapidfuzz-3.11.0-cp311-cp311-manylinux_2_17_x86_64.manylinux2014_x86_64.whl.metadata (11 kB)\n",
            "Collecting interface-meta>=1.2.0 (from formulaic>=1.0.0->linearmodels<7,>=6->openbb-econometrics<2.0.0,>=1.4.5->openbb[all]==4.3.5)\n",
            "  Downloading interface_meta-1.3.0-py3-none-any.whl.metadata (6.7 kB)\n",
            "Requirement already satisfied: wrapt>=1.0 in /usr/local/lib/python3.11/dist-packages (from formulaic>=1.0.0->linearmodels<7,>=6->openbb-econometrics<2.0.0,>=1.4.5->openbb[all]==4.3.5) (1.17.2)\n",
            "Requirement already satisfied: jsonschema-specifications>=2023.03.6 in /usr/local/lib/python3.11/dist-packages (from jsonschema>=2.6->nbformat<6.0.0,>=5.9.2->openbb-charting<3.0.0,>=2.2.5->openbb[all]==4.3.5) (2024.10.1)\n",
            "Requirement already satisfied: referencing>=0.28.4 in /usr/local/lib/python3.11/dist-packages (from jsonschema>=2.6->nbformat<6.0.0,>=5.9.2->openbb-charting<3.0.0,>=2.2.5->openbb[all]==4.3.5) (0.36.1)\n",
            "Requirement already satisfied: rpds-py>=0.7.1 in /usr/local/lib/python3.11/dist-packages (from jsonschema>=2.6->nbformat<6.0.0,>=5.9.2->openbb-charting<3.0.0,>=2.2.5->openbb[all]==4.3.5) (0.22.3)\n",
            "Collecting jaraco.classes (from keyring<25.0.0,>=24.0.0->poetry<2.0,>=1.8->openbb-platform-api<2.0.0,>=1.0.4->openbb==4.3.5->openbb[all]==4.3.5)\n",
            "  Downloading jaraco.classes-3.4.0-py3-none-any.whl.metadata (2.6 kB)\n",
            "Requirement already satisfied: SecretStorage>=3.2 in /usr/lib/python3/dist-packages (from keyring<25.0.0,>=24.0.0->poetry<2.0,>=1.8->openbb-platform-api<2.0.0,>=1.0.4->openbb==4.3.5->openbb[all]==4.3.5) (3.3.1)\n",
            "Requirement already satisfied: jeepney>=0.4.2 in /usr/lib/python3/dist-packages (from keyring<25.0.0,>=24.0.0->poetry<2.0,>=1.8->openbb-platform-api<2.0.0,>=1.0.4->openbb==4.3.5->openbb[all]==4.3.5) (0.7.1)\n",
            "Requirement already satisfied: ptyprocess>=0.5 in /usr/local/lib/python3.11/dist-packages (from pexpect<5.0.0,>=4.7.0->poetry<2.0,>=1.8->openbb-platform-api<2.0.0,>=1.0.4->openbb==4.3.5->openbb[all]==4.3.5) (0.7.0)\n",
            "INFO: pip is looking at multiple versions of poetry-plugin-export to determine which version is compatible with other requirements. This could take a while.\n",
            "Collecting poetry-plugin-export<2.0.0,>=1.6.0 (from poetry<2.0,>=1.8->openbb-platform-api<2.0.0,>=1.0.4->openbb==4.3.5->openbb[all]==4.3.5)\n",
            "  Downloading poetry_plugin_export-1.8.0-py3-none-any.whl.metadata (2.8 kB)\n",
            "Requirement already satisfied: iniconfig in /usr/local/lib/python3.11/dist-packages (from pytest>=3.0.0->pytest-freezegun<0.5.0,>=0.4.2->openbb-stockgrid<2.0.0,>=1.3.5->openbb[all]==4.3.5) (2.0.0)\n",
            "Requirement already satisfied: pluggy<2,>=1.5 in /usr/local/lib/python3.11/dist-packages (from pytest>=3.0.0->pytest-freezegun<0.5.0,>=0.4.2->openbb-stockgrid<2.0.0,>=1.3.5->openbb[all]==4.3.5) (1.5.0)\n",
            "Requirement already satisfied: anyio<5,>=3.6.2 in /usr/local/lib/python3.11/dist-packages (from starlette<0.46.0,>=0.40.0->fastapi<0.116,>=0.115->openbb-core<2.0.0,>=1.3.6->openbb==4.3.5->openbb[all]==4.3.5) (3.7.1)\n",
            "Collecting distlib<1,>=0.3.7 (from virtualenv<21.0.0,>=20.26.6->poetry<2.0,>=1.8->openbb-platform-api<2.0.0,>=1.0.4->openbb==4.3.5->openbb[all]==4.3.5)\n",
            "  Downloading distlib-0.3.9-py2.py3-none-any.whl.metadata (5.2 kB)\n",
            "Requirement already satisfied: sniffio>=1.1 in /usr/local/lib/python3.11/dist-packages (from anyio<5,>=3.6.2->starlette<0.46.0,>=0.40.0->fastapi<0.116,>=0.115->openbb-core<2.0.0,>=1.3.6->openbb==4.3.5->openbb[all]==4.3.5) (1.3.1)\n",
            "Downloading openbb-4.3.5-py3-none-any.whl (285 kB)\n",
            "\u001b[2K   \u001b[90m━━━━━━━━━━━━━━━━━━━━━━━━━━━━━━━━━━━━━━━━\u001b[0m \u001b[32m285.0/285.0 kB\u001b[0m \u001b[31m12.8 MB/s\u001b[0m eta \u001b[36m0:00:00\u001b[0m\n",
            "\u001b[?25hDownloading openbb_alpha_vantage-1.3.5-py3-none-any.whl (9.9 kB)\n",
            "Downloading openbb_benzinga-1.3.5-py3-none-any.whl (14 kB)\n",
            "Downloading openbb_biztoc-1.3.5-py3-none-any.whl (4.9 kB)\n",
            "Downloading openbb_bls-1.0.3-py3-none-any.whl (9.8 MB)\n",
            "\u001b[2K   \u001b[90m━━━━━━━━━━━━━━━━━━━━━━━━━━━━━━━━━━━━━━━━\u001b[0m \u001b[32m9.8/9.8 MB\u001b[0m \u001b[31m54.9 MB/s\u001b[0m eta \u001b[36m0:00:00\u001b[0m\n",
            "\u001b[?25hDownloading openbb_cboe-1.3.5-py3-none-any.whl (27 kB)\n",
            "Downloading openbb_cftc-1.0.3-py3-none-any.whl (12 kB)\n",
            "Downloading openbb_charting-2.2.5-py3-none-any.whl (3.0 MB)\n",
            "\u001b[2K   \u001b[90m━━━━━━━━━━━━━━━━━━━━━━━━━━━━━━━━━━━━━━━━\u001b[0m \u001b[32m3.0/3.0 MB\u001b[0m \u001b[31m57.9 MB/s\u001b[0m eta \u001b[36m0:00:00\u001b[0m\n",
            "\u001b[?25hDownloading openbb_commodity-1.2.6-py3-none-any.whl (3.5 kB)\n",
            "Downloading openbb_core-1.3.8-py3-none-any.whl (276 kB)\n",
            "\u001b[2K   \u001b[90m━━━━━━━━━━━━━━━━━━━━━━━━━━━━━━━━━━━━━━━━\u001b[0m \u001b[32m276.3/276.3 kB\u001b[0m \u001b[31m20.5 MB/s\u001b[0m eta \u001b[36m0:00:00\u001b[0m\n",
            "\u001b[?25hDownloading openbb_crypto-1.3.5-py3-none-any.whl (4.0 kB)\n",
            "Downloading openbb_currency-1.3.5-py3-none-any.whl (4.9 kB)\n",
            "Downloading openbb_derivatives-1.3.5-py3-none-any.whl (7.0 kB)\n",
            "Downloading openbb_ecb-1.3.5-py3-none-any.whl (12 kB)\n",
            "Downloading openbb_econdb-1.2.5-py3-none-any.whl (97 kB)\n",
            "\u001b[2K   \u001b[90m━━━━━━━━━━━━━━━━━━━━━━━━━━━━━━━━━━━━━━━━\u001b[0m \u001b[32m97.0/97.0 kB\u001b[0m \u001b[31m8.5 MB/s\u001b[0m eta \u001b[36m0:00:00\u001b[0m\n",
            "\u001b[?25hDownloading openbb_econometrics-1.4.5-py3-none-any.whl (11 kB)\n",
            "Downloading openbb_economy-1.3.5-py3-none-any.whl (13 kB)\n",
            "Downloading openbb_equity-1.3.5-py3-none-any.whl (16 kB)\n",
            "Downloading openbb_etf-1.3.5-py3-none-any.whl (5.2 kB)\n",
            "Downloading openbb_federal_reserve-1.3.5-py3-none-any.whl (25 kB)\n",
            "Downloading openbb_finra-1.3.5-py3-none-any.whl (7.5 kB)\n",
            "Downloading openbb_finviz-1.2.5-py3-none-any.whl (46 kB)\n",
            "\u001b[2K   \u001b[90m━━━━━━━━━━━━━━━━━━━━━━━━━━━━━━━━━━━━━━━━\u001b[0m \u001b[32m46.3/46.3 kB\u001b[0m \u001b[31m3.7 MB/s\u001b[0m eta \u001b[36m0:00:00\u001b[0m\n",
            "\u001b[?25hDownloading openbb_fixedincome-1.3.5-py3-none-any.whl (13 kB)\n",
            "Downloading openbb_fmp-1.3.5-py3-none-any.whl (107 kB)\n",
            "\u001b[2K   \u001b[90m━━━━━━━━━━━━━━━━━━━━━━━━━━━━━━━━━━━━━━━━\u001b[0m \u001b[32m107.0/107.0 kB\u001b[0m \u001b[31m8.7 MB/s\u001b[0m eta \u001b[36m0:00:00\u001b[0m\n",
            "\u001b[?25hDownloading openbb_fred-1.3.5-py3-none-any.whl (105 kB)\n",
            "\u001b[2K   \u001b[90m━━━━━━━━━━━━━━━━━━━━━━━━━━━━━━━━━━━━━━━━\u001b[0m \u001b[32m106.0/106.0 kB\u001b[0m \u001b[31m8.5 MB/s\u001b[0m eta \u001b[36m0:00:00\u001b[0m\n",
            "\u001b[?25hDownloading openbb_government_us-1.3.5-py3-none-any.whl (7.7 kB)\n",
            "Downloading openbb_imf-1.0.2-py3-none-any.whl (23 kB)\n",
            "Downloading openbb_index-1.3.5-py3-none-any.whl (4.2 kB)\n",
            "Downloading openbb_intrinio-1.3.5-py3-none-any.whl (98 kB)\n",
            "\u001b[2K   \u001b[90m━━━━━━━━━━━━━━━━━━━━━━━━━━━━━━━━━━━━━━━━\u001b[0m \u001b[32m98.3/98.3 kB\u001b[0m \u001b[31m9.4 MB/s\u001b[0m eta \u001b[36m0:00:00\u001b[0m\n",
            "\u001b[?25hDownloading openbb_multpl-1.0.5-py3-none-any.whl (4.3 kB)\n",
            "Downloading openbb_nasdaq-1.3.5-py3-none-any.whl (20 kB)\n",
            "Downloading openbb_news-1.3.5-py3-none-any.whl (2.8 kB)\n",
            "Downloading openbb_oecd-1.3.5-py3-none-any.whl (36 kB)\n",
            "Downloading openbb_platform_api-1.0.4-py3-none-any.whl (14 kB)\n",
            "Downloading openbb_polygon-1.3.5-py3-none-any.whl (32 kB)\n",
            "Downloading openbb_quantitative-1.3.5-py3-none-any.whl (15 kB)\n",
            "Downloading openbb_regulators-1.3.5-py3-none-any.whl (4.8 kB)\n",
            "Downloading openbb_sec-1.3.5-py3-none-any.whl (52 kB)\n",
            "\u001b[2K   \u001b[90m━━━━━━━━━━━━━━━━━━━━━━━━━━━━━━━━━━━━━━━━\u001b[0m \u001b[32m52.9/52.9 kB\u001b[0m \u001b[31m4.7 MB/s\u001b[0m eta \u001b[36m0:00:00\u001b[0m\n",
            "\u001b[?25hDownloading openbb_seeking_alpha-1.3.5-py3-none-any.whl (10 kB)\n",
            "Downloading openbb_stockgrid-1.3.5-py3-none-any.whl (3.1 kB)\n",
            "Downloading openbb_technical-1.3.5-py3-none-any.whl (26 kB)\n",
            "Downloading openbb_tiingo-1.3.5-py3-none-any.whl (13 kB)\n",
            "Downloading openbb_tmx-1.2.5-py3-none-any.whl (60 kB)\n",
            "\u001b[2K   \u001b[90m━━━━━━━━━━━━━━━━━━━━━━━━━━━━━━━━━━━━━━━━\u001b[0m \u001b[32m60.1/60.1 kB\u001b[0m \u001b[31m5.6 MB/s\u001b[0m eta \u001b[36m0:00:00\u001b[0m\n",
            "\u001b[?25hDownloading openbb_tradier-1.2.5-py3-none-any.whl (13 kB)\n",
            "Downloading openbb_tradingeconomics-1.3.5-py3-none-any.whl (8.3 kB)\n",
            "Downloading openbb_us_eia-1.0.0-py3-none-any.whl (28 kB)\n",
            "Downloading openbb_wsj-1.3.5-py3-none-any.whl (6.1 kB)\n",
            "Downloading openbb_yfinance-1.3.6-py3-none-any.whl (62 kB)\n",
            "\u001b[2K   \u001b[90m━━━━━━━━━━━━━━━━━━━━━━━━━━━━━━━━━━━━━━━━\u001b[0m \u001b[32m62.7/62.7 kB\u001b[0m \u001b[31m5.2 MB/s\u001b[0m eta \u001b[36m0:00:00\u001b[0m\n",
            "\u001b[?25hDownloading aiohttp_client_cache-0.11.1-py3-none-any.whl (32 kB)\n",
            "Downloading aiosqlite-0.20.0-py3-none-any.whl (15 kB)\n",
            "Downloading arch-7.2.0-cp311-cp311-manylinux_2_17_x86_64.manylinux2014_x86_64.whl (985 kB)\n",
            "\u001b[2K   \u001b[90m━━━━━━━━━━━━━━━━━━━━━━━━━━━━━━━━━━━━━━━━\u001b[0m \u001b[32m985.3/985.3 kB\u001b[0m \u001b[31m50.8 MB/s\u001b[0m eta \u001b[36m0:00:00\u001b[0m\n",
            "\u001b[?25hDownloading async_lru-2.0.4-py3-none-any.whl (6.1 kB)\n",
            "Downloading defusedxml-0.8.0rc2-py2.py3-none-any.whl (25 kB)\n",
            "Downloading exchange_calendars-4.8-py3-none-any.whl (197 kB)\n",
            "\u001b[2K   \u001b[90m━━━━━━━━━━━━━━━━━━━━━━━━━━━━━━━━━━━━━━━━\u001b[0m \u001b[32m197.8/197.8 kB\u001b[0m \u001b[31m18.3 MB/s\u001b[0m eta \u001b[36m0:00:00\u001b[0m\n",
            "\u001b[?25hDownloading fastapi-0.115.7-py3-none-any.whl (94 kB)\n",
            "\u001b[2K   \u001b[90m━━━━━━━━━━━━━━━━━━━━━━━━━━━━━━━━━━━━━━━━\u001b[0m \u001b[32m94.8/94.8 kB\u001b[0m \u001b[31m8.5 MB/s\u001b[0m eta \u001b[36m0:00:00\u001b[0m\n",
            "\u001b[?25hDownloading finvizfinance-1.1.0-py3-none-any.whl (44 kB)\n",
            "\u001b[2K   \u001b[90m━━━━━━━━━━━━━━━━━━━━━━━━━━━━━━━━━━━━━━━━\u001b[0m \u001b[32m44.3/44.3 kB\u001b[0m \u001b[31m3.5 MB/s\u001b[0m eta \u001b[36m0:00:00\u001b[0m\n",
            "\u001b[?25hDownloading linearmodels-6.1-cp311-cp311-manylinux_2_17_x86_64.manylinux2014_x86_64.whl (1.7 MB)\n",
            "\u001b[2K   \u001b[90m━━━━━━━━━━━━━━━━━━━━━━━━━━━━━━━━━━━━━━━━\u001b[0m \u001b[32m1.7/1.7 MB\u001b[0m \u001b[31m46.2 MB/s\u001b[0m eta \u001b[36m0:00:00\u001b[0m\n",
            "\u001b[?25hDownloading Nasdaq_Data_Link-1.0.4-py2.py3-none-any.whl (28 kB)\n",
            "Downloading poetry-1.8.5-py3-none-any.whl (249 kB)\n",
            "\u001b[2K   \u001b[90m━━━━━━━━━━━━━━━━━━━━━━━━━━━━━━━━━━━━━━━━\u001b[0m \u001b[32m250.0/250.0 kB\u001b[0m \u001b[31m20.2 MB/s\u001b[0m eta \u001b[36m0:00:00\u001b[0m\n",
            "\u001b[?25hDownloading poetry_core-1.9.1-py3-none-any.whl (309 kB)\n",
            "\u001b[2K   \u001b[90m━━━━━━━━━━━━━━━━━━━━━━━━━━━━━━━━━━━━━━━━\u001b[0m \u001b[32m309.5/309.5 kB\u001b[0m \u001b[31m19.5 MB/s\u001b[0m eta \u001b[36m0:00:00\u001b[0m\n",
            "\u001b[?25hDownloading posthog-3.10.0-py2.py3-none-any.whl (71 kB)\n",
            "\u001b[2K   \u001b[90m━━━━━━━━━━━━━━━━━━━━━━━━━━━━━━━━━━━━━━━━\u001b[0m \u001b[32m71.0/71.0 kB\u001b[0m \u001b[31m6.5 MB/s\u001b[0m eta \u001b[36m0:00:00\u001b[0m\n",
            "\u001b[?25hDownloading pytest_freezegun-0.4.2-py2.py3-none-any.whl (4.6 kB)\n",
            "Downloading python_multipart-0.0.18-py3-none-any.whl (24 kB)\n",
            "Downloading random_user_agent-1.0.1-py3-none-any.whl (8.2 MB)\n",
            "\u001b[2K   \u001b[90m━━━━━━━━━━━━━━━━━━━━━━━━━━━━━━━━━━━━━━━━\u001b[0m \u001b[32m8.2/8.2 MB\u001b[0m \u001b[31m58.8 MB/s\u001b[0m eta \u001b[36m0:00:00\u001b[0m\n",
            "\u001b[?25hDownloading requests_cache-1.2.1-py3-none-any.whl (61 kB)\n",
            "\u001b[2K   \u001b[90m━━━━━━━━━━━━━━━━━━━━━━━━━━━━━━━━━━━━━━━━\u001b[0m \u001b[32m61.4/61.4 kB\u001b[0m \u001b[31m5.2 MB/s\u001b[0m eta \u001b[36m0:00:00\u001b[0m\n",
            "\u001b[?25hDownloading ruff-0.7.4-py3-none-manylinux_2_17_x86_64.manylinux2014_x86_64.whl (11.1 MB)\n",
            "\u001b[2K   \u001b[90m━━━━━━━━━━━━━━━━━━━━━━━━━━━━━━━━━━━━━━━━\u001b[0m \u001b[32m11.1/11.1 MB\u001b[0m \u001b[31m62.0 MB/s\u001b[0m eta \u001b[36m0:00:00\u001b[0m\n",
            "\u001b[?25hDownloading uuid7-0.1.0-py2.py3-none-any.whl (7.5 kB)\n",
            "Downloading uvicorn-0.32.1-py3-none-any.whl (63 kB)\n",
            "\u001b[2K   \u001b[90m━━━━━━━━━━━━━━━━━━━━━━━━━━━━━━━━━━━━━━━━\u001b[0m \u001b[32m63.8/63.8 kB\u001b[0m \u001b[31m5.6 MB/s\u001b[0m eta \u001b[36m0:00:00\u001b[0m\n",
            "\u001b[?25hDownloading xmltodict-0.13.0-py2.py3-none-any.whl (10.0 kB)\n",
            "Downloading black-24.10.0-cp311-cp311-manylinux_2_17_x86_64.manylinux2014_x86_64.manylinux_2_28_x86_64.whl (1.7 MB)\n",
            "\u001b[2K   \u001b[90m━━━━━━━━━━━━━━━━━━━━━━━━━━━━━━━━━━━━━━━━\u001b[0m \u001b[32m1.7/1.7 MB\u001b[0m \u001b[31m49.2 MB/s\u001b[0m eta \u001b[36m0:00:00\u001b[0m\n",
            "\u001b[?25hDownloading deepdiff-8.1.1-py3-none-any.whl (84 kB)\n",
            "\u001b[2K   \u001b[90m━━━━━━━━━━━━━━━━━━━━━━━━━━━━━━━━━━━━━━━━\u001b[0m \u001b[32m84.7/84.7 kB\u001b[0m \u001b[31m7.8 MB/s\u001b[0m eta \u001b[36m0:00:00\u001b[0m\n",
            "\u001b[?25hDownloading backoff-2.2.1-py3-none-any.whl (15 kB)\n",
            "Downloading build-1.2.2.post1-py3-none-any.whl (22 kB)\n",
            "Downloading cattrs-24.1.2-py3-none-any.whl (66 kB)\n",
            "\u001b[2K   \u001b[90m━━━━━━━━━━━━━━━━━━━━━━━━━━━━━━━━━━━━━━━━\u001b[0m \u001b[32m66.4/66.4 kB\u001b[0m \u001b[31m6.2 MB/s\u001b[0m eta \u001b[36m0:00:00\u001b[0m\n",
            "\u001b[?25hDownloading cleo-2.1.0-py3-none-any.whl (78 kB)\n",
            "\u001b[2K   \u001b[90m━━━━━━━━━━━━━━━━━━━━━━━━━━━━━━━━━━━━━━━━\u001b[0m \u001b[32m78.7/78.7 kB\u001b[0m \u001b[31m7.3 MB/s\u001b[0m eta \u001b[36m0:00:00\u001b[0m\n",
            "\u001b[?25hDownloading crashtest-0.4.1-py3-none-any.whl (7.6 kB)\n",
            "Downloading dulwich-0.21.7-cp311-cp311-manylinux_2_17_x86_64.manylinux2014_x86_64.whl (516 kB)\n",
            "\u001b[2K   \u001b[90m━━━━━━━━━━━━━━━━━━━━━━━━━━━━━━━━━━━━━━━━\u001b[0m \u001b[32m516.4/516.4 kB\u001b[0m \u001b[31m29.2 MB/s\u001b[0m eta \u001b[36m0:00:00\u001b[0m\n",
            "\u001b[?25hDownloading formulaic-1.1.1-py3-none-any.whl (115 kB)\n",
            "\u001b[2K   \u001b[90m━━━━━━━━━━━━━━━━━━━━━━━━━━━━━━━━━━━━━━━━\u001b[0m \u001b[32m115.7/115.7 kB\u001b[0m \u001b[31m10.7 MB/s\u001b[0m eta \u001b[36m0:00:00\u001b[0m\n",
            "\u001b[?25hDownloading freezegun-1.5.1-py3-none-any.whl (17 kB)\n",
            "Downloading inflection-0.5.1-py2.py3-none-any.whl (9.5 kB)\n",
            "Downloading installer-0.7.0-py3-none-any.whl (453 kB)\n",
            "\u001b[2K   \u001b[90m━━━━━━━━━━━━━━━━━━━━━━━━━━━━━━━━━━━━━━━━\u001b[0m \u001b[32m453.8/453.8 kB\u001b[0m \u001b[31m22.0 MB/s\u001b[0m eta \u001b[36m0:00:00\u001b[0m\n",
            "\u001b[?25hDownloading keyring-24.3.1-py3-none-any.whl (38 kB)\n",
            "Downloading monotonic-1.6-py2.py3-none-any.whl (8.2 kB)\n",
            "Downloading orderly_set-5.2.3-py3-none-any.whl (12 kB)\n",
            "Downloading pathspec-0.12.1-py3-none-any.whl (31 kB)\n",
            "Downloading pkginfo-1.12.0-py3-none-any.whl (32 kB)\n",
            "Downloading poetry_plugin_export-1.8.0-py3-none-any.whl (10 kB)\n",
            "Downloading pyhdfe-0.2.0-py3-none-any.whl (19 kB)\n",
            "Downloading pyproject_hooks-1.2.0-py3-none-any.whl (10 kB)\n",
            "Downloading setuptools_scm-8.1.0-py3-none-any.whl (43 kB)\n",
            "\u001b[2K   \u001b[90m━━━━━━━━━━━━━━━━━━━━━━━━━━━━━━━━━━━━━━━━\u001b[0m \u001b[32m43.7/43.7 kB\u001b[0m \u001b[31m2.8 MB/s\u001b[0m eta \u001b[36m0:00:00\u001b[0m\n",
            "\u001b[?25hDownloading starlette-0.45.3-py3-none-any.whl (71 kB)\n",
            "\u001b[2K   \u001b[90m━━━━━━━━━━━━━━━━━━━━━━━━━━━━━━━━━━━━━━━━\u001b[0m \u001b[32m71.5/71.5 kB\u001b[0m \u001b[31m6.6 MB/s\u001b[0m eta \u001b[36m0:00:00\u001b[0m\n",
            "\u001b[?25hDownloading tomlkit-0.13.2-py3-none-any.whl (37 kB)\n",
            "Downloading trove_classifiers-2025.1.15.22-py3-none-any.whl (13 kB)\n",
            "Downloading url_normalize-1.4.3-py2.py3-none-any.whl (6.8 kB)\n",
            "Downloading virtualenv-20.29.1-py3-none-any.whl (4.3 MB)\n",
            "\u001b[2K   \u001b[90m━━━━━━━━━━━━━━━━━━━━━━━━━━━━━━━━━━━━━━━━\u001b[0m \u001b[32m4.3/4.3 MB\u001b[0m \u001b[31m63.8 MB/s\u001b[0m eta \u001b[36m0:00:00\u001b[0m\n",
            "\u001b[?25hDownloading korean_lunar_calendar-0.3.1-py3-none-any.whl (9.0 kB)\n",
            "Downloading pyluach-2.2.0-py3-none-any.whl (25 kB)\n",
            "Downloading distlib-0.3.9-py2.py3-none-any.whl (468 kB)\n",
            "\u001b[2K   \u001b[90m━━━━━━━━━━━━━━━━━━━━━━━━━━━━━━━━━━━━━━━━\u001b[0m \u001b[32m469.0/469.0 kB\u001b[0m \u001b[31m29.3 MB/s\u001b[0m eta \u001b[36m0:00:00\u001b[0m\n",
            "\u001b[?25hDownloading interface_meta-1.3.0-py3-none-any.whl (14 kB)\n",
            "Downloading rapidfuzz-3.11.0-cp311-cp311-manylinux_2_17_x86_64.manylinux2014_x86_64.whl (3.1 MB)\n",
            "\u001b[2K   \u001b[90m━━━━━━━━━━━━━━━━━━━━━━━━━━━━━━━━━━━━━━━━\u001b[0m \u001b[32m3.1/3.1 MB\u001b[0m \u001b[31m65.5 MB/s\u001b[0m eta \u001b[36m0:00:00\u001b[0m\n",
            "\u001b[?25hDownloading jaraco.classes-3.4.0-py3-none-any.whl (6.8 kB)\n",
            "Building wheels for collected packages: pandas-ta\n",
            "  Building wheel for pandas-ta (setup.py) ... \u001b[?25l\u001b[?25hdone\n",
            "  Created wheel for pandas-ta: filename=pandas_ta-0.3.14b0-py3-none-any.whl size=218909 sha256=cf18bebe8d4ad1fedd8316d9c28b89f75fc7d5e26abbafb58e86cca5f70f63e7\n",
            "  Stored in directory: /root/.cache/pip/wheels/7f/33/8b/50b245c5c65433cd8f5cb24ac15d97e5a3db2d41a8b6ae957d\n",
            "Successfully built pandas-ta\n",
            "Installing collected packages: trove-classifiers, random-user-agent, monotonic, korean_lunar_calendar, distlib, xmltodict, virtualenv, uvicorn, uuid7, url-normalize, tomlkit, setuptools-scm, ruff, rapidfuzz, python-multipart, pyproject-hooks, pyluach, poetry-core, pkginfo, pathspec, orderly-set, jaraco.classes, interface-meta, installer, inflection, dulwich, defusedxml, crashtest, cattrs, backoff, async-lru, aiosqlite, starlette, requests-cache, pyhdfe, posthog, keyring, freezegun, deepdiff, cleo, build, black, pytest-freezegun, pandas-ta, nasdaq-data-link, formulaic, finvizfinance, fastapi, exchange-calendars, aiohttp-client-cache, openbb-core, linearmodels, arch, openbb-yfinance, openbb-wsj, openbb-us-eia, openbb-tradingeconomics, openbb-tradier, openbb-tmx, openbb-tiingo, openbb-technical, openbb-stockgrid, openbb-seeking-alpha, openbb-sec, openbb-regulators, openbb-quantitative, openbb-polygon, openbb-oecd, openbb-news, openbb-nasdaq, openbb-multpl, openbb-intrinio, openbb-index, openbb-imf, openbb-government-us, openbb-fred, openbb-fmp, openbb-fixedincome, openbb-finviz, openbb-finra, openbb-federal-reserve, openbb-etf, openbb-equity, openbb-economy, openbb-econometrics, openbb-econdb, openbb-ecb, openbb-derivatives, openbb-currency, openbb-crypto, openbb-commodity, openbb-charting, openbb-cftc, openbb-cboe, openbb-bls, openbb-biztoc, openbb-benzinga, openbb-alpha-vantage, poetry-plugin-export, poetry, openbb-platform-api, openbb\n",
            "  Attempting uninstall: defusedxml\n",
            "    Found existing installation: defusedxml 0.7.1\n",
            "    Uninstalling defusedxml-0.7.1:\n",
            "      Successfully uninstalled defusedxml-0.7.1\n",
            "  Attempting uninstall: keyring\n",
            "    Found existing installation: keyring 23.5.0\n",
            "    Uninstalling keyring-23.5.0:\n",
            "      Successfully uninstalled keyring-23.5.0\n",
            "Successfully installed aiohttp-client-cache-0.11.1 aiosqlite-0.20.0 arch-7.2.0 async-lru-2.0.4 backoff-2.2.1 black-24.10.0 build-1.2.2.post1 cattrs-24.1.2 cleo-2.1.0 crashtest-0.4.1 deepdiff-8.1.1 defusedxml-0.8.0rc2 distlib-0.3.9 dulwich-0.21.7 exchange-calendars-4.8 fastapi-0.115.7 finvizfinance-1.1.0 formulaic-1.1.1 freezegun-1.5.1 inflection-0.5.1 installer-0.7.0 interface-meta-1.3.0 jaraco.classes-3.4.0 keyring-24.3.1 korean_lunar_calendar-0.3.1 linearmodels-6.1 monotonic-1.6 nasdaq-data-link-1.0.4 openbb-4.3.5 openbb-alpha-vantage-1.3.5 openbb-benzinga-1.3.5 openbb-biztoc-1.3.5 openbb-bls-1.0.3 openbb-cboe-1.3.5 openbb-cftc-1.0.3 openbb-charting-2.2.5 openbb-commodity-1.2.6 openbb-core-1.3.8 openbb-crypto-1.3.5 openbb-currency-1.3.5 openbb-derivatives-1.3.5 openbb-ecb-1.3.5 openbb-econdb-1.2.5 openbb-econometrics-1.4.5 openbb-economy-1.3.5 openbb-equity-1.3.5 openbb-etf-1.3.5 openbb-federal-reserve-1.3.5 openbb-finra-1.3.5 openbb-finviz-1.2.5 openbb-fixedincome-1.3.5 openbb-fmp-1.3.5 openbb-fred-1.3.5 openbb-government-us-1.3.5 openbb-imf-1.0.2 openbb-index-1.3.5 openbb-intrinio-1.3.5 openbb-multpl-1.0.5 openbb-nasdaq-1.3.5 openbb-news-1.3.5 openbb-oecd-1.3.5 openbb-platform-api-1.0.4 openbb-polygon-1.3.5 openbb-quantitative-1.3.5 openbb-regulators-1.3.5 openbb-sec-1.3.5 openbb-seeking-alpha-1.3.5 openbb-stockgrid-1.3.5 openbb-technical-1.3.5 openbb-tiingo-1.3.5 openbb-tmx-1.2.5 openbb-tradier-1.2.5 openbb-tradingeconomics-1.3.5 openbb-us-eia-1.0.0 openbb-wsj-1.3.5 openbb-yfinance-1.3.6 orderly-set-5.2.3 pandas-ta-0.3.14b0 pathspec-0.12.1 pkginfo-1.12.0 poetry-1.8.5 poetry-core-1.9.1 poetry-plugin-export-1.8.0 posthog-3.10.0 pyhdfe-0.2.0 pyluach-2.2.0 pyproject-hooks-1.2.0 pytest-freezegun-0.4.2 python-multipart-0.0.18 random-user-agent-1.0.1 rapidfuzz-3.11.0 requests-cache-1.2.1 ruff-0.7.4 setuptools-scm-8.1.0 starlette-0.45.3 tomlkit-0.13.2 trove-classifiers-2025.1.15.22 url-normalize-1.4.3 uuid7-0.1.0 uvicorn-0.32.1 virtualenv-20.29.1 xmltodict-0.13.0\n"
          ]
        },
        {
          "output_type": "display_data",
          "data": {
            "application/vnd.colab-display-data+json": {
              "pip_warning": {
                "packages": [
                  "defusedxml",
                  "jaraco"
                ]
              },
              "id": "1e4002baffba47539171f0b69961898c"
            }
          },
          "metadata": {}
        }
      ]
    },
    {
      "cell_type": "markdown",
      "source": [
        "## Enter Open AI API Key"
      ],
      "metadata": {
        "id": "H9c37cLnSrbg"
      }
    },
    {
      "cell_type": "code",
      "source": [
        "from getpass import getpass\n",
        "\n",
        "OPENAI_KEY = getpass('Enter Open AI API Key: ')"
      ],
      "metadata": {
        "id": "cv3JzCEx_PAd",
        "colab": {
          "base_uri": "https://localhost:8080/"
        },
        "outputId": "d71dc3b3-9537-49fc-e91c-3878d83cca1d"
      },
      "execution_count": 1,
      "outputs": [
        {
          "name": "stdout",
          "output_type": "stream",
          "text": [
            "Enter Open AI API Key: ··········\n"
          ]
        }
      ]
    },
    {
      "cell_type": "markdown",
      "source": [
        "## Enter OpenBB Key\n",
        "\n",
        "Get a free API key from [here](https://my.openbb.co/app/platform/pat)"
      ],
      "metadata": {
        "id": "-tsLsa9b3Dxg"
      }
    },
    {
      "cell_type": "code",
      "source": [
        "from getpass import getpass\n",
        "\n",
        "OPENBB_PAT = getpass('Enter OpenBB Personal Access Token (PAT): ')"
      ],
      "metadata": {
        "id": "q2sKDYgEqOaP",
        "colab": {
          "base_uri": "https://localhost:8080/"
        },
        "outputId": "43620fa0-43cd-4a07-c822-1d5f6893b6a3"
      },
      "execution_count": 2,
      "outputs": [
        {
          "name": "stdout",
          "output_type": "stream",
          "text": [
            "Enter OpenBB Personal Access Token (PAT): ··········\n"
          ]
        }
      ]
    },
    {
      "cell_type": "markdown",
      "source": [
        "## Enter Tavily Search API Key\n",
        "\n",
        "Get a free API key from [here](https://tavily.com/#api)"
      ],
      "metadata": {
        "id": "ucWRRI3QztL2"
      }
    },
    {
      "cell_type": "code",
      "source": [
        "TAVILY_API_KEY = getpass('Enter Tavily Search API Key: ')"
      ],
      "metadata": {
        "id": "mK-1WLzOrJdb",
        "colab": {
          "base_uri": "https://localhost:8080/"
        },
        "outputId": "4b3067eb-6944-480c-a25a-4b32625b3d18"
      },
      "execution_count": 3,
      "outputs": [
        {
          "name": "stdout",
          "output_type": "stream",
          "text": [
            "Enter Tavily Search API Key: ··········\n"
          ]
        }
      ]
    },
    {
      "cell_type": "markdown",
      "source": [
        "## Setup Environment Variables"
      ],
      "metadata": {
        "id": "1T0s0um5Svfa"
      }
    },
    {
      "cell_type": "code",
      "source": [
        "import os\n",
        "\n",
        "os.environ['OPENAI_API_KEY'] = OPENAI_KEY\n",
        "os.environ['TAVILY_API_KEY'] = TAVILY_API_KEY"
      ],
      "metadata": {
        "id": "x1YSuHNF_lbh"
      },
      "execution_count": 4,
      "outputs": []
    },
    {
      "cell_type": "code",
      "source": [
        "from openbb import obb\n",
        "# takes 1 min to setup\n",
        "obb.account.login(pat=OPENBB_PAT)"
      ],
      "metadata": {
        "colab": {
          "base_uri": "https://localhost:8080/"
        },
        "id": "V4a3LQeClFoi",
        "outputId": "9666b943-e150-49b3-b25b-497de51829ac"
      },
      "execution_count": 5,
      "outputs": [
        {
          "output_type": "stream",
          "name": "stdout",
          "text": [
            "Extensions to add: alpha_vantage@1.3.5, biztoc@1.3.5, cboe@1.3.5, ecb@1.3.5, econometrics@1.4.5, finra@1.3.5, finviz@1.2.5, government_us@1.3.5, multpl@1.0.5, nasdaq@1.3.5, openbb_charting@2.2.5, quantitative@1.3.5, seeking_alpha@1.3.5, stockgrid@1.3.5, technical@1.3.5, tmx@1.2.5, tradier@1.2.5, wsj@1.3.5\n",
            "\n",
            "Building...\n"
          ]
        }
      ]
    },
    {
      "cell_type": "markdown",
      "source": [
        "## Create Financial Tools\n",
        "\n",
        "**Financial Analysis Tools**:\n",
        "   The system integrates multiple tools to get useful financial data and metrics:\n",
        "   - **SEARCH_WEB**: Fetches general stock market information from the web.\n",
        "   - **GET_STOCK_FUNDAMENTAL_INDICATOR_METRICS**: Provides insights into key financial metrics such as P/E ratio, ROE, etc.\n",
        "   - **GET_STOCK_NEWS**: Extracts the latest news and updates related to stocks or markets.\n",
        "   - **GET_GENERAL_MARKET_DATA**: Fetches data on overall market trends and performance.\n",
        "   - **GET_STOCK_TICKER**: Validates and fetches stock ticker symbols based on user queries.\n",
        "   - **GET_STOCK_PRICE_METRICS**: Retrieves price trends, performance, and metrics for specific stocks."
      ],
      "metadata": {
        "id": "TW0QaP_RzG2h"
      }
    },
    {
      "cell_type": "code",
      "source": [
        "from langchain_community.utilities.tavily_search import TavilySearchAPIWrapper\n",
        "from langchain_core.tools import tool\n",
        "import json\n",
        "import requests\n",
        "from tqdm import tqdm\n",
        "from bs4 import BeautifulSoup\n",
        "from datetime import datetime, timedelta\n",
        "\n",
        "tavily_search = TavilySearchAPIWrapper()\n",
        "\n",
        "@tool\n",
        "def search_web(query: str, num_results=8) -> list:\n",
        "    \"\"\"Search the web for a query. Userful for general information or general news\"\"\"\n",
        "    results = tavily_search.raw_results(query=query,\n",
        "                                        max_results=num_results,\n",
        "                                        search_depth='advanced',\n",
        "                                        include_answer=False,\n",
        "                                        include_raw_content=True)\n",
        "    return results\n",
        "\n",
        "@tool\n",
        "def get_stock_ticker_symbol(stock_name: str) -> str:\n",
        "    \"\"\"Get the symbol, name and CIK for any publicly traded company\"\"\"\n",
        "    # Use OpenBB to search for stock ticker symbol and company details by name.\n",
        "    # The provider \"sec\" fetches data from the U.S. Securities and Exchange Commission (SEC).\n",
        "    res = obb.equity.search(stock_name, provider=\"sec\")\n",
        "\n",
        "    # Convert the result to a DataFrame and format it as markdown for readability.\n",
        "    stock_ticker_details = res.to_df().to_markdown()\n",
        "\n",
        "    # Prepare the output with the stock details.\n",
        "    output = \"\"\"Here are the details of the company and its stock ticker symbol:\\n\\n\"\"\" + stock_ticker_details\n",
        "    return output\n",
        "\n",
        "@tool\n",
        "def get_stock_price_metrics(stock_ticker: str) -> str:\n",
        "    \"\"\"Get historical stock price data, stock price quote and price performance data\n",
        "       like price changes for a specific stock ticker\"\"\"\n",
        "\n",
        "    # Fetch the latest stock price quote using \"cboe\" provider.\n",
        "    res = obb.equity.price.quote(stock_ticker, provider='cboe')\n",
        "    price_quote = res.to_df().to_markdown()\n",
        "\n",
        "    # Retrieve stock price performance metrics (e.g., percentage change) using \"finviz\" provider.\n",
        "    res = obb.equity.price.performance(symbol=stock_ticker, provider='finviz')\n",
        "    price_performance = res.to_df().to_markdown()\n",
        "\n",
        "    # Fetch historical price data for the past year using \"yfinance\" provider.\n",
        "    end_date = datetime.now()\n",
        "    start_date = (end_date - timedelta(days=365)).strftime(\"%Y-%m-%d\")\n",
        "    res = obb.equity.price.historical(symbol=stock_ticker, start_date=start_date,\n",
        "                                      interval='1d', provider='yfinance')\n",
        "    price_historical = res.to_df().to_markdown()\n",
        "\n",
        "    # Combine the results into a formatted output.\n",
        "    output = (\"\"\"Here are the stock price metrics and data for the stock ticker symbol \"\"\" + stock_ticker + \"\"\": \\n\\n\"\"\" +\n",
        "              \"Price Quote Metrics:\\n\\n\" + price_quote +\n",
        "              \"\\n\\nPrice Performance Metrics:\\n\\n\" + price_performance +\n",
        "              \"\\n\\nPrice Historical Data:\\n\\n\" + price_historical)\n",
        "    return output\n",
        "\n",
        "@tool\n",
        "def get_stock_fundamental_indicator_metrics(stock_ticker: str) -> str:\n",
        "    \"\"\"Get fundamental indicator metrics for a specific stock ticker\"\"\"\n",
        "\n",
        "    # Retrieve fundamental financial ratios (e.g., P/E ratio, ROE) using \"fmp\" provider.\n",
        "    res = obb.equity.fundamental.ratios(symbol=stock_ticker, period='annual',\n",
        "                                        limit=10, provider='fmp')\n",
        "    fundamental_ratios = res.to_df().to_markdown()\n",
        "\n",
        "    # Fetch additional fundamental metrics (e.g., EBITDA, revenue growth) using \"yfinance\" provider.\n",
        "    res = obb.equity.fundamental.metrics(symbol=stock_ticker, period='annual',\n",
        "                                        limit=10, provider='yfinance')\n",
        "    fundamental_metrics = res.to_df().to_markdown()\n",
        "\n",
        "    # Combine fundamental ratios and metrics into a single output.\n",
        "    output = (\"\"\"Here are the fundamental indicator metrics and data for the stock ticker symbol \"\"\" + stock_ticker + \"\"\": \\n\\n\"\"\" +\n",
        "              \"Fundamental Ratios:\\n\\n\" + fundamental_ratios +\n",
        "              \"\\n\\nFundamental Metrics:\\n\\n\" + fundamental_metrics)\n",
        "    return output\n",
        "\n",
        "@tool\n",
        "def get_stock_news(stock_ticker: str) -> str:\n",
        "    \"\"\"Get news article headlines for a specific stock ticker\"\"\"\n",
        "\n",
        "    # Define the date range to fetch news (last 45 days).\n",
        "    end_date = datetime.now()\n",
        "    start_date = (end_date - timedelta(days=45)).strftime(\"%Y-%m-%d\")\n",
        "\n",
        "    # Retrieve news headlines for the stock using \"tmx\" provider.\n",
        "    res = obb.news.company(symbol=stock_ticker, start_date=start_date, provider='tmx', limit=50)\n",
        "    news = res.to_df()\n",
        "\n",
        "    # Extract relevant columns (symbols and titles) and format as markdown.\n",
        "    news = news[['symbols', 'title']].to_markdown()\n",
        "\n",
        "    # Prepare the output with the news headlines.\n",
        "    output = (\"\"\"Here are the recent news headlines for the stock ticker symbol \"\"\" + stock_ticker + \"\"\": \\n\\n\"\"\" + news)\n",
        "    return output\n",
        "\n",
        "@tool\n",
        "def get_general_market_data() -> str:\n",
        "    \"\"\"Get general data and indicators for the whole stock market including,\n",
        "       most actively traded stocks based on volume, top price gainers and top price losers.\n",
        "       Useful when you want an overview of the market and what stocks to look at.\"\"\"\n",
        "\n",
        "    # Retrieve the most actively traded stocks using \"yfinance\" provider.\n",
        "    res = obb.equity.discovery.active(sort='desc', provider='yfinance', limit=15)\n",
        "    most_active_stocks = res.to_df().to_markdown()\n",
        "\n",
        "    # Fetch the top price gainers using \"yfinance\" provider.\n",
        "    res = obb.equity.discovery.gainers(sort='desc', provider='yfinance', limit=15)\n",
        "    price_gainers = res.to_df().to_markdown()\n",
        "\n",
        "    # Retrieve the top price losers using \"yfinance\" provider.\n",
        "    res = obb.equity.discovery.losers(sort='desc', provider='yfinance', limit=15)\n",
        "    price_losers = res.to_df().to_markdown()\n",
        "\n",
        "    # Combine the market data into a single formatted output.\n",
        "    output = (\"\"\"Here's some detailed information of the stock market which includes most actively traded stocks, gainers and losers:\\n\\n\"\"\" +\n",
        "              \"Most actively traded stocks:\\n\\n\" + most_active_stocks +\n",
        "              \"\\n\\nTop price gainers:\\n\\n\" + price_gainers +\n",
        "              \"\\n\\nTop price losers:\\n\\n\" + price_losers)\n",
        "    return output\n"
      ],
      "metadata": {
        "id": "Ue8xgu9WpuPi"
      },
      "execution_count": 6,
      "outputs": []
    },
    {
      "cell_type": "markdown",
      "source": [
        "## Build the Conversational Tool-use Agentic AI System with Transient In-Memory Store\n",
        "\n",
        "Here we use an in-memory store for persisting conversational messages between the user and the agent temporarily (transient). This is in-memory so it would be deleted once you shut down the agent or your system."
      ],
      "metadata": {
        "id": "JPcJl2m-vYMZ"
      }
    },
    {
      "cell_type": "code",
      "source": [
        "AGENT_SYS_PROMPT = \"\"\"Role: You are an AI stock market assistant tasked with providing investors\n",
        "with up-to-date, detailed information on individual stocks or advice based on general market data.\n",
        "\n",
        "Objective: Assist data-driven stock market investors by giving accurate,\n",
        "complete, but concise information relevant to their questions about individual\n",
        "stocks or general advice on useful stocks based on general market data and trends.\n",
        "\n",
        "Capabilities: You are given a number of tools as functions. Use as many tools\n",
        "as needed to ensure all information provided is timely, accurate, concise,\n",
        "relevant, and responsive to the user's query.\n",
        "\n",
        "Starting Flow:\n",
        "Input validation: Determine if the input is asking about a specific company\n",
        "or stock ticker (Flow 2). If not, check if they are asking for general advice on potentially useful stocks\n",
        "based on current market data (Flow 1). Otherwise, respond in a friendly, positive, professional tone\n",
        "that you don't have information to answer as you can only provide financial advice based on market data.\n",
        "For each of the flows related to valid questions use the following instructions:\n",
        "\n",
        "Flow 1:\n",
        "A. Market Analysis: If the query is valid and the user wants to get general advice on the market\n",
        "or stocks worth looking into for investing, leverage the general market data tool to get relevant data.\n",
        "In case you need more information then you can also use web search.\n",
        "\n",
        "Flow 2:\n",
        "A. Symbol extraction: If the query is valid and is related to a specific company or companies,\n",
        "extract the company name or ticker symbol from the question.\n",
        "If a company name is given, look up the ticker symbol using a tool.\n",
        "If the ticker symbol is not found based on the company, try to\n",
        "correct the spelling and try again, like changing \"microsfot\" to \"microsoft\",\n",
        "or broadening the search, like changng \"southwest airlines\" to a shorter variation\n",
        "like \"southwest\" and increasing \"limit\" to 10 or more. If the company or ticker is\n",
        "still unclear based on the question or conversation so far, and the results of the\n",
        "symbol lookup, then ask the user to clarify which company or ticker.\n",
        "\n",
        "B. Information retrieval: Determine what data the user is seeking on the symbol\n",
        "identified. Use the appropriate tools to fetch the requested information. Only use\n",
        "data obtained from the tools. You may use multiple tools in a sequence. For instance,\n",
        "first determine the company's symbol, then retrieve price data using the symbol\n",
        "and fundamental indicator data etc. For specific queries only retrieve data using the most relevant tool.\n",
        "If detailed analysis is needed, you can call multiple tools to retrieve data first.\n",
        "In case you still need more information then you can also use web search.\n",
        "\n",
        "Response Generation Flow:\n",
        "Compose Response: Analyze the retrieved data carefully and provide a comprehensive answer to the user in a clear and concise format,\n",
        "in a friendly professional tone, emphasizing the data retrieved.\n",
        "If the user asks for recommendations you can give some recommendations\n",
        "but emphasize the user to do their own research before investing.\n",
        "When generating the final response in markdown,\n",
        "if there are special characters in the text, such as the dollar symbol,\n",
        "ensure they are escaped properly for correct rendering e.g $25.5 should become \\$25.5\n",
        "\n",
        "Example Interaction:\n",
        "User asks: \"What is the PE ratio for Eli Lilly?\"\n",
        "Chatbot recognizes 'Eli Lilly' as a company name.\n",
        "Chatbot uses symbol lookup to find the ticker for Eli Lilly, returning LLY.\n",
        "Chatbot retrieves the PE ratio using the proper function with symbol LLY.\n",
        "Chatbot responds: \"The PE ratio for Eli Lilly (symbol: LLY) as of May 12, 2024 is 30.\"\n",
        "\n",
        "Check carefully and only call the tools which are specifically named below.\n",
        "Only use data obtained from these tools.\n",
        "\"\"\""
      ],
      "metadata": {
        "id": "RaZ88m_mnZ87"
      },
      "execution_count": 7,
      "outputs": []
    },
    {
      "cell_type": "code",
      "source": [
        "import tiktoken\n",
        "\n",
        "enc = tiktoken.encoding_for_model(\"gpt-4o\")\n",
        "tokens = enc.encode(AGENT_SYS_PROMPT)\n",
        "print(f\"Number of tokens: {len(tokens)}\")"
      ],
      "metadata": {
        "colab": {
          "base_uri": "https://localhost:8080/"
        },
        "id": "1q8nEDoHnv6E",
        "outputId": "41f9c899-61a3-42d3-e6ce-fccaa00a2b09"
      },
      "execution_count": 8,
      "outputs": [
        {
          "output_type": "stream",
          "name": "stdout",
          "text": [
            "Number of tokens: 755\n"
          ]
        }
      ]
    },
    {
      "cell_type": "code",
      "source": [
        "from typing import Annotated\n",
        "\n",
        "from langchain_openai import ChatOpenAI\n",
        "from langchain_core.messages import BaseMessage\n",
        "from typing_extensions import TypedDict\n",
        "\n",
        "from langgraph.graph import StateGraph, START, END\n",
        "from langgraph.graph.message import add_messages\n",
        "from langgraph.prebuilt import ToolNode, tools_condition\n",
        "from langchain_core.messages import HumanMessage, SystemMessage, RemoveMessage\n",
        "from langchain_core.messages import trim_messages\n",
        "from langgraph.checkpoint.memory import MemorySaver\n",
        "\n",
        "\n",
        "class State(TypedDict):\n",
        "    messages: Annotated[list, add_messages]\n",
        "\n",
        "\n",
        "graph_builder = StateGraph(State)\n",
        "\n",
        "tools = [get_stock_ticker_symbol,\n",
        "         get_stock_price_metrics,\n",
        "         get_stock_fundamental_indicator_metrics,\n",
        "         get_stock_news,\n",
        "         search_web,\n",
        "         get_general_market_data]\n",
        "\n",
        "llm = ChatOpenAI(model=\"gpt-4o\", temperature=0)\n",
        "llm_with_tools = llm.bind_tools(tools)\n",
        "\n",
        "\n",
        "\n",
        "SYS_MSG = SystemMessage(content=AGENT_SYS_PROMPT)\n",
        "def chatbot(state: State):\n",
        "    messages = trim_messages(\n",
        "            state[\"messages\"],\n",
        "            max_tokens=127000,\n",
        "            strategy=\"last\",\n",
        "            token_counter=ChatOpenAI(model=\"gpt-4o\"),\n",
        "            include_system=True, # not necessary here as we send the sys prompt separately\n",
        "            allow_partial=True,\n",
        "    )\n",
        "    return {\"messages\": [llm_with_tools.invoke([SYS_MSG] + messages)]}\n",
        "\n",
        "graph_builder.add_node(\"chatbot\", chatbot)\n",
        "\n",
        "tool_node = ToolNode(tools=tools)\n",
        "graph_builder.add_node(\"tools\", tool_node)\n",
        "\n",
        "graph_builder.add_conditional_edges(\n",
        "    \"chatbot\",\n",
        "    tools_condition,\n",
        "    ['tools', END]\n",
        ")\n",
        "# Any time a tool is called, we return to the chatbot to decide the next step\n",
        "graph_builder.add_edge(\"tools\", \"chatbot\")\n",
        "graph_builder.set_entry_point(\"chatbot\")\n",
        "\n",
        "memory = MemorySaver()\n",
        "financial_analyst_agent = graph_builder.compile(checkpointer=memory)"
      ],
      "metadata": {
        "id": "rdBRSLehwMm_"
      },
      "execution_count": 11,
      "outputs": []
    },
    {
      "cell_type": "code",
      "source": [
        "from IPython.display import display, Image, Markdown\n",
        "\n",
        "Image(financial_analyst_agent.get_graph().draw_mermaid_png())"
      ],
      "metadata": {
        "colab": {
          "base_uri": "https://localhost:8080/",
          "height": 266
        },
        "id": "LWi44TWcoHpD",
        "outputId": "1aa860c2-cda4-465c-99ef-40e8e925cfc5"
      },
      "execution_count": 12,
      "outputs": [
        {
          "output_type": "execute_result",
          "data": {
            "image/png": "[encoded data removed]",
            "text/plain": [
              "<IPython.core.display.Image object>"
            ]
          },
          "metadata": {},
          "execution_count": 12
        }
      ]
    },
    {
      "cell_type": "code",
      "source": [
        "def call_conversational_agent(agent, prompt, user_session_id, verbose=False):\n",
        "    events = agent.stream(\n",
        "        {\"messages\": [{\"role\": \"user\", \"content\": prompt}]},\n",
        "        {\"configurable\": {\"thread_id\": user_session_id}},\n",
        "        stream_mode=\"values\",\n",
        "    )\n",
        "\n",
        "    print('Running Agent. Please wait...')\n",
        "    for event in events:\n",
        "        if verbose:\n",
        "            event[\"messages\"][-1].pretty_print()\n",
        "\n",
        "    display(Markdown(event[\"messages\"][-1].content))"
      ],
      "metadata": {
        "id": "dabt40FjQXyK"
      },
      "execution_count": 13,
      "outputs": []
    },
    {
      "cell_type": "markdown",
      "source": [
        "## Test the Agentic System with In-Memory Persistence"
      ],
      "metadata": {
        "id": "GxwUg1sA3oPy"
      }
    },
    {
      "cell_type": "markdown",
      "source": [
        "### Simulating User 1"
      ],
      "metadata": {
        "id": "knvZnBOv4CPF"
      }
    },
    {
      "cell_type": "code",
      "source": [
        "uid = 'john001'\n",
        "query = 'what are 2 most important metrics for fundamental analysis to pick stocks?'\n",
        "call_conversational_agent(agent=financial_analyst_agent,\n",
        "                          prompt=query,\n",
        "                          user_session_id=uid,\n",
        "                          verbose=True)"
      ],
      "metadata": {
        "colab": {
          "base_uri": "https://localhost:8080/",
          "height": 465
        },
        "id": "_IpCPBMIog7K",
        "outputId": "1d019910-3bcd-43b5-b76c-6d660ba15a79"
      },
      "execution_count": 14,
      "outputs": [
        {
          "output_type": "stream",
          "name": "stdout",
          "text": [
            "Running Agent. Please wait...\n",
            "================================\u001b[1m Human Message \u001b[0m=================================\n",
            "\n",
            "what are 2 most important metrics for fundamental analysis to pick stocks?\n",
            "==================================\u001b[1m Ai Message \u001b[0m==================================\n",
            "\n",
            "Two of the most important metrics for fundamental analysis when picking stocks are:\n",
            "\n",
            "1. **Price-to-Earnings (P/E) Ratio**: This metric measures a company's current share price relative to its per-share earnings. It is used to determine whether a stock is overvalued or undervalued compared to its earnings. A lower P/E ratio might indicate that the stock is undervalued, while a higher P/E ratio could suggest overvaluation.\n",
            "\n",
            "2. **Return on Equity (ROE)**: This metric measures a company's profitability by revealing how much profit a company generates with the money shareholders have invested. It is calculated by dividing net income by shareholder's equity. A higher ROE indicates a more efficient company in terms of generating profit from equity.\n",
            "\n",
            "These metrics provide insights into a company's valuation and profitability, helping investors make informed decisions. However, it's important to consider them in conjunction with other financial indicators and qualitative factors.\n"
          ]
        },
        {
          "output_type": "display_data",
          "data": {
            "text/plain": [
              "<IPython.core.display.Markdown object>"
            ],
            "text/markdown": "Two of the most important metrics for fundamental analysis when picking stocks are:\n\n1. **Price-to-Earnings (P/E) Ratio**: This metric measures a company's current share price relative to its per-share earnings. It is used to determine whether a stock is overvalued or undervalued compared to its earnings. A lower P/E ratio might indicate that the stock is undervalued, while a higher P/E ratio could suggest overvaluation.\n\n2. **Return on Equity (ROE)**: This metric measures a company's profitability by revealing how much profit a company generates with the money shareholders have invested. It is calculated by dividing net income by shareholder's equity. A higher ROE indicates a more efficient company in terms of generating profit from equity.\n\nThese metrics provide insights into a company's valuation and profitability, helping investors make informed decisions. However, it's important to consider them in conjunction with other financial indicators and qualitative factors."
          },
          "metadata": {}
        }
      ]
    },
    {
      "cell_type": "code",
      "source": [
        "query = 'get these two for Amazon?'\n",
        "call_conversational_agent(agent=financial_analyst_agent,\n",
        "                          prompt=query,\n",
        "                          user_session_id=uid,\n",
        "                          verbose=True)"
      ],
      "metadata": {
        "colab": {
          "base_uri": "https://localhost:8080/",
          "height": 1000
        },
        "id": "oEdjrx5NQhi7",
        "outputId": "f9857ad4-af82-474e-826a-733ca377d9dc"
      },
      "execution_count": 15,
      "outputs": [
        {
          "output_type": "stream",
          "name": "stdout",
          "text": [
            "Running Agent. Please wait...\n",
            "================================\u001b[1m Human Message \u001b[0m=================================\n",
            "\n",
            "get these two for Amazon?\n",
            "==================================\u001b[1m Ai Message \u001b[0m==================================\n",
            "Tool Calls:\n",
            "  get_stock_ticker_symbol (call_SZuAt65V0uNgbMbV7zkwK7I3)\n",
            " Call ID: call_SZuAt65V0uNgbMbV7zkwK7I3\n",
            "  Args:\n",
            "    stock_name: Amazon\n",
            "=================================\u001b[1m Tool Message \u001b[0m=================================\n",
            "Name: get_stock_ticker_symbol\n",
            "\n",
            "Here are the details of the company and its stock ticker symbol:\n",
            "\n",
            "|    | symbol   | name           |     cik |\n",
            "|---:|:---------|:---------------|--------:|\n",
            "|  0 | AMZN     | AMAZON COM INC | 1018724 |\n",
            "==================================\u001b[1m Ai Message \u001b[0m==================================\n",
            "Tool Calls:\n",
            "  get_stock_fundamental_indicator_metrics (call_0Cv2hi0addshDgzSZqnxCYf2)\n",
            " Call ID: call_0Cv2hi0addshDgzSZqnxCYf2\n",
            "  Args:\n",
            "    stock_ticker: AMZN\n",
            "=================================\u001b[1m Tool Message \u001b[0m=================================\n",
            "Name: get_stock_fundamental_indicator_metrics\n",
            "\n",
            "Here are the fundamental indicator metrics and data for the stock ticker symbol AMZN: \n",
            "\n",
            "Fundamental Ratios:\n",
            "\n",
            "|    | period_ending   | fiscal_period   |   fiscal_year |   current_ratio |   quick_ratio |   cash_ratio |   days_of_sales_outstanding |   days_of_inventory_outstanding |   operating_cycle |   days_of_payables_outstanding |   cash_conversion_cycle |   gross_profit_margin |   operating_profit_margin |   pretax_profit_margin |   net_profit_margin |   effective_tax_rate |   return_on_assets |   return_on_equity |   return_on_capital_employed |   net_income_per_ebt |   ebt_per_ebit |   ebit_per_revenue |   debt_ratio |   debt_equity_ratio |   long_term_debt_to_capitalization |   total_debt_to_capitalization |   interest_coverage |   cash_flow_to_debt_ratio |   company_equity_multiplier |   receivables_turnover |   payables_turnover |   inventory_turnover |   fixed_asset_turnover |   asset_turnover |   operating_cash_flow_per_share |   free_cash_flow_per_share |   cash_per_share |   operating_cash_flow_sales_ratio |   free_cash_flow_operating_cash_flow_ratio |   cash_flow_coverage_ratios |   capital_expenditure_coverage_ratio |   dividend_paid_and_capex_coverage_ratio |   price_book_value_ratio |   price_to_book_ratio |   price_to_sales_ratio |   price_earnings_ratio |   price_to_free_cash_flows_ratio |   price_to_operating_cash_flows_ratio |   price_cash_flow_ratio |   price_earnings_to_growth_ratio |   price_sales_ratio |   enterprise_value_multiple |   price_fair_value |\n",
            "|---:|:----------------|:----------------|--------------:|----------------:|--------------:|-------------:|----------------------------:|--------------------------------:|------------------:|-------------------------------:|------------------------:|----------------------:|--------------------------:|-----------------------:|--------------------:|---------------------:|-------------------:|-------------------:|-----------------------------:|---------------------:|---------------:|-------------------:|-------------:|--------------------:|-----------------------------------:|-------------------------------:|--------------------:|--------------------------:|----------------------------:|-----------------------:|--------------------:|---------------------:|-----------------------:|-----------------:|--------------------------------:|---------------------------:|-----------------:|----------------------------------:|-------------------------------------------:|----------------------------:|-------------------------------------:|-----------------------------------------:|-------------------------:|----------------------:|-----------------------:|-----------------------:|---------------------------------:|--------------------------------------:|------------------------:|---------------------------------:|--------------------:|----------------------------:|-------------------:|\n",
            "|  0 | 2023-12-31      | FY              |          2023 |        1.04508  |      0.843048 |     0.444994 |                     33.1817 |                         39.9065 |           73.0882 |                        101.786 |                -28.6975 |              0.469821 |                 0.0641144 |              0.065341  |           0.0529328 |             0.189579 |         0.057639   |          0.150712  |                    0.101538  |             0.810102 |       1.01913  |          0.0641144 |     0.25691  |            0.671757 |                           0.224122 |                       0.401827 |            11.5814  |                  0.626395 |                     2.61476 |                11      |             3.58597 |              9.14638 |                2.07736 |          1.08891 |                         8.24398 |                    3.12665 |          8.42197 |                         0.147787  |                                   0.379264 |                    0.626395 |                             1.61099  |                                 1.61099  |                  7.75524 |               7.75524 |                2.72378 |                51.4573 |                          48.5951 |                               18.4304 |                 18.4304 |                       -0.0431475 |             2.72378 |                     18.2078 |            7.75524 |\n",
            "|  1 | 2022-12-31      | FY              |          2022 |        0.944644 |      0.723237 |     0.346785 |                     30.0815 |                         43.4781 |           73.5596 |                        100.592 |                -27.032  |              0.438053 |                 0.0238296 |             -0.011549  |          -0.0052959 |             0.541947 |        -0.00588318 |         -0.0186383 |                    0.0398592 |             0.458558 |      -0.484651 |          0.0238296 |     0.302843 |            0.95943  |                           0.314973 |                       0.489647 |             5.17448 |                  0.333662 |                     3.16807 |                12.1337 |             3.62853 |              8.39503 |                2.03286 |          1.11089 |                         4.58848 |                   -1.65796 |          6.87271 |                         0.0909602 |                                  -0.361332 |                    0.333662 |                             0.734575 |                                 0.734575 |                  5.86044 |               5.86044 |                1.66518 |              -314.429  |                         -50.6645 |                               18.3067 |                 18.3067 |                        2.90649   |             1.66518 |                     24.5647 |            5.86044 |\n",
            "|  2 | 2021-12-31      | FY              |          2021 |        1.13576  |      0.90633  |     0.254594 |                     25.5527 |                         43.7447 |           69.2974 |                        105.427 |                -36.1294 |              0.420325 |                 0.0529541 |              0.0812031 |           0.0710141 |             0.12558  |         0.0793344  |          0.24134   |                    0.0894018 |             0.874525 |       1.53346  |          0.0529541 |     0.276769 |            0.841947 |                           0.260678 |                       0.457096 |            13.7529  |                  0.398015 |                     3.04206 |                14.2842 |             3.46212 |              8.34387 |                2.17145 |          1.11716 |                         4.57777 |                   -1.45514 |          9.49101 |                         0.0986054 |                                  -0.317871 |                    0.398015 |                             0.7588   |                                 0.7588   |                 12.2045  |              12.2045  |                3.59116 |                50.5697 |                        -114.573  |                               36.4195 |                 36.4195 |                        0.920627  |             3.59116 |                     23.7574 |           12.2045  |\n",
            "|  3 | 2020-12-31      | FY              |          2020 |        1.05023  |      0.861954 |     0.333283 |                     23.203  |                         37.2264 |           60.4293 |                        113.485 |                -53.0552 |              0.395678 |                 0.059314  |              0.0626269 |           0.0552525 |             0.118413 |         0.0664114  |          0.228374  |                    0.117545  |             0.882248 |       1.05585  |          0.059314  |     0.262734 |            0.903484 |                           0.254081 |                       0.474647 |            13.9035  |                  0.782851 |                     3.43877 |                15.7307 |             3.2163  |              9.80487 |                2.56237 |          1.20196 |                         6.6064  |                    2.5924  |          8.4396  |                         0.171122  |                                   0.392407 |                    0.782851 |                             1.64584  |                                 1.64584  |                 17.435   |              17.435   |                4.21821 |                76.3443 |                          62.8182 |                               24.6503 |                 24.6503 |                        0.930446  |             4.21821 |                     32.7569 |           17.435   |\n",
            "|  4 | 2019-12-31      | FY              |          2019 |        1.09705  |      0.863629 |     0.411014 |                     27.0846 |                         45.195  |           72.2797 |                        104.037 |                -31.7569 |              0.4099   |                 0.0518355 |              0.0498214 |           0.0413087 |             0.169863 |         0.0514455  |          0.186723  |                    0.105802  |             0.829136 |       0.961144 |          0.0518355 |     0.280602 |            1.01845  |                           0.273931 |                       0.50457  |             9.08812 |                  0.609351 |                     3.62952 |                13.4763 |             3.50838 |              8.07611 |                2.86697 |          1.24539 |                         3.89818 |                    2.1916  |          5.56893 |                         0.137294  |                                   0.562211 |                    0.609351 |                             2.28421  |                                 2.28421  |                 14.7086  |              14.7086  |                3.25398 |                78.7723 |                          42.1564 |                               23.7008 |                 23.7008 |                        5.79539   |             3.25398 |                     25.1553 |           14.7086  |\n",
            "\n",
            "Fundamental Metrics:\n",
            "\n",
            "|    | symbol   |   market_cap |   pe_ratio |   forward_pe |   peg_ratio_ttm |   enterprise_to_ebitda |   earnings_growth |   earnings_growth_quarterly |   revenue_per_share |   revenue_growth |   enterprise_to_revenue |   quick_ratio |   current_ratio |   debt_to_equity |   gross_margin |   operating_margin |   ebitda_margin |   profit_margin |   return_on_assets |   return_on_equity |   book_value |   price_to_book |   enterprise_value |   overall_risk |   audit_risk |   board_risk |   compensation_risk |   shareholder_rights_risk |   beta |   price_return_1y | currency   |\n",
            "|---:|:---------|-------------:|-----------:|-------------:|----------------:|-----------------------:|------------------:|----------------------------:|--------------------:|-----------------:|------------------------:|--------------:|----------------:|-----------------:|---------------:|-------------------:|----------------:|----------------:|-------------------:|-------------------:|-------------:|----------------:|-------------------:|---------------:|-------------:|-------------:|--------------------:|--------------------------:|-------:|------------------:|:-----------|\n",
            "|  0 | AMZN     |  2.47544e+12 |    50.4111 |       37.948 |          1.9301 |                 22.763 |             0.521 |                       0.552 |              59.486 |             0.11 |                   4.096 |         0.827 |           1.089 |           61.175 |        0.48406 |            0.10959 |         0.17994 |         0.08042 |            0.07069 |            0.22558 |       24.655 |         9.54857 |      2539934449664 |              9 |            2 |           10 |                  10 |                         3 |  1.146 |          0.477044 | USD        |\n",
            "==================================\u001b[1m Ai Message \u001b[0m==================================\n",
            "\n",
            "For Amazon (symbol: AMZN), here are the two important metrics for fundamental analysis:\n",
            "\n",
            "1. **Price-to-Earnings (P/E) Ratio**: The P/E ratio for Amazon is 50.41. This indicates how much investors are willing to pay per dollar of earnings, and a higher P/E ratio might suggest that the stock is overvalued compared to its earnings.\n",
            "\n",
            "2. **Return on Equity (ROE)**: The ROE for Amazon is 22.56%. This measures the company's profitability by showing how much profit it generates with the money shareholders have invested. A higher ROE indicates more efficient use of equity.\n",
            "\n",
            "These metrics provide insights into Amazon's valuation and profitability. However, it's always advisable to consider these in conjunction with other financial indicators and qualitative factors before making investment decisions.\n"
          ]
        },
        {
          "output_type": "display_data",
          "data": {
            "text/plain": [
              "<IPython.core.display.Markdown object>"
            ],
            "text/markdown": "For Amazon (symbol: AMZN), here are the two important metrics for fundamental analysis:\n\n1. **Price-to-Earnings (P/E) Ratio**: The P/E ratio for Amazon is 50.41. This indicates how much investors are willing to pay per dollar of earnings, and a higher P/E ratio might suggest that the stock is overvalued compared to its earnings.\n\n2. **Return on Equity (ROE)**: The ROE for Amazon is 22.56%. This measures the company's profitability by showing how much profit it generates with the money shareholders have invested. A higher ROE indicates more efficient use of equity.\n\nThese metrics provide insights into Amazon's valuation and profitability. However, it's always advisable to consider these in conjunction with other financial indicators and qualitative factors before making investment decisions."
          },
          "metadata": {}
        }
      ]
    },
    {
      "cell_type": "code",
      "source": [
        "query = 'do the same for google'\n",
        "call_conversational_agent(agent=financial_analyst_agent,\n",
        "                          prompt=query,\n",
        "                          user_session_id=uid,\n",
        "                          verbose=False)"
      ],
      "metadata": {
        "colab": {
          "base_uri": "https://localhost:8080/",
          "height": 202
        },
        "id": "d31YzMp0QePA",
        "outputId": "1b2835e6-becb-4f6f-ce1c-3721b20df735"
      },
      "execution_count": 16,
      "outputs": [
        {
          "output_type": "stream",
          "name": "stdout",
          "text": [
            "Running Agent. Please wait...\n"
          ]
        },
        {
          "output_type": "display_data",
          "data": {
            "text/plain": [
              "<IPython.core.display.Markdown object>"
            ],
            "text/markdown": "For Alphabet Inc. (Google) with the stock ticker GOOGL, here are the two important metrics for fundamental analysis:\n\n1. **Price-to-Earnings (P/E) Ratio**: The P/E ratio for Alphabet Inc. is 25.41. This indicates how much investors are willing to pay per dollar of earnings, and a lower P/E ratio might suggest that the stock is undervalued compared to its earnings.\n\n2. **Return on Equity (ROE)**: The ROE for Alphabet Inc. is 32.10%. This measures the company's profitability by showing how much profit it generates with the money shareholders have invested. A higher ROE indicates more efficient use of equity.\n\nThese metrics provide insights into Alphabet Inc.'s valuation and profitability. As always, it's advisable to consider these in conjunction with other financial indicators and qualitative factors before making investment decisions."
          },
          "metadata": {}
        }
      ]
    },
    {
      "cell_type": "code",
      "source": [
        "query = 'which stock might be the better pick?'\n",
        "call_conversational_agent(agent=financial_analyst_agent,\n",
        "                          prompt=query,\n",
        "                          user_session_id=uid,\n",
        "                          verbose=True)"
      ],
      "metadata": {
        "colab": {
          "base_uri": "https://localhost:8080/",
          "height": 947
        },
        "id": "5RrG_amC6GdX",
        "outputId": "f2ccb17d-c5bc-46f9-d019-967e56bcc600"
      },
      "execution_count": 17,
      "outputs": [
        {
          "output_type": "stream",
          "name": "stdout",
          "text": [
            "Running Agent. Please wait...\n",
            "================================\u001b[1m Human Message \u001b[0m=================================\n",
            "\n",
            "which stock might be the better pick?\n",
            "==================================\u001b[1m Ai Message \u001b[0m==================================\n",
            "\n",
            "When comparing Amazon (AMZN) and Alphabet Inc. (GOOGL), here are some key considerations based on the fundamental metrics:\n",
            "\n",
            "1. **Price-to-Earnings (P/E) Ratio**:\n",
            "   - **Amazon (AMZN)**: 50.41\n",
            "   - **Alphabet Inc. (GOOGL)**: 25.41\n",
            "   - A lower P/E ratio might suggest that Alphabet is more reasonably valued compared to Amazon.\n",
            "\n",
            "2. **Return on Equity (ROE)**:\n",
            "   - **Amazon (AMZN)**: 22.56%\n",
            "   - **Alphabet Inc. (GOOGL)**: 32.10%\n",
            "   - Alphabet has a higher ROE, indicating it is more efficient in generating profit from shareholders' equity.\n",
            "\n",
            "3. **Growth Prospects**:\n",
            "   - Consider the growth prospects and market position of each company. Alphabet has shown strong earnings growth, which might be appealing to growth-oriented investors.\n",
            "\n",
            "4. **Industry and Market Trends**:\n",
            "   - Both companies are leaders in their respective industries, but they operate in different sectors. Consider the industry trends and how each company is positioned to capitalize on them.\n",
            "\n",
            "5. **Risk Factors**:\n",
            "   - Evaluate the risk factors associated with each company, including market volatility, regulatory challenges, and competitive pressures.\n",
            "\n",
            "Ultimately, the decision on which stock might be the better pick depends on your investment goals, risk tolerance, and market outlook. It's important to conduct thorough research and consider both quantitative and qualitative factors before making an investment decision.\n"
          ]
        },
        {
          "output_type": "display_data",
          "data": {
            "text/plain": [
              "<IPython.core.display.Markdown object>"
            ],
            "text/markdown": "When comparing Amazon (AMZN) and Alphabet Inc. (GOOGL), here are some key considerations based on the fundamental metrics:\n\n1. **Price-to-Earnings (P/E) Ratio**:\n   - **Amazon (AMZN)**: 50.41\n   - **Alphabet Inc. (GOOGL)**: 25.41\n   - A lower P/E ratio might suggest that Alphabet is more reasonably valued compared to Amazon.\n\n2. **Return on Equity (ROE)**:\n   - **Amazon (AMZN)**: 22.56%\n   - **Alphabet Inc. (GOOGL)**: 32.10%\n   - Alphabet has a higher ROE, indicating it is more efficient in generating profit from shareholders' equity.\n\n3. **Growth Prospects**:\n   - Consider the growth prospects and market position of each company. Alphabet has shown strong earnings growth, which might be appealing to growth-oriented investors.\n\n4. **Industry and Market Trends**:\n   - Both companies are leaders in their respective industries, but they operate in different sectors. Consider the industry trends and how each company is positioned to capitalize on them.\n\n5. **Risk Factors**:\n   - Evaluate the risk factors associated with each company, including market volatility, regulatory challenges, and competitive pressures.\n\nUltimately, the decision on which stock might be the better pick depends on your investment goals, risk tolerance, and market outlook. It's important to conduct thorough research and consider both quantitative and qualitative factors before making an investment decision."
          },
          "metadata": {}
        }
      ]
    },
    {
      "cell_type": "code",
      "source": [
        "uid = 'bond007'\n",
        "query = 'how is nvidia doing currently?'\n",
        "call_conversational_agent(agent=financial_analyst_agent,\n",
        "                          prompt=query,\n",
        "                          user_session_id=uid,\n",
        "                          verbose=True)"
      ],
      "metadata": {
        "colab": {
          "base_uri": "https://localhost:8080/",
          "height": 1000
        },
        "id": "1aOil0mA6X5b",
        "outputId": "99d1f702-cecb-4cac-871a-71463b168341"
      },
      "execution_count": 18,
      "outputs": [
        {
          "output_type": "stream",
          "name": "stdout",
          "text": [
            "Running Agent. Please wait...\n",
            "================================\u001b[1m Human Message \u001b[0m=================================\n",
            "\n",
            "how is nvidia doing currently?\n",
            "==================================\u001b[1m Ai Message \u001b[0m==================================\n",
            "Tool Calls:\n",
            "  get_stock_ticker_symbol (call_GpPId6CDs5skGaPgXZE3MRrT)\n",
            " Call ID: call_GpPId6CDs5skGaPgXZE3MRrT\n",
            "  Args:\n",
            "    stock_name: Nvidia\n",
            "=================================\u001b[1m Tool Message \u001b[0m=================================\n",
            "Name: get_stock_ticker_symbol\n",
            "\n",
            "Here are the details of the company and its stock ticker symbol:\n",
            "\n",
            "|    | symbol   | name        |     cik |\n",
            "|---:|:---------|:------------|--------:|\n",
            "|  0 | NVDA     | NVIDIA CORP | 1045810 |\n",
            "==================================\u001b[1m Ai Message \u001b[0m==================================\n",
            "Tool Calls:\n",
            "  get_stock_price_metrics (call_lJJ2aBKhmbm1rgskOpdg3AvB)\n",
            " Call ID: call_lJJ2aBKhmbm1rgskOpdg3AvB\n",
            "  Args:\n",
            "    stock_ticker: NVDA\n",
            "  get_stock_fundamental_indicator_metrics (call_hCKl05qxndx9GtXGyCta0g59)\n",
            " Call ID: call_hCKl05qxndx9GtXGyCta0g59\n",
            "  Args:\n",
            "    stock_ticker: NVDA\n",
            "  get_stock_news (call_LESN86ty37xtnVPg6uAq9DcE)\n",
            " Call ID: call_LESN86ty37xtnVPg6uAq9DcE\n",
            "  Args:\n",
            "    stock_ticker: NVDA\n",
            "=================================\u001b[1m Tool Message \u001b[0m=================================\n",
            "Name: get_stock_news\n",
            "\n",
            "Here are the recent news headlines for the stock ticker symbol NVDA: \n",
            "\n",
            "| date                      | symbols   | title                                                                                                                                                                                        |\n",
            "|:--------------------------|:----------|:---------------------------------------------------------------------------------------------------------------------------------------------------------------------------------------------|\n",
            "| 2024-08-16 11:00:00-04:00 | NVDA      | NVIDIA Corporation Shareholders Invited To Join Fraud Investigation With The Schall Law Firm                                                                                                 |\n",
            "| 2024-08-16 16:00:00-04:00 | NVDA      | NVIDIA Corporation (NVDA) Investigation: Bronstein, Gewirtz & Grossman, LLC Encourages Investors to Seek Compensation for Alleged Wrongdoings                                                |\n",
            "| 2024-08-17 11:00:00-04:00 | NVDA      | NVIDIA Corporation Investors Encouraged To Join Fraud Investigation With The Schall Law Firm                                                                                                 |\n",
            "| 2024-08-18 11:00:00-04:00 | NVDA      | NVIDIA Corporation Shareholders Invited To Join Fraud Investigation With The Schall Law Firm                                                                                                 |\n",
            "| 2024-08-19 07:25:00-04:00 | NVDA      | Investors who lost money on NVIDIA Corporation should contact Levi & Korsinsky about an ongoing investigation - NVDA                                                                         |\n",
            "| 2024-08-19 11:00:00-04:00 | NVDA      | Investors With Losses In NVIDIA Corporation Urged To Participate In Fraud Investigation With The Schall Law Firm                                                                             |\n",
            "| 2024-08-19 16:00:00-04:00 | NVDA      | NVIDIA Corporation (NVDA) Investigation: Bronstein, Gewirtz & Grossman, LLC Encourages Investors to Seek Compensation for Alleged Wrongdoings                                                |\n",
            "| 2024-08-20 07:20:00-04:00 | NVDA      | NVDA ALERT- Levi & Korsinsky Has Commenced an Investigation on Behalf of NVIDIA Corporation Shareholders Who Lost Money                                                                      |\n",
            "| 2024-08-20 08:50:00-04:00 | NVDA      | Electric Aviation Market Estimated to Reach $37 Billion By 2030 as Demand for Environment-Friendly Aircraft Rises                                                                            |\n",
            "| 2024-08-22 08:45:00-04:00 | NVDA      | Artificial Intelligence Influence on Global E-Commerce Market Expected to Skyrocket to&#xA0;$25 Billion By 2032&#xA0;                                                                        |\n",
            "| 2024-08-27 09:00:00-04:00 | NVDA      | NVIDIA and Global Partners Launch NIM Agent Blueprints for Enterprises to Make Their Own AI                                                                                                  |\n",
            "| 2024-08-28 16:20:03-04:00 | NVDA      | NVIDIA Announces Financial Results for Second Quarter Fiscal 2025                                                                                                                            |\n",
            "| 2024-08-29 17:00:00-04:00 | NVDA      | NVIDIA Announces Upcoming Event for Financial Community                                                                                                                                      |\n",
            "| 2024-09-09 09:00:00-04:00 | NVDA      | Remark Holdings to present at Oracle Cloud World 2024 as part of the Data and AI Pavilion accelerated by NVIDIA                                                                              |\n",
            "| 2024-09-10 08:30:00-04:00 | NVDA      | Significant Growth Expected for Global Food Packaging Solutions as Market&#xA0;Size Expected to Reach $592 Billion By 2033                                                                   |\n",
            "| 2024-10-08 11:21:21-04:00 | NVDA      | US Technology Leaders Tap NVIDIA AI Software to Transform World's Industries                                                                                                                 |\n",
            "| 2024-10-15 12:30:00-04:00 | NVDA      | NVIDIA Contributes Blackwell Platform Design to Open Hardware Ecosystem, Accelerating AI Infrastructure Innovation                                                                           |\n",
            "| 2024-10-22 17:30:00-04:00 | NVDA      | Purpose Investments Inc. Announces Risk Rating Change for NVIDIA (NVDA) Yield Shares Purpose ETF                                                                                             |\n",
            "| 2024-10-23 08:45:00-04:00 | NVDA      | Global Cloud Storage Market Expected to Reach $234 Billion By 2028 as Tech Stocks Chase Big Opportunities in Big Data                                                                        |\n",
            "| 2024-10-24 08:00:00-04:00 | NVDA      | Nasdaq Giants and Rising Innovators Face Critical Earnings Reports This Quarter                                                                                                              |\n",
            "| 2024-10-24 08:45:00-04:00 | NVDA      | Billion Dollar Commercial Drone Market Poised for Continued Growth, Driven by A.I. Technological Advances                                                                                    |\n",
            "| 2024-10-28 11:00:00-04:00 | NVDA      | NVIDIA Ethernet Networking Accelerates World's Largest AI Supercomputer, Built by xAI                                                                                                        |\n",
            "| 2024-10-30 17:00:00-04:00 | NVDA      | NVIDIA Sets Conference Call for Third-Quarter Financial Results                                                                                                                              |\n",
            "| 2024-11-01 19:01:00-04:00 | NVDA      | NVIDIA and Sherwin-Williams Set to Join Dow Jones Industrial Average; Vistra to Join Dow Jones Utility Average                                                                               |\n",
            "| 2024-11-07 16:30:00-05:00 | NVDA      | NVIDIA Names Ellen Ochoa to Board of Directors                                                                                                                                               |\n",
            "| 2024-11-12 08:55:00-05:00 | NVDA      | Global Artificial Intelligence (AI) Influence on Healthcare Market Expected to Reach $148 Billion By 2029                                                                                    |\n",
            "| 2024-11-12 20:59:50-05:00 | NVDA      | NVIDIA and SoftBank Corp. Accelerate Japan's Journey to Global AI Powerhouse                                                                                                                 |\n",
            "| 2024-11-12 21:07:26-05:00 | NVDA      | Japan Cloud Leaders Build NVIDIA AI Infrastructure to Transform Industries for the Age of AI                                                                                                 |\n",
            "| 2024-11-14 02:30:00-05:00 | NVDA      | Artmarket.com: Q3 2024 revenue +13%. Study on AI search engines shows Artprice has the world's biggest, best and most useful art market database, thanks to its Intuitive Artmarket&#xAE; AI |\n",
            "| 2024-11-14 02:30:00-05:00 | NVDA      | Artmarket.com: Q3 2024 revenue +13%. Study on AI search engines shows Artprice has the world's biggest, best and most useful art market database, thanks to its Intuitive Artmarket&#xAE; AI |\n",
            "| 2024-11-18 13:30:00-05:00 | NVDA      | NVIDIA Accelerates Google Quantum AI Processor Design With Simulation of Quantum Device Physics                                                                                              |\n",
            "| 2024-11-18 13:30:00-05:00 | NVDA      | NVIDIA Opens BioNeMo to Scale Digital Biology for Global Biopharma and Scientific Industry                                                                                                   |\n",
            "| 2024-11-18 13:33:10-05:00 | NVDA      | NVIDIA Announces Omniverse Real-Time Physics Digital Twins&#xA0;With Industry Software Leaders                                                                                               |\n",
            "| 2024-11-20 09:00:00-05:00 | NVDA      | Why the Next Big Artificial Intelligence (AI) Play Could be in the Nuclear Power Industry                                                                                                    |\n",
            "| 2024-11-20 16:20:14-05:00 | NVDA      | NVIDIA Announces Financial Results for Third Quarter Fiscal 2025                                                                                                                             |\n",
            "| 2024-11-21 17:00:00-05:00 | NVDA      | NVIDIA Announces Upcoming Events for Financial Community                                                                                                                                     |\n",
            "| 2024-12-05 12:35:58-05:00 | NVDA      | NVIDIA to Open Vietnam R&D Center to Bolster AI Development                                                                                                                                  |\n",
            "| 2024-12-10 09:15:00-05:00 | NVDA      | Artificial Intelligence Substantial Influence on Data Center Industry Redefining Operations                                                                                                  |\n",
            "| 2024-12-18 09:15:00-05:00 | NVDA      | Quantum Computing Market Infused with Artificial Intelligence Poised for Significant Usage & Growth                                                                                          |\n",
            "| 2024-12-18 16:00:00-05:00 | NVDA      | EQTY Lab, Intel, and NVIDIA Unveil 'Verifiable Compute,' A Solution to Secure Trusted AI                                                                                                     |\n",
            "| 2025-01-06 22:06:15-05:00 | NVDA      | NVIDIA Blackwell GeForce RTX 50 Series Opens New World of AI Computer Graphics                                                                                                               |\n",
            "| 2025-01-06 22:25:27-05:00 | NVDA      | NVIDIA Launches AI Foundation Models for RTX AI PCs                                                                                                                                          |\n",
            "| 2025-01-06 22:41:57-05:00 | NVDA      | NVIDIA Launches Cosmos World Foundation Model Platform to Accelerate Physical AI Development                                                                                                 |\n",
            "| 2025-01-06 22:51:02-05:00 | NVDA      | NVIDIA Expands Omniverse With Generative Physical AI                                                                                                                                         |\n",
            "| 2025-01-06 22:53:03-05:00 | NVDA      | Toyota, Aurora and Continental Join Growing List of NVIDIA Partners Rolling Out Next-Generation Highly Automated and Autonomous Vehicle Fleets                                               |\n",
            "| 2025-01-06 22:56:41-05:00 | NVDA      | NVIDIA DRIVE Hyperion Platform Achieves Critical Automotive Safety and Cybersecurity Milestones for AV Development                                                                           |\n",
            "| 2025-01-06 23:10:17-05:00 | NVDA      | NVIDIA Puts Grace Blackwell on Every Desk and at Every AI Developer's Fingertips                                                                                                             |\n",
            "| 2025-01-10 09:00:00-05:00 | NVDA      | NVIDIA Announces Blueprint for AI Retail Shopping Assistants                                                                                                                                 |\n",
            "| 2025-01-13 09:00:00-05:00 | NVDA      | NVIDIA Partners With Industry Leaders to Advance Genomics, Drug Discovery and Healthcare                                                                                                     |\n",
            "| 2025-01-14 09:00:00-05:00 | NVDA      | Carbon Fiber Market Projected to Grow Significantly as Increasing Demand for Growing Number of Industries Rises                                                                              |\n",
            "==================================\u001b[1m Ai Message \u001b[0m==================================\n",
            "\n",
            "Here's a comprehensive overview of NVIDIA Corporation (symbol: NVDA) as of the latest data:\n",
            "\n",
            "### Stock Price Metrics\n",
            "- **Current Price**: \\$120.18\n",
            "- **Price Change**: -\\$24.20 (-20.44%)\n",
            "- **52-Week High**: \\$153.13\n",
            "- **52-Week Low**: \\$60.70\n",
            "- **Volume**: 818,830,895 shares\n",
            "\n",
            "### Fundamental Indicators\n",
            "- **Market Cap**: \\$2.9 trillion\n",
            "- **PE Ratio**: 46.62\n",
            "- **Forward PE**: 26.63\n",
            "- **PEG Ratio (TTM)**: 1.022\n",
            "- **Gross Margin**: 75.98%\n",
            "- **Operating Margin**: 62.06%\n",
            "- **Profit Margin**: 55.04%\n",
            "- **Return on Equity**: 123.77%\n",
            "\n",
            "### Recent News\n",
            "- **NVIDIA Launches AI Foundation Models for RTX AI PCs** (Jan 6, 2025)\n",
            "- **NVIDIA Expands Omniverse With Generative Physical AI** (Jan 6, 2025)\n",
            "- **NVIDIA Announces Blueprint for AI Retail Shopping Assistants** (Jan 10, 2025)\n",
            "- **NVIDIA Partners With Industry Leaders to Advance Genomics, Drug Discovery, and Healthcare** (Jan 13, 2025)\n",
            "\n",
            "### Analysis\n",
            "NVIDIA is currently experiencing a significant price drop, with a notable decrease in its stock price. Despite this, the company maintains strong fundamental metrics, including a high market cap and robust profit margins. Recent news highlights NVIDIA's continued innovation in AI and partnerships in various industries, which may influence future performance.\n",
            "\n",
            "Please let me know if you need more specific details or further analysis!\n"
          ]
        },
        {
          "output_type": "display_data",
          "data": {
            "text/plain": [
              "<IPython.core.display.Markdown object>"
            ],
            "text/markdown": "Here's a comprehensive overview of NVIDIA Corporation (symbol: NVDA) as of the latest data:\n\n### Stock Price Metrics\n- **Current Price**: \\$120.18\n- **Price Change**: -\\$24.20 (-20.44%)\n- **52-Week High**: \\$153.13\n- **52-Week Low**: \\$60.70\n- **Volume**: 818,830,895 shares\n\n### Fundamental Indicators\n- **Market Cap**: \\$2.9 trillion\n- **PE Ratio**: 46.62\n- **Forward PE**: 26.63\n- **PEG Ratio (TTM)**: 1.022\n- **Gross Margin**: 75.98%\n- **Operating Margin**: 62.06%\n- **Profit Margin**: 55.04%\n- **Return on Equity**: 123.77%\n\n### Recent News\n- **NVIDIA Launches AI Foundation Models for RTX AI PCs** (Jan 6, 2025)\n- **NVIDIA Expands Omniverse With Generative Physical AI** (Jan 6, 2025)\n- **NVIDIA Announces Blueprint for AI Retail Shopping Assistants** (Jan 10, 2025)\n- **NVIDIA Partners With Industry Leaders to Advance Genomics, Drug Discovery, and Healthcare** (Jan 13, 2025)\n\n### Analysis\nNVIDIA is currently experiencing a significant price drop, with a notable decrease in its stock price. Despite this, the company maintains strong fundamental metrics, including a high market cap and robust profit margins. Recent news highlights NVIDIA's continued innovation in AI and partnerships in various industries, which may influence future performance.\n\nPlease let me know if you need more specific details or further analysis!"
          },
          "metadata": {}
        }
      ]
    },
    {
      "cell_type": "code",
      "source": [
        "query = 'what about intel?'\n",
        "call_conversational_agent(agent=financial_analyst_agent,\n",
        "                          prompt=query,\n",
        "                          user_session_id=uid,\n",
        "                          verbose=False)"
      ],
      "metadata": {
        "colab": {
          "base_uri": "https://localhost:8080/",
          "height": 570
        },
        "id": "J5lhZPpe6iMK",
        "outputId": "8cee022e-4864-4d09-ce92-3678c9c0dcbd"
      },
      "execution_count": 19,
      "outputs": [
        {
          "output_type": "stream",
          "name": "stdout",
          "text": [
            "Running Agent. Please wait...\n"
          ]
        },
        {
          "output_type": "display_data",
          "data": {
            "text/plain": [
              "<IPython.core.display.Markdown object>"
            ],
            "text/markdown": "Here's a detailed overview of Intel Corporation (symbol: INTC) as of the latest data:\n\n### Stock Price Metrics\n- **Current Price**: \\$20.42\n- **Price Change**: -\\$0.54 (-2.66%)\n- **52-Week High**: \\$46.63\n- **52-Week Low**: \\$18.51\n- **Volume**: 83,582,097 shares\n\n### Fundamental Indicators\n- **Market Cap**: \\$87.51 billion\n- **Forward PE Ratio**: 21.51\n- **PEG Ratio (TTM)**: 0.618\n- **Gross Margin**: 40.07%\n- **Operating Margin**: -1.05%\n- **Profit Margin**: -29.42%\n- **Return on Equity**: -15.60%\n\n### Recent News\n- **Intel Extends Leadership in AI PCs and Edge Computing at CES 2025** (Jan 6, 2025)\n- **Intel to Report Fourth-Quarter and Full-Year 2024 Financial Results** (Jan 8, 2025)\n- **Intel Capital to Become Standalone Investment Fund** (Jan 14, 2025)\n- **Intel and Biden-Harris Administration Finalize $7.86 Billion Funding Award Under US CHIPS Act** (Nov 26, 2024)\n\n### Analysis\nIntel is currently facing challenges with a significant drop in stock price and negative profit margins. However, the company is actively involved in strategic initiatives, including AI and edge computing, and has received substantial funding under the US CHIPS Act. These efforts may help improve its market position in the future.\n\nIf you need more specific details or further analysis, feel free to ask!"
          },
          "metadata": {}
        }
      ]
    },
    {
      "cell_type": "code",
      "source": [
        "query = 'which is a better stock to pick?'\n",
        "call_conversational_agent(agent=financial_analyst_agent,\n",
        "                          prompt=query,\n",
        "                          user_session_id=uid,\n",
        "                          verbose=False)"
      ],
      "metadata": {
        "colab": {
          "base_uri": "https://localhost:8080/",
          "height": 553
        },
        "id": "vIVsr-Bn6oXl",
        "outputId": "143db8bb-ab59-4388-af8f-3f9f04a55bd3"
      },
      "execution_count": 20,
      "outputs": [
        {
          "output_type": "stream",
          "name": "stdout",
          "text": [
            "Running Agent. Please wait...\n"
          ]
        },
        {
          "output_type": "display_data",
          "data": {
            "text/plain": [
              "<IPython.core.display.Markdown object>"
            ],
            "text/markdown": "When considering which stock to pick between NVIDIA (NVDA) and Intel (INTC), it's important to evaluate several factors, including financial performance, market position, growth potential, and risk. Here's a brief comparison based on the latest data:\n\n### NVIDIA (NVDA)\n- **Market Cap**: \\$2.9 trillion\n- **PE Ratio**: 46.62\n- **Profit Margin**: 55.04%\n- **Recent Performance**: Significant price drop, but strong fundamentals and continued innovation in AI.\n- **Growth Potential**: High, with strong involvement in AI and technology sectors.\n\n### Intel (INTC)\n- **Market Cap**: \\$87.51 billion\n- **Forward PE Ratio**: 21.51\n- **Profit Margin**: -29.42%\n- **Recent Performance**: Price decline and negative profit margins, but strategic initiatives in AI and government support.\n- **Growth Potential**: Moderate, with challenges in profitability but potential upside from strategic initiatives.\n\n### Considerations\n- **NVIDIA** is currently more profitable and has a strong market position, especially in AI and technology. However, its stock is more expensive in terms of PE ratio.\n- **Intel** is facing profitability challenges but is involved in strategic initiatives that could lead to future growth. Its stock is cheaper in terms of valuation.\n\n### Recommendation\n- **NVIDIA** may be a better pick for those looking for a company with strong growth potential and profitability in the tech sector.\n- **Intel** might appeal to investors looking for a turnaround story with potential upside from strategic initiatives.\n\nUltimately, the decision should align with your investment goals, risk tolerance, and market outlook. It's advisable to conduct further research and consider consulting with a financial advisor before making any investment decisions."
          },
          "metadata": {}
        }
      ]
    },
    {
      "cell_type": "markdown",
      "source": [
        "We have successfully built an AI Agent which can do detailed financial analysis for us and is completely conversational. Next up we will see how to use persistent memory on the disk"
      ],
      "metadata": {
        "id": "dtXAlOdBxt-j"
      }
    },
    {
      "cell_type": "markdown",
      "source": [
        "# Build a Multi-User Conversational Financial Analyst Tool-Use AI Agent with On-Disk Persistence with LangGraph"
      ],
      "metadata": {
        "id": "7-W4DpF43-1C"
      }
    },
    {
      "cell_type": "markdown",
      "source": [
        "This project will focus on building a Tool-Use Agentic AI System which acts as a Financial Analyst & Advisor. This agent will be conversational and can handle multiple user-sessions with their own separate conversational history.\n",
        "\n",
        "The first project here will build a conversational tool-use agentic system with on-disk persistence.\n",
        "\n",
        "![](https://i.imgur.com/dKD7L6Q.png)\n",
        "\n",
        "### Financial Analyst Tool-Use Agentic AI System with In-Memory Persistence\n",
        "\n",
        "This project focuses on building a **Tool-Use Agentic AI System** that acts as a Financial Analyst & Advisor. The agent will be conversational and can handle multiple user sessions with their own separate conversational history. By leveraging the `create_react_agent` function from **LangGraph**, this project adds in-memory persistence for enhanced user interaction continuity. The workflow comprises the following components:\n",
        "\n",
        "1. **Agent System Prompt**:\n",
        "   - The agent validates input queries for relevance and specificity.\n",
        "   - It provides detailed market analysis or stock-specific insights depending on the user's query.\n",
        "   - For invalid queries, the agent responds professionally and guides the user appropriately.\n",
        "   - The system delivers concise, professional responses emphasizing data clarity and accuracy.\n",
        "\n",
        "   **Flows**:\n",
        "   - **Flow 1**: For general market trends, the agent analyzes data and suggests stock opportunities using tools like `SEARCH_WEB` and `GET_GENERAL_MARKET_DATA`.\n",
        "   - **Flow 2**: For stock-specific queries, the agent validates the stock ticker, retrieves relevant data, and provides insights using tools such as `GET_STOCK_FUNDAMENTAL_INDICATOR_METRICS` and `GET_STOCK_PRICE_METRICS`.\n",
        "\n",
        "2. **Financial Analysis Tools**:\n",
        "   The system integrates multiple tools to ensure comprehensive and precise insights:\n",
        "   - **SEARCH_WEB**: Fetches general stock market information from the web.\n",
        "   - **GET_STOCK_FUNDAMENTAL_INDICATOR_METRICS**: Provides insights into key financial metrics such as P/E ratio, ROE, etc.\n",
        "   - **GET_STOCK_NEWS**: Extracts the latest news and updates related to stocks or markets.\n",
        "   - **GET_GENERAL_MARKET_DATA**: Fetches data on overall market trends and performance.\n",
        "   - **GET_STOCK_TICKER**: Validates and fetches stock ticker symbols based on user queries.\n",
        "   - **GET_STOCK_PRICE_METRICS**: Retrieves price trends, performance, and metrics for specific stocks.\n",
        "\n",
        "3. **Stock Market Data Providers**:\n",
        "   The system ensures real-time, reliable data by integrating with top providers like Yahoo Finance, Finviz, TMX, Cboe, and more, through platforms such as **OpenBB**.\n",
        "\n",
        "4. **Memory Module**:\n",
        "   - A memory module is introduced to store and manage user-specific conversational histories.\n",
        "   - This enables the agent to maintain session continuity and provide context-aware responses for recurring users or prolonged interactions. __Here we store this on-disk in a database.__\n",
        "\n",
        "5. **Message Trimmer**:\n",
        "   - Trims responses to ensure they are concise, professional, and reader-friendly, improving user experience and response quality.\n",
        "\n",
        "6. **ReAct Reasoning Framework**:\n",
        "   - The system employs **ReAct reasoning**, combining logical deduction with dynamic tool usage. This framework ensures precise and actionable results by dynamically selecting the right tools based on the query.\n",
        "\n",
        "7. **Final Response**:\n",
        "   - After processing the data from tool calls, the agentic system generates the final response.\n",
        "\n",
        "\n"
      ],
      "metadata": {
        "id": "v8GYJC8w3-1D"
      }
    },
    {
      "cell_type": "markdown",
      "source": [
        "### Build the Conversational Tool-use Agentic AI System with Persistent On-disk External Memory Store\n",
        "\n",
        "Here we use a persistent SQLite database to permanently store our conversations between the agent and the user.\n",
        "\n",
        "We will use `SqliteSaver` which helps to store separate conversation histories per user or session.\n",
        "\n",
        "This will help us build a conversational Agentic Chatbot which will be accessed by many users at the same time. The memory is persisted on-disk so can be accessed anytime.\n",
        "\n"
      ],
      "metadata": {
        "id": "rcfps7EJy570"
      }
    },
    {
      "cell_type": "code",
      "source": [
        "# removes the memory database file - usually not needed\n",
        "# you can run this only when you want to remove ALL conversation histories\n",
        "# ok if you get rm: cannot remove 'memory.db': No such file or directory  because initially no memory exists\n",
        "!rm memory.db*"
      ],
      "metadata": {
        "id": "Cph9LvyvIRrA"
      },
      "execution_count": null,
      "outputs": []
    },
    {
      "cell_type": "code",
      "source": [
        "from typing import Annotated\n",
        "\n",
        "from langchain_openai import ChatOpenAI\n",
        "from langchain_core.messages import BaseMessage\n",
        "from typing_extensions import TypedDict\n",
        "\n",
        "from langgraph.graph import StateGraph, START, END\n",
        "from langgraph.graph.message import add_messages\n",
        "from langgraph.prebuilt import ToolNode, tools_condition\n",
        "from langchain_core.messages import HumanMessage, SystemMessage, RemoveMessage\n",
        "from langchain_core.messages import trim_messages\n",
        "\n",
        "\n",
        "class State(TypedDict):\n",
        "    messages: Annotated[list, add_messages]\n",
        "\n",
        "\n",
        "graph_builder = StateGraph(State)\n",
        "\n",
        "tools = [get_stock_ticker_symbol,\n",
        "         get_stock_price_metrics,\n",
        "         get_stock_fundamental_indicator_metrics,\n",
        "         get_stock_news,\n",
        "         search_web,\n",
        "         get_general_market_data]\n",
        "\n",
        "llm = ChatOpenAI(model=\"gpt-4o\", temperature=0)\n",
        "llm_with_tools = llm.bind_tools(tools)\n",
        "\n",
        "\n",
        "\n",
        "SYS_MSG = SystemMessage(content=AGENT_SYS_PROMPT)\n",
        "def chatbot(state: State):\n",
        "    messages = trim_messages(\n",
        "            state[\"messages\"],\n",
        "            max_tokens=127000,\n",
        "            strategy=\"last\",\n",
        "            token_counter=ChatOpenAI(model=\"gpt-4o\"),\n",
        "            allow_partial=True,\n",
        "    )\n",
        "    return {\"messages\": [llm_with_tools.invoke([SYS_MSG] + messages)]}\n",
        "\n",
        "graph_builder.add_node(\"chatbot\", chatbot)\n",
        "\n",
        "tool_node = ToolNode(tools=tools)\n",
        "graph_builder.add_node(\"tools\", tool_node)\n",
        "\n",
        "graph_builder.add_conditional_edges(\n",
        "    \"chatbot\",\n",
        "    tools_condition,\n",
        ")\n",
        "# Any time a tool is called, we return to the chatbot to decide the next step\n",
        "graph_builder.add_edge(\"tools\", \"chatbot\")\n",
        "graph_builder.set_entry_point(\"chatbot\")\n",
        "\n",
        "memory = MemorySaver()\n",
        "financial_analyst_agent = graph_builder.compile()"
      ],
      "metadata": {
        "id": "qzwnf7vfzTiI"
      },
      "execution_count": null,
      "outputs": []
    },
    {
      "cell_type": "code",
      "source": [
        "from IPython.display import Image, display, Markdown\n",
        "\n",
        "display(Image(financial_analyst_agent.get_graph().draw_mermaid_png()))"
      ],
      "metadata": {
        "id": "d8jgYAwTIptc"
      },
      "execution_count": null,
      "outputs": []
    },
    {
      "cell_type": "code",
      "source": [
        "from langgraph.checkpoint.sqlite import SqliteSaver\n",
        "\n",
        "def call_conversational_agent(agent_graph, prompt, user_session_id, verbose=False):\n",
        "    with SqliteSaver.from_conn_string(\"memory.db\") as memory:\n",
        "        agent = agent_graph.compile(checkpointer=memory)\n",
        "        events = agent.stream(\n",
        "            {\"messages\": [{\"role\": \"user\", \"content\": prompt}]},\n",
        "            {\"configurable\": {\"thread_id\": user_session_id}},\n",
        "            stream_mode=\"values\",\n",
        "        )\n",
        "\n",
        "        print('Running Agent, please wait...')\n",
        "        for event in events:\n",
        "            if verbose:\n",
        "                event[\"messages\"][-1].pretty_print()\n",
        "\n",
        "    display(Markdown(event[\"messages\"][-1].content))"
      ],
      "metadata": {
        "id": "byfUQ9vZ-Yjk"
      },
      "execution_count": null,
      "outputs": []
    },
    {
      "cell_type": "markdown",
      "source": [
        "## Test the Agentic System with On-Disk Persistence"
      ],
      "metadata": {
        "id": "NIzN83ZV4imG"
      }
    },
    {
      "cell_type": "markdown",
      "source": [
        "Let's now simulate User 1 using the agent"
      ],
      "metadata": {
        "id": "vYTNL_iJ6ibC"
      }
    },
    {
      "cell_type": "code",
      "source": [
        "uid = 'john001'\n",
        "query = 'analyze overall stock price trends for NVIDIA'\n",
        "call_conversational_agent(agent_graph=graph_builder,\n",
        "                          prompt=query,\n",
        "                          user_session_id=uid,\n",
        "                          verbose=True)"
      ],
      "metadata": {
        "id": "irMU68Ds0NTm"
      },
      "execution_count": null,
      "outputs": []
    },
    {
      "cell_type": "code",
      "source": [
        "query = 'do the same for Intel please'\n",
        "call_conversational_agent(agent_graph=graph_builder,\n",
        "                          prompt=query,\n",
        "                          user_session_id=uid,\n",
        "                          verbose=False)"
      ],
      "metadata": {
        "id": "XT4vtvku0TBW"
      },
      "execution_count": null,
      "outputs": []
    },
    {
      "cell_type": "code",
      "source": [
        "query = 'which is the better pick?'\n",
        "call_conversational_agent(agent_graph=graph_builder,\n",
        "                          prompt=query,\n",
        "                          user_session_id=uid,\n",
        "                          verbose=False)"
      ],
      "metadata": {
        "id": "c2WYu2_AUJ9F"
      },
      "execution_count": null,
      "outputs": []
    },
    {
      "cell_type": "markdown",
      "source": [
        "Let's now simulate User 2 using the agent"
      ],
      "metadata": {
        "id": "B4zIlISy6m-x"
      }
    },
    {
      "cell_type": "code",
      "source": [
        "uid = 'bond007'\n",
        "query = 'summarize key points from NVIDIA earnings call Q4 2024'\n",
        "call_conversational_agent(agent_graph=graph_builder,\n",
        "                          prompt=query,\n",
        "                          user_session_id=uid,\n",
        "                          verbose=True)"
      ],
      "metadata": {
        "id": "ta1RUF_81RxX"
      },
      "execution_count": null,
      "outputs": []
    },
    {
      "cell_type": "code",
      "source": [
        "query = 'do the same for intel'\n",
        "call_conversational_agent(agent_graph=graph_builder,\n",
        "                          prompt=query,\n",
        "                          user_session_id=uid,\n",
        "                          verbose=False)"
      ],
      "metadata": {
        "id": "vfn_Wxxg42rZ"
      },
      "execution_count": null,
      "outputs": []
    },
    {
      "cell_type": "code",
      "source": [
        "query = 'which has a better outlook?'\n",
        "call_conversational_agent(agent_graph=graph_builder,\n",
        "                          prompt=query,\n",
        "                          user_session_id=uid,\n",
        "                          verbose=False)"
      ],
      "metadata": {
        "id": "I7jjxtmz6Qzi"
      },
      "execution_count": null,
      "outputs": []
    }
  ]
}